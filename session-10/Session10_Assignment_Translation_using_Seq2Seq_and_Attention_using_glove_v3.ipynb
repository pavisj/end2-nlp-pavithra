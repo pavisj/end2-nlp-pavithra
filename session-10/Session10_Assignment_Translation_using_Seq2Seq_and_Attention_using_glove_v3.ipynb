{
  "nbformat": 4,
  "nbformat_minor": 0,
  "metadata": {
    "colab": {
      "name": "Session10_Assignment_Translation_using_Seq2Seq_and_Attention_using_glove_v3.ipynb",
      "provenance": [],
      "collapsed_sections": [],
      "machine_shape": "hm"
    },
    "kernelspec": {
      "name": "python3",
      "display_name": "Python 3"
    },
    "language_info": {
      "name": "python"
    },
    "accelerator": "GPU"
  },
  "cells": [
    {
      "cell_type": "code",
      "metadata": {
        "id": "vxCla6HFCtRH"
      },
      "source": [
        "%matplotlib inline"
      ],
      "execution_count": 1,
      "outputs": []
    },
    {
      "cell_type": "markdown",
      "metadata": {
        "id": "_4Sm1RVyDOVE"
      },
      "source": [
        "\n",
        "NLP From Scratch: Translation with a Sequence to Sequence Network and Attention\n",
        "*******************************************************************************\n",
        "**Author**: `Sean Robertson <https://github.com/spro/practical-pytorch>`_\n",
        "[PyTorch Source](https://pytorch.org/tutorials/intermediate/seq2seq_translation_tutorial.html)\n",
        "\n",
        "This is the third and final tutorial on doing \"NLP From Scratch\", where we\n",
        "write our own classes and functions to preprocess the data to do our NLP\n",
        "modeling tasks. We hope after you complete this tutorial that you'll proceed to\n",
        "learn how `torchtext` can handle much of this preprocessing for you in the\n",
        "three tutorials immediately following this one.\n",
        "\n",
        "In this project we will be teaching a neural network to translate from\n",
        "French to English.\n",
        "\n",
        "::\n",
        "\n",
        "    [KEY: > input, = target, < output]\n",
        "\n",
        "    > il est en train de peindre un tableau .\n",
        "    = he is painting a picture .\n",
        "    < he is painting a picture .\n",
        "\n",
        "    > pourquoi ne pas essayer ce vin delicieux ?\n",
        "    = why not try that delicious wine ?\n",
        "    < why not try that delicious wine ?\n",
        "\n",
        "    > elle n est pas poete mais romanciere .\n",
        "    = she is not a poet but a novelist .\n",
        "    < she not not a poet but a novelist .\n",
        "\n",
        "    > vous etes trop maigre .\n",
        "    = you re too skinny .\n",
        "    < you re all alone .\n",
        "\n",
        "... to varying degrees of success.\n",
        "\n",
        "This is made possible by the simple but powerful idea of the [sequence to sequence network](https://arxiv.org/abs/1409.3215), in which two\n",
        "recurrent neural networks work together to transform one sequence to\n",
        "another. An encoder network condenses an input sequence into a vector,\n",
        "and a decoder network unfolds that vector into a new sequence.\n",
        "\n",
        ".. figure:: /_static/img/seq-seq-images/seq2seq.png\n",
        "   :alt:\n",
        "\n",
        "To improve upon this model we'll use an [attention\n",
        "mechanism](https://arxiv.org/abs/1409.0473), which lets the decoder\n",
        "learn to focus over a specific range of the input sequence.\n",
        "\n",
        "**Recommended Reading:**\n",
        "\n",
        "I assume you have at least installed PyTorch, know Python, and\n",
        "understand Tensors:\n",
        "\n",
        "-  https://pytorch.org/ For installation instructions\n",
        "-  [Deep Learning with PyTorch](https://pytorch.org/tutorials/beginner/deep_learning_60min_blitz.html): A 60 Minute Blitz to get started with PyTorch in general\n",
        "-  [Learning PyTorch with Examples](https://pytorch.org/tutorials/beginner/pytorch_with_examples.html) for a wide and deep overview\n",
        "\n",
        "\n",
        "It would also be useful to know about Sequence to Sequence networks and\n",
        "how they work:\n",
        "\n",
        "-  [Learning Phrase Representations using RNN Encoder-Decoder for Statistical Machine Translation](https://arxiv.org/abs/1406.1078)\n",
        "-  [Sequence to Sequence Learning with Neural Networks](https://arxiv.org/abs/1409.3215)\n",
        "-  [Neural Machine Translation by Jointly Learning to Align and Translate](https://arxiv.org/abs/1409.0473)\n",
        "-  [A Neural Conversational Model](https://arxiv.org/abs/1506.05869)\n",
        "\n",
        "\n",
        "\n",
        "![Image](https://pytorch.org/tutorials/_images/seq2seq.png)\n",
        "\n",
        "**Requirements**"
      ]
    },
    {
      "cell_type": "code",
      "metadata": {
        "colab": {
          "base_uri": "https://localhost:8080/"
        },
        "id": "32WwVptLgdFX",
        "outputId": "becf4817-5f34-4de9-a780-f88e48244e16"
      },
      "source": [
        "#bolz not available, install it \n",
        "!pip install bcolz\n",
        "from __future__ import unicode_literals, print_function, division\n",
        "from io import open\n",
        "import unicodedata\n",
        "import string\n",
        "import re\n",
        "import random\n",
        "import bcolz  # to process the data from Glove File \n",
        "import pickle # to dump and load pretrained glove vectors \n",
        "import copy   # to make deepcopy of python lists and dictionaries\n",
        "import operator\n",
        "import numpy as np\n",
        "from pandas import DataFrame # to visualize the glove word embeddings in form of DataFrame\n",
        "import torch\n",
        "import torch.nn as nn\n",
        "from torch import optim\n",
        "import torch.nn.functional as F\n",
        "device = torch.device(\"cuda\" if torch.cuda.is_available() else \"cpu\")"
      ],
      "execution_count": 2,
      "outputs": [
        {
          "output_type": "stream",
          "text": [
            "Collecting bcolz\n",
            "\u001b[?25l  Downloading https://files.pythonhosted.org/packages/5c/4e/23942de9d5c0fb16f10335fa83e52b431bcb8c0d4a8419c9ac206268c279/bcolz-1.2.1.tar.gz (1.5MB)\n",
            "\r\u001b[K     |▎                               | 10kB 21.5MB/s eta 0:00:01\r\u001b[K     |▌                               | 20kB 27.4MB/s eta 0:00:01\r\u001b[K     |▊                               | 30kB 21.0MB/s eta 0:00:01\r\u001b[K     |█                               | 40kB 17.9MB/s eta 0:00:01\r\u001b[K     |█▏                              | 51kB 15.4MB/s eta 0:00:01\r\u001b[K     |█▍                              | 61kB 13.4MB/s eta 0:00:01\r\u001b[K     |█▋                              | 71kB 14.9MB/s eta 0:00:01\r\u001b[K     |█▉                              | 81kB 15.2MB/s eta 0:00:01\r\u001b[K     |██                              | 92kB 12.8MB/s eta 0:00:01\r\u001b[K     |██▎                             | 102kB 13.7MB/s eta 0:00:01\r\u001b[K     |██▌                             | 112kB 13.7MB/s eta 0:00:01\r\u001b[K     |██▊                             | 122kB 13.7MB/s eta 0:00:01\r\u001b[K     |███                             | 133kB 13.7MB/s eta 0:00:01\r\u001b[K     |███▏                            | 143kB 13.7MB/s eta 0:00:01\r\u001b[K     |███▍                            | 153kB 13.7MB/s eta 0:00:01\r\u001b[K     |███▋                            | 163kB 13.7MB/s eta 0:00:01\r\u001b[K     |███▉                            | 174kB 13.7MB/s eta 0:00:01\r\u001b[K     |████                            | 184kB 13.7MB/s eta 0:00:01\r\u001b[K     |████▎                           | 194kB 13.7MB/s eta 0:00:01\r\u001b[K     |████▌                           | 204kB 13.7MB/s eta 0:00:01\r\u001b[K     |████▊                           | 215kB 13.7MB/s eta 0:00:01\r\u001b[K     |█████                           | 225kB 13.7MB/s eta 0:00:01\r\u001b[K     |█████▏                          | 235kB 13.7MB/s eta 0:00:01\r\u001b[K     |█████▍                          | 245kB 13.7MB/s eta 0:00:01\r\u001b[K     |█████▋                          | 256kB 13.7MB/s eta 0:00:01\r\u001b[K     |█████▉                          | 266kB 13.7MB/s eta 0:00:01\r\u001b[K     |██████                          | 276kB 13.7MB/s eta 0:00:01\r\u001b[K     |██████▎                         | 286kB 13.7MB/s eta 0:00:01\r\u001b[K     |██████▌                         | 296kB 13.7MB/s eta 0:00:01\r\u001b[K     |██████▊                         | 307kB 13.7MB/s eta 0:00:01\r\u001b[K     |███████                         | 317kB 13.7MB/s eta 0:00:01\r\u001b[K     |███████▏                        | 327kB 13.7MB/s eta 0:00:01\r\u001b[K     |███████▍                        | 337kB 13.7MB/s eta 0:00:01\r\u001b[K     |███████▋                        | 348kB 13.7MB/s eta 0:00:01\r\u001b[K     |███████▉                        | 358kB 13.7MB/s eta 0:00:01\r\u001b[K     |████████                        | 368kB 13.7MB/s eta 0:00:01\r\u001b[K     |████████▎                       | 378kB 13.7MB/s eta 0:00:01\r\u001b[K     |████████▌                       | 389kB 13.7MB/s eta 0:00:01\r\u001b[K     |████████▊                       | 399kB 13.7MB/s eta 0:00:01\r\u001b[K     |█████████                       | 409kB 13.7MB/s eta 0:00:01\r\u001b[K     |█████████▏                      | 419kB 13.7MB/s eta 0:00:01\r\u001b[K     |█████████▍                      | 430kB 13.7MB/s eta 0:00:01\r\u001b[K     |█████████▋                      | 440kB 13.7MB/s eta 0:00:01\r\u001b[K     |█████████▉                      | 450kB 13.7MB/s eta 0:00:01\r\u001b[K     |██████████                      | 460kB 13.7MB/s eta 0:00:01\r\u001b[K     |██████████▎                     | 471kB 13.7MB/s eta 0:00:01\r\u001b[K     |██████████▋                     | 481kB 13.7MB/s eta 0:00:01\r\u001b[K     |██████████▉                     | 491kB 13.7MB/s eta 0:00:01\r\u001b[K     |███████████                     | 501kB 13.7MB/s eta 0:00:01\r\u001b[K     |███████████▎                    | 512kB 13.7MB/s eta 0:00:01\r\u001b[K     |███████████▌                    | 522kB 13.7MB/s eta 0:00:01\r\u001b[K     |███████████▊                    | 532kB 13.7MB/s eta 0:00:01\r\u001b[K     |████████████                    | 542kB 13.7MB/s eta 0:00:01\r\u001b[K     |████████████▏                   | 552kB 13.7MB/s eta 0:00:01\r\u001b[K     |████████████▍                   | 563kB 13.7MB/s eta 0:00:01\r\u001b[K     |████████████▋                   | 573kB 13.7MB/s eta 0:00:01\r\u001b[K     |████████████▉                   | 583kB 13.7MB/s eta 0:00:01\r\u001b[K     |█████████████                   | 593kB 13.7MB/s eta 0:00:01\r\u001b[K     |█████████████▎                  | 604kB 13.7MB/s eta 0:00:01\r\u001b[K     |█████████████▌                  | 614kB 13.7MB/s eta 0:00:01\r\u001b[K     |█████████████▊                  | 624kB 13.7MB/s eta 0:00:01\r\u001b[K     |██████████████                  | 634kB 13.7MB/s eta 0:00:01\r\u001b[K     |██████████████▏                 | 645kB 13.7MB/s eta 0:00:01\r\u001b[K     |██████████████▍                 | 655kB 13.7MB/s eta 0:00:01\r\u001b[K     |██████████████▋                 | 665kB 13.7MB/s eta 0:00:01\r\u001b[K     |██████████████▉                 | 675kB 13.7MB/s eta 0:00:01\r\u001b[K     |███████████████                 | 686kB 13.7MB/s eta 0:00:01\r\u001b[K     |███████████████▎                | 696kB 13.7MB/s eta 0:00:01\r\u001b[K     |███████████████▌                | 706kB 13.7MB/s eta 0:00:01\r\u001b[K     |███████████████▊                | 716kB 13.7MB/s eta 0:00:01\r\u001b[K     |████████████████                | 727kB 13.7MB/s eta 0:00:01\r\u001b[K     |████████████████▏               | 737kB 13.7MB/s eta 0:00:01\r\u001b[K     |████████████████▍               | 747kB 13.7MB/s eta 0:00:01\r\u001b[K     |████████████████▋               | 757kB 13.7MB/s eta 0:00:01\r\u001b[K     |████████████████▉               | 768kB 13.7MB/s eta 0:00:01\r\u001b[K     |█████████████████               | 778kB 13.7MB/s eta 0:00:01\r\u001b[K     |█████████████████▎              | 788kB 13.7MB/s eta 0:00:01\r\u001b[K     |█████████████████▌              | 798kB 13.7MB/s eta 0:00:01\r\u001b[K     |█████████████████▊              | 808kB 13.7MB/s eta 0:00:01\r\u001b[K     |██████████████████              | 819kB 13.7MB/s eta 0:00:01\r\u001b[K     |██████████████████▏             | 829kB 13.7MB/s eta 0:00:01\r\u001b[K     |██████████████████▍             | 839kB 13.7MB/s eta 0:00:01\r\u001b[K     |██████████████████▋             | 849kB 13.7MB/s eta 0:00:01\r\u001b[K     |██████████████████▉             | 860kB 13.7MB/s eta 0:00:01\r\u001b[K     |███████████████████             | 870kB 13.7MB/s eta 0:00:01\r\u001b[K     |███████████████████▎            | 880kB 13.7MB/s eta 0:00:01\r\u001b[K     |███████████████████▌            | 890kB 13.7MB/s eta 0:00:01\r\u001b[K     |███████████████████▊            | 901kB 13.7MB/s eta 0:00:01\r\u001b[K     |████████████████████            | 911kB 13.7MB/s eta 0:00:01\r\u001b[K     |████████████████████▏           | 921kB 13.7MB/s eta 0:00:01\r\u001b[K     |████████████████████▍           | 931kB 13.7MB/s eta 0:00:01\r\u001b[K     |████████████████████▋           | 942kB 13.7MB/s eta 0:00:01\r\u001b[K     |████████████████████▉           | 952kB 13.7MB/s eta 0:00:01\r\u001b[K     |█████████████████████▏          | 962kB 13.7MB/s eta 0:00:01\r\u001b[K     |█████████████████████▍          | 972kB 13.7MB/s eta 0:00:01\r\u001b[K     |█████████████████████▋          | 983kB 13.7MB/s eta 0:00:01\r\u001b[K     |█████████████████████▉          | 993kB 13.7MB/s eta 0:00:01\r\u001b[K     |██████████████████████          | 1.0MB 13.7MB/s eta 0:00:01\r\u001b[K     |██████████████████████▎         | 1.0MB 13.7MB/s eta 0:00:01\r\u001b[K     |██████████████████████▌         | 1.0MB 13.7MB/s eta 0:00:01\r\u001b[K     |██████████████████████▊         | 1.0MB 13.7MB/s eta 0:00:01\r\u001b[K     |███████████████████████         | 1.0MB 13.7MB/s eta 0:00:01\r\u001b[K     |███████████████████████▏        | 1.1MB 13.7MB/s eta 0:00:01\r\u001b[K     |███████████████████████▍        | 1.1MB 13.7MB/s eta 0:00:01\r\u001b[K     |███████████████████████▋        | 1.1MB 13.7MB/s eta 0:00:01\r\u001b[K     |███████████████████████▉        | 1.1MB 13.7MB/s eta 0:00:01\r\u001b[K     |████████████████████████        | 1.1MB 13.7MB/s eta 0:00:01\r\u001b[K     |████████████████████████▎       | 1.1MB 13.7MB/s eta 0:00:01\r\u001b[K     |████████████████████████▌       | 1.1MB 13.7MB/s eta 0:00:01\r\u001b[K     |████████████████████████▊       | 1.1MB 13.7MB/s eta 0:00:01\r\u001b[K     |█████████████████████████       | 1.1MB 13.7MB/s eta 0:00:01\r\u001b[K     |█████████████████████████▏      | 1.1MB 13.7MB/s eta 0:00:01\r\u001b[K     |█████████████████████████▍      | 1.2MB 13.7MB/s eta 0:00:01\r\u001b[K     |█████████████████████████▋      | 1.2MB 13.7MB/s eta 0:00:01\r\u001b[K     |█████████████████████████▉      | 1.2MB 13.7MB/s eta 0:00:01\r\u001b[K     |██████████████████████████      | 1.2MB 13.7MB/s eta 0:00:01\r\u001b[K     |██████████████████████████▎     | 1.2MB 13.7MB/s eta 0:00:01\r\u001b[K     |██████████████████████████▌     | 1.2MB 13.7MB/s eta 0:00:01\r\u001b[K     |██████████████████████████▊     | 1.2MB 13.7MB/s eta 0:00:01\r\u001b[K     |███████████████████████████     | 1.2MB 13.7MB/s eta 0:00:01\r\u001b[K     |███████████████████████████▏    | 1.2MB 13.7MB/s eta 0:00:01\r\u001b[K     |███████████████████████████▍    | 1.2MB 13.7MB/s eta 0:00:01\r\u001b[K     |███████████████████████████▋    | 1.3MB 13.7MB/s eta 0:00:01\r\u001b[K     |███████████████████████████▉    | 1.3MB 13.7MB/s eta 0:00:01\r\u001b[K     |████████████████████████████    | 1.3MB 13.7MB/s eta 0:00:01\r\u001b[K     |████████████████████████████▎   | 1.3MB 13.7MB/s eta 0:00:01\r\u001b[K     |████████████████████████████▌   | 1.3MB 13.7MB/s eta 0:00:01\r\u001b[K     |████████████████████████████▊   | 1.3MB 13.7MB/s eta 0:00:01\r\u001b[K     |█████████████████████████████   | 1.3MB 13.7MB/s eta 0:00:01\r\u001b[K     |█████████████████████████████▏  | 1.3MB 13.7MB/s eta 0:00:01\r\u001b[K     |█████████████████████████████▍  | 1.3MB 13.7MB/s eta 0:00:01\r\u001b[K     |█████████████████████████████▋  | 1.4MB 13.7MB/s eta 0:00:01\r\u001b[K     |█████████████████████████████▉  | 1.4MB 13.7MB/s eta 0:00:01\r\u001b[K     |██████████████████████████████  | 1.4MB 13.7MB/s eta 0:00:01\r\u001b[K     |██████████████████████████████▎ | 1.4MB 13.7MB/s eta 0:00:01\r\u001b[K     |██████████████████████████████▌ | 1.4MB 13.7MB/s eta 0:00:01\r\u001b[K     |██████████████████████████████▊ | 1.4MB 13.7MB/s eta 0:00:01\r\u001b[K     |███████████████████████████████ | 1.4MB 13.7MB/s eta 0:00:01\r\u001b[K     |███████████████████████████████▏| 1.4MB 13.7MB/s eta 0:00:01\r\u001b[K     |███████████████████████████████▍| 1.4MB 13.7MB/s eta 0:00:01\r\u001b[K     |███████████████████████████████▊| 1.4MB 13.7MB/s eta 0:00:01\r\u001b[K     |████████████████████████████████| 1.5MB 13.7MB/s eta 0:00:01\r\u001b[K     |████████████████████████████████| 1.5MB 13.7MB/s \n",
            "\u001b[?25hRequirement already satisfied: numpy>=1.7 in /usr/local/lib/python3.7/dist-packages (from bcolz) (1.19.5)\n",
            "Building wheels for collected packages: bcolz\n",
            "  Building wheel for bcolz (setup.py) ... \u001b[?25l\u001b[?25hdone\n",
            "  Created wheel for bcolz: filename=bcolz-1.2.1-cp37-cp37m-linux_x86_64.whl size=2650789 sha256=db5e105914f0b92ba280b2df2f79b6e30764a4dbb2dfbc175e1e7649379f6373\n",
            "  Stored in directory: /root/.cache/pip/wheels/9f/78/26/fb8c0acb91a100dc8914bf236c4eaa4b207cb876893c40b745\n",
            "Successfully built bcolz\n",
            "Installing collected packages: bcolz\n",
            "Successfully installed bcolz-1.2.1\n"
          ],
          "name": "stdout"
        }
      ]
    },
    {
      "cell_type": "code",
      "metadata": {
        "colab": {
          "base_uri": "https://localhost:8080/"
        },
        "id": "W08GAJzDtozn",
        "outputId": "b117c6db-d300-4621-ab64-08abf2f11988"
      },
      "source": [
        "!wget https://download.pytorch.org/tutorial/data.zip\n",
        "\n",
        "!unzip data.zip"
      ],
      "execution_count": 3,
      "outputs": [
        {
          "output_type": "stream",
          "text": [
            "--2021-07-17 18:05:59--  https://download.pytorch.org/tutorial/data.zip\n",
            "Resolving download.pytorch.org (download.pytorch.org)... 13.227.211.92, 13.227.211.25, 13.227.211.45, ...\n",
            "Connecting to download.pytorch.org (download.pytorch.org)|13.227.211.92|:443... connected.\n",
            "HTTP request sent, awaiting response... 200 OK\n",
            "Length: 2882130 (2.7M) [application/zip]\n",
            "Saving to: ‘data.zip’\n",
            "\n",
            "data.zip            100%[===================>]   2.75M  --.-KB/s    in 0.06s   \n",
            "\n",
            "2021-07-17 18:06:00 (43.5 MB/s) - ‘data.zip’ saved [2882130/2882130]\n",
            "\n",
            "Archive:  data.zip\n",
            "   creating: data/\n",
            "  inflating: data/eng-fra.txt        \n",
            "   creating: data/names/\n",
            "  inflating: data/names/Arabic.txt   \n",
            "  inflating: data/names/Chinese.txt  \n",
            "  inflating: data/names/Czech.txt    \n",
            "  inflating: data/names/Dutch.txt    \n",
            "  inflating: data/names/English.txt  \n",
            "  inflating: data/names/French.txt   \n",
            "  inflating: data/names/German.txt   \n",
            "  inflating: data/names/Greek.txt    \n",
            "  inflating: data/names/Irish.txt    \n",
            "  inflating: data/names/Italian.txt  \n",
            "  inflating: data/names/Japanese.txt  \n",
            "  inflating: data/names/Korean.txt   \n",
            "  inflating: data/names/Polish.txt   \n",
            "  inflating: data/names/Portuguese.txt  \n",
            "  inflating: data/names/Russian.txt  \n",
            "  inflating: data/names/Scottish.txt  \n",
            "  inflating: data/names/Spanish.txt  \n",
            "  inflating: data/names/Vietnamese.txt  \n"
          ],
          "name": "stdout"
        }
      ]
    },
    {
      "cell_type": "code",
      "metadata": {
        "colab": {
          "base_uri": "https://localhost:8080/"
        },
        "id": "pwUHzwGJg8z_",
        "outputId": "27b34351-2843-4ed2-ba6f-daaef281010b"
      },
      "source": [
        "!wget http://nlp.stanford.edu/data/glove.6B.zip\n",
        "!unzip glove.6B.zip\n",
        "!ls -lat"
      ],
      "execution_count": 4,
      "outputs": [
        {
          "output_type": "stream",
          "text": [
            "--2021-07-17 18:06:04--  http://nlp.stanford.edu/data/glove.6B.zip\n",
            "Resolving nlp.stanford.edu (nlp.stanford.edu)... 171.64.67.140\n",
            "Connecting to nlp.stanford.edu (nlp.stanford.edu)|171.64.67.140|:80... connected.\n",
            "HTTP request sent, awaiting response... 302 Found\n",
            "Location: https://nlp.stanford.edu/data/glove.6B.zip [following]\n",
            "--2021-07-17 18:06:04--  https://nlp.stanford.edu/data/glove.6B.zip\n",
            "Connecting to nlp.stanford.edu (nlp.stanford.edu)|171.64.67.140|:443... connected.\n",
            "HTTP request sent, awaiting response... 301 Moved Permanently\n",
            "Location: http://downloads.cs.stanford.edu/nlp/data/glove.6B.zip [following]\n",
            "--2021-07-17 18:06:05--  http://downloads.cs.stanford.edu/nlp/data/glove.6B.zip\n",
            "Resolving downloads.cs.stanford.edu (downloads.cs.stanford.edu)... 171.64.64.22\n",
            "Connecting to downloads.cs.stanford.edu (downloads.cs.stanford.edu)|171.64.64.22|:80... connected.\n",
            "HTTP request sent, awaiting response... 200 OK\n",
            "Length: 862182613 (822M) [application/zip]\n",
            "Saving to: ‘glove.6B.zip’\n",
            "\n",
            "glove.6B.zip        100%[===================>] 822.24M  5.04MB/s    in 2m 42s  \n",
            "\n",
            "2021-07-17 18:08:47 (5.09 MB/s) - ‘glove.6B.zip’ saved [862182613/862182613]\n",
            "\n",
            "Archive:  glove.6B.zip\n",
            "  inflating: glove.6B.50d.txt        \n",
            "  inflating: glove.6B.100d.txt       \n",
            "  inflating: glove.6B.200d.txt       \n",
            "  inflating: glove.6B.300d.txt       \n",
            "total 3041968\n",
            "drwxr-xr-x 1 root root       4096 Jul 17 18:08 .\n",
            "drwxr-xr-x 1 root root       4096 Jul 17 18:00 ..\n",
            "drwxr-xr-x 1 root root       4096 Jul 15 13:38 sample_data\n",
            "drwxr-xr-x 4 root root       4096 Jul 15 13:37 .config\n",
            "-rw-r--r-- 1 root root    2882130 Mar 15  2017 data.zip\n",
            "drwxr-xr-x 3 root root       4096 Mar 12  2017 data\n",
            "-rw-r--r-- 1 root root  862182613 Oct 25  2015 glove.6B.zip\n",
            "-rw-rw-r-- 1 root root 1037962819 Aug 27  2014 glove.6B.300d.txt\n",
            "-rw-rw-r-- 1 root root  171350079 Aug  4  2014 glove.6B.50d.txt\n",
            "-rw-rw-r-- 1 root root  693432828 Aug  4  2014 glove.6B.200d.txt\n",
            "-rw-rw-r-- 1 root root  347116733 Aug  4  2014 glove.6B.100d.txt\n"
          ],
          "name": "stdout"
        }
      ]
    },
    {
      "cell_type": "code",
      "metadata": {
        "id": "GT-nJ-gBdul-"
      },
      "source": [
        "# from torchtext.vocab import GloVe\n",
        "# embedding_glove = GloVe(name='6B', dim=200)"
      ],
      "execution_count": null,
      "outputs": []
    },
    {
      "cell_type": "code",
      "metadata": {
        "id": "reHT84HOg82r"
      },
      "source": [
        "words_list = []\n",
        "index = 0\n",
        "word2index = {}\n",
        "vectors = bcolz.carray(np.zeros(1), mode='w')\n",
        "with open(f'/content/glove.6B.300d.txt', 'rb') as f:\n",
        "    for l in f:\n",
        "        line = l.decode().split()\n",
        "        word = line[0] \n",
        "        words_list.append(word)\n",
        "        word2index[word] = index\n",
        "        index += 1\n",
        "        vect = np.array(line[1:]).astype(np.float)\n",
        "        vectors.append(vect)\n",
        "vectors = bcolz.carray(vectors[1:].reshape((400000, 300)), mode='w')"
      ],
      "execution_count": 7,
      "outputs": []
    },
    {
      "cell_type": "code",
      "metadata": {
        "colab": {
          "base_uri": "https://localhost:8080/"
        },
        "id": "TNEeL0LKbRQJ",
        "outputId": "ecedc2cf-cafe-4258-e3b2-c13601a09e45"
      },
      "source": [
        "print(len(vectors)),print(len(words_list)),print(len(word2index))"
      ],
      "execution_count": 11,
      "outputs": [
        {
          "output_type": "stream",
          "text": [
            "400000\n",
            "400000\n",
            "400000\n"
          ],
          "name": "stdout"
        },
        {
          "output_type": "execute_result",
          "data": {
            "text/plain": [
              "(None, None, None)"
            ]
          },
          "metadata": {
            "tags": []
          },
          "execution_count": 11
        }
      ]
    },
    {
      "cell_type": "markdown",
      "metadata": {
        "id": "dxkGa31EZhzq"
      },
      "source": [
        "### Re-arraging the indexes of sos and eos to begining and ending of the word vectors"
      ]
    },
    {
      "cell_type": "code",
      "metadata": {
        "id": "7v5fLujTZXzM"
      },
      "source": [
        "sos_index = word2index['sos']\n",
        "eos_index = word2index['eos']\n",
        "sos_swap_word = words_list[0]\n",
        "eos_swap_word = words_list[1]\n",
        "words_list[0], words_list[sos_index] = words_list[sos_index], words_list[0]\n",
        "words_list[1], words_list[eos_index] = words_list[eos_index], words_list[1]\n",
        "word2index[sos_swap_word], word2index['sos'] = word2index['sos'], word2index[sos_swap_word]\n",
        "word2index[eos_swap_word], word2index['eos'] = word2index['eos'], word2index[eos_swap_word]"
      ],
      "execution_count": 12,
      "outputs": []
    },
    {
      "cell_type": "code",
      "metadata": {
        "id": "dyO3LJiKj9j5"
      },
      "source": [
        "glove = {w: vectors[word2index[w]] for w in words_list}\n"
      ],
      "execution_count": 15,
      "outputs": []
    },
    {
      "cell_type": "code",
      "metadata": {
        "colab": {
          "base_uri": "https://localhost:8080/"
        },
        "id": "Vu7G0W0jqjdz",
        "outputId": "414c60b8-05c4-47a5-b6b4-c2807e0dba7a"
      },
      "source": [
        "print(len(vectors)),print(len(words_list)),print(len(word2index)),print(len(glove))"
      ],
      "execution_count": 16,
      "outputs": [
        {
          "output_type": "stream",
          "text": [
            "400000\n",
            "400000\n",
            "400000\n",
            "400000\n"
          ],
          "name": "stdout"
        },
        {
          "output_type": "execute_result",
          "data": {
            "text/plain": [
              "(None, None, None, None)"
            ]
          },
          "metadata": {
            "tags": []
          },
          "execution_count": 16
        }
      ]
    },
    {
      "cell_type": "code",
      "metadata": {
        "id": "FN75BV8-qqdB",
        "colab": {
          "base_uri": "https://localhost:8080/",
          "height": 412
        },
        "outputId": "d6784e2f-22bc-469e-8886-bf8b74bd604a"
      },
      "source": [
        "glove_dframe = DataFrame(vectors, columns=range(1,301), index=words_list)\n",
        "glove_dframe[100:110]"
      ],
      "execution_count": 18,
      "outputs": [
        {
          "output_type": "execute_result",
          "data": {
            "text/html": [
              "<div>\n",
              "<style scoped>\n",
              "    .dataframe tbody tr th:only-of-type {\n",
              "        vertical-align: middle;\n",
              "    }\n",
              "\n",
              "    .dataframe tbody tr th {\n",
              "        vertical-align: top;\n",
              "    }\n",
              "\n",
              "    .dataframe thead th {\n",
              "        text-align: right;\n",
              "    }\n",
              "</style>\n",
              "<table border=\"1\" class=\"dataframe\">\n",
              "  <thead>\n",
              "    <tr style=\"text-align: right;\">\n",
              "      <th></th>\n",
              "      <th>1</th>\n",
              "      <th>2</th>\n",
              "      <th>3</th>\n",
              "      <th>4</th>\n",
              "      <th>5</th>\n",
              "      <th>6</th>\n",
              "      <th>7</th>\n",
              "      <th>8</th>\n",
              "      <th>9</th>\n",
              "      <th>10</th>\n",
              "      <th>11</th>\n",
              "      <th>12</th>\n",
              "      <th>13</th>\n",
              "      <th>14</th>\n",
              "      <th>15</th>\n",
              "      <th>16</th>\n",
              "      <th>17</th>\n",
              "      <th>18</th>\n",
              "      <th>19</th>\n",
              "      <th>20</th>\n",
              "      <th>21</th>\n",
              "      <th>22</th>\n",
              "      <th>23</th>\n",
              "      <th>24</th>\n",
              "      <th>25</th>\n",
              "      <th>26</th>\n",
              "      <th>27</th>\n",
              "      <th>28</th>\n",
              "      <th>29</th>\n",
              "      <th>30</th>\n",
              "      <th>31</th>\n",
              "      <th>32</th>\n",
              "      <th>33</th>\n",
              "      <th>34</th>\n",
              "      <th>35</th>\n",
              "      <th>36</th>\n",
              "      <th>37</th>\n",
              "      <th>38</th>\n",
              "      <th>39</th>\n",
              "      <th>40</th>\n",
              "      <th>...</th>\n",
              "      <th>261</th>\n",
              "      <th>262</th>\n",
              "      <th>263</th>\n",
              "      <th>264</th>\n",
              "      <th>265</th>\n",
              "      <th>266</th>\n",
              "      <th>267</th>\n",
              "      <th>268</th>\n",
              "      <th>269</th>\n",
              "      <th>270</th>\n",
              "      <th>271</th>\n",
              "      <th>272</th>\n",
              "      <th>273</th>\n",
              "      <th>274</th>\n",
              "      <th>275</th>\n",
              "      <th>276</th>\n",
              "      <th>277</th>\n",
              "      <th>278</th>\n",
              "      <th>279</th>\n",
              "      <th>280</th>\n",
              "      <th>281</th>\n",
              "      <th>282</th>\n",
              "      <th>283</th>\n",
              "      <th>284</th>\n",
              "      <th>285</th>\n",
              "      <th>286</th>\n",
              "      <th>287</th>\n",
              "      <th>288</th>\n",
              "      <th>289</th>\n",
              "      <th>290</th>\n",
              "      <th>291</th>\n",
              "      <th>292</th>\n",
              "      <th>293</th>\n",
              "      <th>294</th>\n",
              "      <th>295</th>\n",
              "      <th>296</th>\n",
              "      <th>297</th>\n",
              "      <th>298</th>\n",
              "      <th>299</th>\n",
              "      <th>300</th>\n",
              "    </tr>\n",
              "  </thead>\n",
              "  <tbody>\n",
              "    <tr>\n",
              "      <th>so</th>\n",
              "      <td>-0.245610</td>\n",
              "      <td>0.068010</td>\n",
              "      <td>0.182540</td>\n",
              "      <td>-0.295510</td>\n",
              "      <td>0.018007</td>\n",
              "      <td>0.168110</td>\n",
              "      <td>0.191090</td>\n",
              "      <td>0.063650</td>\n",
              "      <td>0.212430</td>\n",
              "      <td>-2.1165</td>\n",
              "      <td>0.378640</td>\n",
              "      <td>-0.109740</td>\n",
              "      <td>-0.203400</td>\n",
              "      <td>0.085525</td>\n",
              "      <td>-0.321460</td>\n",
              "      <td>0.048442</td>\n",
              "      <td>-0.278470</td>\n",
              "      <td>-0.278830</td>\n",
              "      <td>0.128500</td>\n",
              "      <td>-0.10495</td>\n",
              "      <td>0.121340</td>\n",
              "      <td>0.459830</td>\n",
              "      <td>0.12976</td>\n",
              "      <td>0.030153</td>\n",
              "      <td>-0.330200</td>\n",
              "      <td>0.234990</td>\n",
              "      <td>0.151160</td>\n",
              "      <td>-0.25010</td>\n",
              "      <td>-0.121350</td>\n",
              "      <td>0.406420</td>\n",
              "      <td>0.052263</td>\n",
              "      <td>0.320160</td>\n",
              "      <td>-0.422180</td>\n",
              "      <td>-0.151860</td>\n",
              "      <td>-1.05650</td>\n",
              "      <td>0.305030</td>\n",
              "      <td>-0.001142</td>\n",
              "      <td>-0.090414</td>\n",
              "      <td>-0.075197</td>\n",
              "      <td>-0.079242</td>\n",
              "      <td>...</td>\n",
              "      <td>-0.206720</td>\n",
              "      <td>-0.269500</td>\n",
              "      <td>-0.036829</td>\n",
              "      <td>0.080812</td>\n",
              "      <td>0.038849</td>\n",
              "      <td>0.161040</td>\n",
              "      <td>-0.114710</td>\n",
              "      <td>-0.073495</td>\n",
              "      <td>0.296550</td>\n",
              "      <td>0.180300</td>\n",
              "      <td>0.086003</td>\n",
              "      <td>0.025727</td>\n",
              "      <td>0.080528</td>\n",
              "      <td>0.214770</td>\n",
              "      <td>0.046840</td>\n",
              "      <td>0.301340</td>\n",
              "      <td>-2.1721</td>\n",
              "      <td>-0.137610</td>\n",
              "      <td>0.18022</td>\n",
              "      <td>0.18490</td>\n",
              "      <td>-0.207130</td>\n",
              "      <td>0.122920</td>\n",
              "      <td>0.204260</td>\n",
              "      <td>-0.081932</td>\n",
              "      <td>-0.232470</td>\n",
              "      <td>0.239880</td>\n",
              "      <td>0.153210</td>\n",
              "      <td>0.187450</td>\n",
              "      <td>-0.401180</td>\n",
              "      <td>-0.270270</td>\n",
              "      <td>0.095983</td>\n",
              "      <td>-0.347390</td>\n",
              "      <td>0.032640</td>\n",
              "      <td>0.047579</td>\n",
              "      <td>0.222420</td>\n",
              "      <td>-0.231400</td>\n",
              "      <td>0.114310</td>\n",
              "      <td>-0.669140</td>\n",
              "      <td>-0.034753</td>\n",
              "      <td>0.097869</td>\n",
              "    </tr>\n",
              "    <tr>\n",
              "      <th>them</th>\n",
              "      <td>-0.205880</td>\n",
              "      <td>0.192570</td>\n",
              "      <td>-0.118270</td>\n",
              "      <td>-0.157120</td>\n",
              "      <td>-0.380160</td>\n",
              "      <td>0.059840</td>\n",
              "      <td>-0.032788</td>\n",
              "      <td>0.174650</td>\n",
              "      <td>0.403970</td>\n",
              "      <td>-1.8908</td>\n",
              "      <td>0.106380</td>\n",
              "      <td>-0.364760</td>\n",
              "      <td>0.054180</td>\n",
              "      <td>-0.027433</td>\n",
              "      <td>-0.188360</td>\n",
              "      <td>0.135500</td>\n",
              "      <td>-0.239940</td>\n",
              "      <td>-0.071888</td>\n",
              "      <td>0.363540</td>\n",
              "      <td>-0.12846</td>\n",
              "      <td>-0.001460</td>\n",
              "      <td>0.061712</td>\n",
              "      <td>0.58014</td>\n",
              "      <td>-0.038355</td>\n",
              "      <td>-0.273380</td>\n",
              "      <td>-0.289910</td>\n",
              "      <td>-0.332860</td>\n",
              "      <td>0.55739</td>\n",
              "      <td>0.145240</td>\n",
              "      <td>0.015591</td>\n",
              "      <td>-0.186130</td>\n",
              "      <td>0.104400</td>\n",
              "      <td>0.024976</td>\n",
              "      <td>-0.410220</td>\n",
              "      <td>-1.01080</td>\n",
              "      <td>-0.072071</td>\n",
              "      <td>-0.016702</td>\n",
              "      <td>0.288300</td>\n",
              "      <td>0.126030</td>\n",
              "      <td>-0.448160</td>\n",
              "      <td>...</td>\n",
              "      <td>0.144120</td>\n",
              "      <td>-0.644540</td>\n",
              "      <td>0.232860</td>\n",
              "      <td>0.021366</td>\n",
              "      <td>0.177000</td>\n",
              "      <td>0.148880</td>\n",
              "      <td>-0.330530</td>\n",
              "      <td>-0.180220</td>\n",
              "      <td>-0.312490</td>\n",
              "      <td>-0.168350</td>\n",
              "      <td>0.198440</td>\n",
              "      <td>0.021983</td>\n",
              "      <td>0.167490</td>\n",
              "      <td>0.601300</td>\n",
              "      <td>0.202740</td>\n",
              "      <td>0.001545</td>\n",
              "      <td>-2.7504</td>\n",
              "      <td>-0.190600</td>\n",
              "      <td>0.15862</td>\n",
              "      <td>0.10331</td>\n",
              "      <td>-0.278670</td>\n",
              "      <td>0.444220</td>\n",
              "      <td>0.092754</td>\n",
              "      <td>0.235970</td>\n",
              "      <td>-0.070352</td>\n",
              "      <td>0.438410</td>\n",
              "      <td>0.112300</td>\n",
              "      <td>0.355730</td>\n",
              "      <td>0.184230</td>\n",
              "      <td>-0.158480</td>\n",
              "      <td>-0.057513</td>\n",
              "      <td>-0.650600</td>\n",
              "      <td>0.028065</td>\n",
              "      <td>-0.135320</td>\n",
              "      <td>0.115990</td>\n",
              "      <td>-0.244490</td>\n",
              "      <td>0.048469</td>\n",
              "      <td>-0.328680</td>\n",
              "      <td>-0.169600</td>\n",
              "      <td>-0.129650</td>\n",
              "    </tr>\n",
              "    <tr>\n",
              "      <th>what</th>\n",
              "      <td>-0.200170</td>\n",
              "      <td>0.143020</td>\n",
              "      <td>0.052055</td>\n",
              "      <td>-0.000809</td>\n",
              "      <td>0.017009</td>\n",
              "      <td>0.014899</td>\n",
              "      <td>-0.255240</td>\n",
              "      <td>-0.179070</td>\n",
              "      <td>-0.046713</td>\n",
              "      <td>-2.0547</td>\n",
              "      <td>0.226170</td>\n",
              "      <td>0.082849</td>\n",
              "      <td>-0.211900</td>\n",
              "      <td>0.199060</td>\n",
              "      <td>0.309460</td>\n",
              "      <td>0.226880</td>\n",
              "      <td>-0.060026</td>\n",
              "      <td>-0.033334</td>\n",
              "      <td>0.038108</td>\n",
              "      <td>0.22626</td>\n",
              "      <td>0.521590</td>\n",
              "      <td>0.598710</td>\n",
              "      <td>0.45327</td>\n",
              "      <td>-0.041098</td>\n",
              "      <td>-0.402930</td>\n",
              "      <td>-0.079128</td>\n",
              "      <td>0.002534</td>\n",
              "      <td>-0.36042</td>\n",
              "      <td>0.065823</td>\n",
              "      <td>-0.010745</td>\n",
              "      <td>0.054722</td>\n",
              "      <td>0.507560</td>\n",
              "      <td>-0.646120</td>\n",
              "      <td>-0.004589</td>\n",
              "      <td>-1.01730</td>\n",
              "      <td>0.302180</td>\n",
              "      <td>-0.254030</td>\n",
              "      <td>0.095647</td>\n",
              "      <td>-0.047533</td>\n",
              "      <td>-0.324790</td>\n",
              "      <td>...</td>\n",
              "      <td>-0.009948</td>\n",
              "      <td>-0.023906</td>\n",
              "      <td>0.047874</td>\n",
              "      <td>-0.160290</td>\n",
              "      <td>-0.072023</td>\n",
              "      <td>0.158840</td>\n",
              "      <td>-0.302680</td>\n",
              "      <td>0.040359</td>\n",
              "      <td>0.091823</td>\n",
              "      <td>0.231220</td>\n",
              "      <td>0.040294</td>\n",
              "      <td>-0.027471</td>\n",
              "      <td>0.244700</td>\n",
              "      <td>0.295670</td>\n",
              "      <td>0.069906</td>\n",
              "      <td>0.219810</td>\n",
              "      <td>-2.3806</td>\n",
              "      <td>-0.029845</td>\n",
              "      <td>0.72655</td>\n",
              "      <td>-0.16307</td>\n",
              "      <td>-0.054330</td>\n",
              "      <td>0.008776</td>\n",
              "      <td>0.003676</td>\n",
              "      <td>0.036295</td>\n",
              "      <td>0.023036</td>\n",
              "      <td>-0.057012</td>\n",
              "      <td>0.006363</td>\n",
              "      <td>-0.055003</td>\n",
              "      <td>-0.100560</td>\n",
              "      <td>0.141430</td>\n",
              "      <td>0.045239</td>\n",
              "      <td>-0.352980</td>\n",
              "      <td>0.333500</td>\n",
              "      <td>0.281040</td>\n",
              "      <td>0.203380</td>\n",
              "      <td>-0.478800</td>\n",
              "      <td>-0.039697</td>\n",
              "      <td>0.034939</td>\n",
              "      <td>-0.125990</td>\n",
              "      <td>0.218630</td>\n",
              "    </tr>\n",
              "    <tr>\n",
              "      <th>him</th>\n",
              "      <td>-0.158840</td>\n",
              "      <td>0.360950</td>\n",
              "      <td>-0.113370</td>\n",
              "      <td>-0.421430</td>\n",
              "      <td>-0.284790</td>\n",
              "      <td>-0.089365</td>\n",
              "      <td>0.125030</td>\n",
              "      <td>-0.359220</td>\n",
              "      <td>0.027257</td>\n",
              "      <td>-1.6332</td>\n",
              "      <td>0.347510</td>\n",
              "      <td>-0.233640</td>\n",
              "      <td>0.041219</td>\n",
              "      <td>-0.032185</td>\n",
              "      <td>-0.199800</td>\n",
              "      <td>0.594600</td>\n",
              "      <td>-0.417830</td>\n",
              "      <td>-0.102570</td>\n",
              "      <td>0.466200</td>\n",
              "      <td>-0.13472</td>\n",
              "      <td>0.199970</td>\n",
              "      <td>0.172940</td>\n",
              "      <td>0.18640</td>\n",
              "      <td>-0.211500</td>\n",
              "      <td>-0.321580</td>\n",
              "      <td>-0.478130</td>\n",
              "      <td>-0.309680</td>\n",
              "      <td>0.46145</td>\n",
              "      <td>0.379300</td>\n",
              "      <td>0.017530</td>\n",
              "      <td>-0.120280</td>\n",
              "      <td>0.081734</td>\n",
              "      <td>0.413820</td>\n",
              "      <td>-0.399090</td>\n",
              "      <td>-1.47710</td>\n",
              "      <td>-0.327840</td>\n",
              "      <td>-0.033119</td>\n",
              "      <td>0.134780</td>\n",
              "      <td>-0.318590</td>\n",
              "      <td>-0.520440</td>\n",
              "      <td>...</td>\n",
              "      <td>0.010122</td>\n",
              "      <td>-0.382140</td>\n",
              "      <td>0.270240</td>\n",
              "      <td>0.049569</td>\n",
              "      <td>-0.163390</td>\n",
              "      <td>-0.250100</td>\n",
              "      <td>0.036627</td>\n",
              "      <td>0.020517</td>\n",
              "      <td>-0.445570</td>\n",
              "      <td>-0.231970</td>\n",
              "      <td>-0.103870</td>\n",
              "      <td>-0.252090</td>\n",
              "      <td>0.480960</td>\n",
              "      <td>0.582080</td>\n",
              "      <td>0.610740</td>\n",
              "      <td>-0.042804</td>\n",
              "      <td>-2.2421</td>\n",
              "      <td>-0.410390</td>\n",
              "      <td>0.56638</td>\n",
              "      <td>0.24402</td>\n",
              "      <td>-0.317310</td>\n",
              "      <td>0.372080</td>\n",
              "      <td>0.400070</td>\n",
              "      <td>0.417550</td>\n",
              "      <td>-0.045318</td>\n",
              "      <td>0.577610</td>\n",
              "      <td>-0.095198</td>\n",
              "      <td>0.365310</td>\n",
              "      <td>0.041513</td>\n",
              "      <td>-0.112300</td>\n",
              "      <td>0.030342</td>\n",
              "      <td>-0.196140</td>\n",
              "      <td>-0.160160</td>\n",
              "      <td>-0.285130</td>\n",
              "      <td>0.277510</td>\n",
              "      <td>-0.143610</td>\n",
              "      <td>0.214780</td>\n",
              "      <td>-0.223810</td>\n",
              "      <td>-0.293430</td>\n",
              "      <td>-0.033526</td>\n",
              "    </tr>\n",
              "    <tr>\n",
              "      <th>united</th>\n",
              "      <td>0.056277</td>\n",
              "      <td>-0.165980</td>\n",
              "      <td>0.332410</td>\n",
              "      <td>-0.064785</td>\n",
              "      <td>0.268810</td>\n",
              "      <td>0.108790</td>\n",
              "      <td>-0.807370</td>\n",
              "      <td>0.384470</td>\n",
              "      <td>0.128930</td>\n",
              "      <td>-1.5534</td>\n",
              "      <td>0.716530</td>\n",
              "      <td>-0.186140</td>\n",
              "      <td>0.008904</td>\n",
              "      <td>-0.153880</td>\n",
              "      <td>0.295210</td>\n",
              "      <td>0.255580</td>\n",
              "      <td>-0.039114</td>\n",
              "      <td>-0.271940</td>\n",
              "      <td>-0.490910</td>\n",
              "      <td>-0.53010</td>\n",
              "      <td>0.309050</td>\n",
              "      <td>0.057643</td>\n",
              "      <td>0.63180</td>\n",
              "      <td>0.690080</td>\n",
              "      <td>-0.475290</td>\n",
              "      <td>0.231340</td>\n",
              "      <td>-0.072885</td>\n",
              "      <td>0.21801</td>\n",
              "      <td>-0.574260</td>\n",
              "      <td>0.158170</td>\n",
              "      <td>-0.078279</td>\n",
              "      <td>-0.072803</td>\n",
              "      <td>0.370130</td>\n",
              "      <td>0.219360</td>\n",
              "      <td>-0.74636</td>\n",
              "      <td>-0.166430</td>\n",
              "      <td>-0.117990</td>\n",
              "      <td>-0.091981</td>\n",
              "      <td>-0.705050</td>\n",
              "      <td>-0.076960</td>\n",
              "      <td>...</td>\n",
              "      <td>0.091354</td>\n",
              "      <td>0.539980</td>\n",
              "      <td>0.059754</td>\n",
              "      <td>0.370310</td>\n",
              "      <td>0.049488</td>\n",
              "      <td>-0.061625</td>\n",
              "      <td>-0.326090</td>\n",
              "      <td>0.036495</td>\n",
              "      <td>0.348210</td>\n",
              "      <td>0.240460</td>\n",
              "      <td>0.137350</td>\n",
              "      <td>-0.254010</td>\n",
              "      <td>-0.408870</td>\n",
              "      <td>0.196740</td>\n",
              "      <td>0.276770</td>\n",
              "      <td>0.007295</td>\n",
              "      <td>-2.3404</td>\n",
              "      <td>-0.084917</td>\n",
              "      <td>1.19050</td>\n",
              "      <td>0.65378</td>\n",
              "      <td>0.097328</td>\n",
              "      <td>-0.249420</td>\n",
              "      <td>0.298030</td>\n",
              "      <td>0.312380</td>\n",
              "      <td>0.294290</td>\n",
              "      <td>0.157960</td>\n",
              "      <td>-0.197830</td>\n",
              "      <td>0.675800</td>\n",
              "      <td>0.093091</td>\n",
              "      <td>0.068369</td>\n",
              "      <td>0.017244</td>\n",
              "      <td>-0.120950</td>\n",
              "      <td>0.501220</td>\n",
              "      <td>0.161380</td>\n",
              "      <td>0.359710</td>\n",
              "      <td>0.752880</td>\n",
              "      <td>0.479690</td>\n",
              "      <td>-0.274290</td>\n",
              "      <td>-0.171260</td>\n",
              "      <td>-0.803720</td>\n",
              "    </tr>\n",
              "    <tr>\n",
              "      <th>during</th>\n",
              "      <td>-0.039635</td>\n",
              "      <td>0.212610</td>\n",
              "      <td>-0.245140</td>\n",
              "      <td>-0.266630</td>\n",
              "      <td>0.189180</td>\n",
              "      <td>0.099316</td>\n",
              "      <td>-0.370910</td>\n",
              "      <td>0.038365</td>\n",
              "      <td>-0.092625</td>\n",
              "      <td>-1.6565</td>\n",
              "      <td>-0.220160</td>\n",
              "      <td>0.182540</td>\n",
              "      <td>-0.270180</td>\n",
              "      <td>-0.367450</td>\n",
              "      <td>-0.049236</td>\n",
              "      <td>-0.035273</td>\n",
              "      <td>0.390280</td>\n",
              "      <td>-0.115900</td>\n",
              "      <td>-0.596990</td>\n",
              "      <td>-0.28118</td>\n",
              "      <td>-0.111550</td>\n",
              "      <td>-0.131290</td>\n",
              "      <td>0.40255</td>\n",
              "      <td>-0.370450</td>\n",
              "      <td>0.105820</td>\n",
              "      <td>-0.766230</td>\n",
              "      <td>-0.170740</td>\n",
              "      <td>-0.40682</td>\n",
              "      <td>-0.115560</td>\n",
              "      <td>0.115680</td>\n",
              "      <td>0.214440</td>\n",
              "      <td>-0.086590</td>\n",
              "      <td>-0.054054</td>\n",
              "      <td>0.043051</td>\n",
              "      <td>-0.77924</td>\n",
              "      <td>-0.466230</td>\n",
              "      <td>-0.153960</td>\n",
              "      <td>0.418660</td>\n",
              "      <td>0.071360</td>\n",
              "      <td>0.227000</td>\n",
              "      <td>...</td>\n",
              "      <td>-0.502810</td>\n",
              "      <td>0.099352</td>\n",
              "      <td>0.044206</td>\n",
              "      <td>0.254760</td>\n",
              "      <td>0.030103</td>\n",
              "      <td>-0.392710</td>\n",
              "      <td>-0.369050</td>\n",
              "      <td>-0.379220</td>\n",
              "      <td>0.445210</td>\n",
              "      <td>0.022462</td>\n",
              "      <td>-0.234380</td>\n",
              "      <td>-0.028043</td>\n",
              "      <td>-0.171610</td>\n",
              "      <td>0.148560</td>\n",
              "      <td>0.768720</td>\n",
              "      <td>-0.181240</td>\n",
              "      <td>-2.2793</td>\n",
              "      <td>0.050329</td>\n",
              "      <td>0.20104</td>\n",
              "      <td>0.20515</td>\n",
              "      <td>-0.880080</td>\n",
              "      <td>-0.333560</td>\n",
              "      <td>0.595430</td>\n",
              "      <td>-0.290260</td>\n",
              "      <td>0.161700</td>\n",
              "      <td>0.744840</td>\n",
              "      <td>-0.348560</td>\n",
              "      <td>0.333540</td>\n",
              "      <td>-0.247880</td>\n",
              "      <td>-0.151580</td>\n",
              "      <td>-0.148390</td>\n",
              "      <td>-0.020586</td>\n",
              "      <td>-0.697330</td>\n",
              "      <td>0.248950</td>\n",
              "      <td>0.214960</td>\n",
              "      <td>0.351270</td>\n",
              "      <td>-0.146670</td>\n",
              "      <td>-0.142210</td>\n",
              "      <td>-0.464110</td>\n",
              "      <td>-0.159580</td>\n",
              "    </tr>\n",
              "    <tr>\n",
              "      <th>before</th>\n",
              "      <td>0.000730</td>\n",
              "      <td>0.109870</td>\n",
              "      <td>0.063975</td>\n",
              "      <td>0.026729</td>\n",
              "      <td>0.100660</td>\n",
              "      <td>0.045820</td>\n",
              "      <td>-0.178650</td>\n",
              "      <td>-0.146560</td>\n",
              "      <td>0.223870</td>\n",
              "      <td>-1.5851</td>\n",
              "      <td>-0.075385</td>\n",
              "      <td>0.077855</td>\n",
              "      <td>0.071722</td>\n",
              "      <td>-0.020296</td>\n",
              "      <td>-0.214540</td>\n",
              "      <td>0.296400</td>\n",
              "      <td>0.042858</td>\n",
              "      <td>-0.243370</td>\n",
              "      <td>0.280420</td>\n",
              "      <td>0.17027</td>\n",
              "      <td>-0.153200</td>\n",
              "      <td>-0.097088</td>\n",
              "      <td>0.37339</td>\n",
              "      <td>-0.045384</td>\n",
              "      <td>-0.064616</td>\n",
              "      <td>-0.169100</td>\n",
              "      <td>0.005065</td>\n",
              "      <td>-0.19953</td>\n",
              "      <td>-0.335780</td>\n",
              "      <td>0.082778</td>\n",
              "      <td>0.172250</td>\n",
              "      <td>-0.047207</td>\n",
              "      <td>0.367810</td>\n",
              "      <td>0.123790</td>\n",
              "      <td>-1.37300</td>\n",
              "      <td>-0.180220</td>\n",
              "      <td>-0.383480</td>\n",
              "      <td>0.340670</td>\n",
              "      <td>-0.236780</td>\n",
              "      <td>-0.080015</td>\n",
              "      <td>...</td>\n",
              "      <td>-0.203530</td>\n",
              "      <td>-0.091527</td>\n",
              "      <td>0.167280</td>\n",
              "      <td>0.188500</td>\n",
              "      <td>0.216750</td>\n",
              "      <td>0.240210</td>\n",
              "      <td>-0.263730</td>\n",
              "      <td>-0.542920</td>\n",
              "      <td>0.034036</td>\n",
              "      <td>-0.083158</td>\n",
              "      <td>-0.216980</td>\n",
              "      <td>-0.050733</td>\n",
              "      <td>0.134110</td>\n",
              "      <td>0.323780</td>\n",
              "      <td>0.379540</td>\n",
              "      <td>0.028645</td>\n",
              "      <td>-2.2839</td>\n",
              "      <td>-0.161530</td>\n",
              "      <td>0.36115</td>\n",
              "      <td>-0.12518</td>\n",
              "      <td>-0.436550</td>\n",
              "      <td>-0.198100</td>\n",
              "      <td>0.282980</td>\n",
              "      <td>0.003422</td>\n",
              "      <td>-0.090104</td>\n",
              "      <td>0.556460</td>\n",
              "      <td>-0.138800</td>\n",
              "      <td>0.090241</td>\n",
              "      <td>-0.111960</td>\n",
              "      <td>0.068667</td>\n",
              "      <td>0.124490</td>\n",
              "      <td>-0.147260</td>\n",
              "      <td>0.078155</td>\n",
              "      <td>-0.052333</td>\n",
              "      <td>0.012701</td>\n",
              "      <td>0.176650</td>\n",
              "      <td>0.020622</td>\n",
              "      <td>-0.481250</td>\n",
              "      <td>-0.078685</td>\n",
              "      <td>0.200680</td>\n",
              "    </tr>\n",
              "    <tr>\n",
              "      <th>may</th>\n",
              "      <td>-0.376040</td>\n",
              "      <td>0.241160</td>\n",
              "      <td>-0.260980</td>\n",
              "      <td>-0.007960</td>\n",
              "      <td>0.219800</td>\n",
              "      <td>0.098515</td>\n",
              "      <td>0.234580</td>\n",
              "      <td>0.137970</td>\n",
              "      <td>0.110260</td>\n",
              "      <td>-1.7503</td>\n",
              "      <td>0.157280</td>\n",
              "      <td>0.500990</td>\n",
              "      <td>-0.070068</td>\n",
              "      <td>0.023731</td>\n",
              "      <td>0.398480</td>\n",
              "      <td>0.344060</td>\n",
              "      <td>0.272500</td>\n",
              "      <td>-0.311730</td>\n",
              "      <td>-0.083764</td>\n",
              "      <td>-0.22098</td>\n",
              "      <td>-0.270320</td>\n",
              "      <td>-0.061412</td>\n",
              "      <td>0.23487</td>\n",
              "      <td>-0.108980</td>\n",
              "      <td>-0.500680</td>\n",
              "      <td>-0.191880</td>\n",
              "      <td>-0.081558</td>\n",
              "      <td>-0.49529</td>\n",
              "      <td>-0.112060</td>\n",
              "      <td>0.055647</td>\n",
              "      <td>0.347620</td>\n",
              "      <td>0.381170</td>\n",
              "      <td>0.251340</td>\n",
              "      <td>0.221550</td>\n",
              "      <td>-0.60474</td>\n",
              "      <td>0.149160</td>\n",
              "      <td>0.034044</td>\n",
              "      <td>0.080041</td>\n",
              "      <td>-0.025968</td>\n",
              "      <td>-0.024241</td>\n",
              "      <td>...</td>\n",
              "      <td>0.005466</td>\n",
              "      <td>-0.511980</td>\n",
              "      <td>-0.080661</td>\n",
              "      <td>0.069866</td>\n",
              "      <td>-0.167940</td>\n",
              "      <td>-0.519120</td>\n",
              "      <td>0.156840</td>\n",
              "      <td>-0.000717</td>\n",
              "      <td>0.101390</td>\n",
              "      <td>0.162740</td>\n",
              "      <td>0.189130</td>\n",
              "      <td>0.157990</td>\n",
              "      <td>0.557480</td>\n",
              "      <td>-0.051792</td>\n",
              "      <td>-0.142220</td>\n",
              "      <td>0.084011</td>\n",
              "      <td>-1.8705</td>\n",
              "      <td>-0.293800</td>\n",
              "      <td>0.42032</td>\n",
              "      <td>0.09180</td>\n",
              "      <td>-0.263130</td>\n",
              "      <td>0.125250</td>\n",
              "      <td>0.449980</td>\n",
              "      <td>0.363530</td>\n",
              "      <td>-0.196110</td>\n",
              "      <td>0.127600</td>\n",
              "      <td>-0.304500</td>\n",
              "      <td>-0.061133</td>\n",
              "      <td>-0.027884</td>\n",
              "      <td>-0.011002</td>\n",
              "      <td>-0.083795</td>\n",
              "      <td>-0.158100</td>\n",
              "      <td>0.325670</td>\n",
              "      <td>-0.429300</td>\n",
              "      <td>0.110570</td>\n",
              "      <td>0.312300</td>\n",
              "      <td>-0.255790</td>\n",
              "      <td>-0.757310</td>\n",
              "      <td>0.097391</td>\n",
              "      <td>-0.081830</td>\n",
              "    </tr>\n",
              "    <tr>\n",
              "      <th>since</th>\n",
              "      <td>0.132110</td>\n",
              "      <td>0.009039</td>\n",
              "      <td>0.464310</td>\n",
              "      <td>0.160600</td>\n",
              "      <td>0.289240</td>\n",
              "      <td>-0.014632</td>\n",
              "      <td>-0.309260</td>\n",
              "      <td>-0.102920</td>\n",
              "      <td>0.319730</td>\n",
              "      <td>-2.0459</td>\n",
              "      <td>0.107910</td>\n",
              "      <td>0.271230</td>\n",
              "      <td>0.133140</td>\n",
              "      <td>-0.058571</td>\n",
              "      <td>-0.155090</td>\n",
              "      <td>0.048896</td>\n",
              "      <td>0.088392</td>\n",
              "      <td>0.303050</td>\n",
              "      <td>-0.296530</td>\n",
              "      <td>-0.25901</td>\n",
              "      <td>0.056790</td>\n",
              "      <td>0.126440</td>\n",
              "      <td>0.20284</td>\n",
              "      <td>-0.256380</td>\n",
              "      <td>-0.037751</td>\n",
              "      <td>-0.214050</td>\n",
              "      <td>-0.373020</td>\n",
              "      <td>-0.62119</td>\n",
              "      <td>-0.211920</td>\n",
              "      <td>0.307760</td>\n",
              "      <td>-0.045039</td>\n",
              "      <td>0.037847</td>\n",
              "      <td>-0.247120</td>\n",
              "      <td>0.274960</td>\n",
              "      <td>-0.63936</td>\n",
              "      <td>-0.494560</td>\n",
              "      <td>-0.028717</td>\n",
              "      <td>-0.003221</td>\n",
              "      <td>-0.013735</td>\n",
              "      <td>0.265160</td>\n",
              "      <td>...</td>\n",
              "      <td>-0.501370</td>\n",
              "      <td>0.339590</td>\n",
              "      <td>-0.161930</td>\n",
              "      <td>-0.174690</td>\n",
              "      <td>-0.330710</td>\n",
              "      <td>0.261330</td>\n",
              "      <td>-0.127400</td>\n",
              "      <td>-0.204760</td>\n",
              "      <td>0.395360</td>\n",
              "      <td>0.002654</td>\n",
              "      <td>-0.294450</td>\n",
              "      <td>0.572960</td>\n",
              "      <td>0.158950</td>\n",
              "      <td>-0.381390</td>\n",
              "      <td>0.379730</td>\n",
              "      <td>-0.152720</td>\n",
              "      <td>-2.1216</td>\n",
              "      <td>-0.410480</td>\n",
              "      <td>0.18469</td>\n",
              "      <td>0.61325</td>\n",
              "      <td>-0.363560</td>\n",
              "      <td>-0.434270</td>\n",
              "      <td>0.051726</td>\n",
              "      <td>-0.023941</td>\n",
              "      <td>-0.085872</td>\n",
              "      <td>0.115160</td>\n",
              "      <td>-0.652090</td>\n",
              "      <td>-0.029655</td>\n",
              "      <td>-0.154160</td>\n",
              "      <td>0.085021</td>\n",
              "      <td>0.104320</td>\n",
              "      <td>-0.210160</td>\n",
              "      <td>0.261070</td>\n",
              "      <td>0.085519</td>\n",
              "      <td>0.171470</td>\n",
              "      <td>0.854160</td>\n",
              "      <td>0.069214</td>\n",
              "      <td>-0.649110</td>\n",
              "      <td>0.410390</td>\n",
              "      <td>0.080164</td>\n",
              "    </tr>\n",
              "    <tr>\n",
              "      <th>many</th>\n",
              "      <td>-0.155070</td>\n",
              "      <td>0.284220</td>\n",
              "      <td>0.311910</td>\n",
              "      <td>-0.195960</td>\n",
              "      <td>0.125730</td>\n",
              "      <td>-0.152090</td>\n",
              "      <td>0.145480</td>\n",
              "      <td>0.337110</td>\n",
              "      <td>-0.093931</td>\n",
              "      <td>-1.4419</td>\n",
              "      <td>0.101740</td>\n",
              "      <td>0.192890</td>\n",
              "      <td>-0.172980</td>\n",
              "      <td>0.237980</td>\n",
              "      <td>0.539470</td>\n",
              "      <td>-0.378290</td>\n",
              "      <td>-0.337830</td>\n",
              "      <td>-0.060360</td>\n",
              "      <td>0.162360</td>\n",
              "      <td>0.13202</td>\n",
              "      <td>0.063932</td>\n",
              "      <td>0.100850</td>\n",
              "      <td>0.54784</td>\n",
              "      <td>0.292160</td>\n",
              "      <td>-0.425790</td>\n",
              "      <td>0.035594</td>\n",
              "      <td>-0.179820</td>\n",
              "      <td>0.28462</td>\n",
              "      <td>-0.054354</td>\n",
              "      <td>0.345400</td>\n",
              "      <td>0.561260</td>\n",
              "      <td>0.528300</td>\n",
              "      <td>-0.516910</td>\n",
              "      <td>-0.146380</td>\n",
              "      <td>-0.66691</td>\n",
              "      <td>-0.374670</td>\n",
              "      <td>0.079261</td>\n",
              "      <td>0.177150</td>\n",
              "      <td>0.273670</td>\n",
              "      <td>-0.376340</td>\n",
              "      <td>...</td>\n",
              "      <td>-0.106620</td>\n",
              "      <td>-0.127140</td>\n",
              "      <td>0.436380</td>\n",
              "      <td>-0.094561</td>\n",
              "      <td>0.255130</td>\n",
              "      <td>-0.314150</td>\n",
              "      <td>-0.638040</td>\n",
              "      <td>-0.177540</td>\n",
              "      <td>0.196950</td>\n",
              "      <td>0.379490</td>\n",
              "      <td>-0.058079</td>\n",
              "      <td>0.570330</td>\n",
              "      <td>0.045701</td>\n",
              "      <td>0.017218</td>\n",
              "      <td>0.075382</td>\n",
              "      <td>0.005122</td>\n",
              "      <td>-2.7359</td>\n",
              "      <td>-0.099892</td>\n",
              "      <td>0.33327</td>\n",
              "      <td>0.22997</td>\n",
              "      <td>-0.201590</td>\n",
              "      <td>0.040204</td>\n",
              "      <td>0.119150</td>\n",
              "      <td>0.054997</td>\n",
              "      <td>-0.137480</td>\n",
              "      <td>0.216060</td>\n",
              "      <td>-0.058659</td>\n",
              "      <td>0.307390</td>\n",
              "      <td>0.219530</td>\n",
              "      <td>-0.037842</td>\n",
              "      <td>-0.124250</td>\n",
              "      <td>-0.531690</td>\n",
              "      <td>-0.037670</td>\n",
              "      <td>0.150680</td>\n",
              "      <td>-0.139130</td>\n",
              "      <td>-0.088808</td>\n",
              "      <td>-0.227130</td>\n",
              "      <td>-0.545620</td>\n",
              "      <td>-0.147350</td>\n",
              "      <td>-0.314930</td>\n",
              "    </tr>\n",
              "  </tbody>\n",
              "</table>\n",
              "<p>10 rows × 300 columns</p>\n",
              "</div>"
            ],
            "text/plain": [
              "             1         2         3    ...       298       299       300\n",
              "so     -0.245610  0.068010  0.182540  ... -0.669140 -0.034753  0.097869\n",
              "them   -0.205880  0.192570 -0.118270  ... -0.328680 -0.169600 -0.129650\n",
              "what   -0.200170  0.143020  0.052055  ...  0.034939 -0.125990  0.218630\n",
              "him    -0.158840  0.360950 -0.113370  ... -0.223810 -0.293430 -0.033526\n",
              "united  0.056277 -0.165980  0.332410  ... -0.274290 -0.171260 -0.803720\n",
              "during -0.039635  0.212610 -0.245140  ... -0.142210 -0.464110 -0.159580\n",
              "before  0.000730  0.109870  0.063975  ... -0.481250 -0.078685  0.200680\n",
              "may    -0.376040  0.241160 -0.260980  ... -0.757310  0.097391 -0.081830\n",
              "since   0.132110  0.009039  0.464310  ... -0.649110  0.410390  0.080164\n",
              "many   -0.155070  0.284220  0.311910  ... -0.545620 -0.147350 -0.314930\n",
              "\n",
              "[10 rows x 300 columns]"
            ]
          },
          "metadata": {
            "tags": []
          },
          "execution_count": 18
        }
      ]
    },
    {
      "cell_type": "code",
      "metadata": {
        "colab": {
          "base_uri": "https://localhost:8080/"
        },
        "id": "Vz-XoubOV1li",
        "outputId": "bd7b99fd-9063-40f7-d37e-444ccc70b55a"
      },
      "source": [
        "print(word2index['sos']), print(word2index['eos'])\n"
      ],
      "execution_count": 19,
      "outputs": [
        {
          "output_type": "stream",
          "text": [
            "0\n",
            "1\n"
          ],
          "name": "stdout"
        },
        {
          "output_type": "execute_result",
          "data": {
            "text/plain": [
              "(None, None)"
            ]
          },
          "metadata": {
            "tags": []
          },
          "execution_count": 19
        }
      ]
    },
    {
      "cell_type": "code",
      "metadata": {
        "id": "uC78oNh6r5bp"
      },
      "source": [
        "#word2index = { k : v for k , v in sorted(word2index.items(), key=operator.itemgetter(1))}"
      ],
      "execution_count": null,
      "outputs": []
    },
    {
      "cell_type": "code",
      "metadata": {
        "id": "tZ6wu_qLsTve"
      },
      "source": [
        "class InputLang:\n",
        "    def __init__(self, name):\n",
        "        self.name = name\n",
        "        self.word2index = { k : v for k , v in sorted(word2index.items(), key=operator.itemgetter(1))}\n",
        "        self.word2count = { word : 1 for word in words_list }\n",
        "        self.index2word = { i : word for word, i in word2index.items() }\n",
        "        self.n_words = 400001\n",
        "    def addSentence(self, sentence):\n",
        "        for word in sentence.split(' '):\n",
        "            self.addWord(word)\n",
        "    def addWord(self, word):\n",
        "        if word not in self.word2index:\n",
        "            self.word2index[word] = self.n_words\n",
        "            self.word2count[word] = 1\n",
        "            self.index2word[self.n_words] = word\n",
        "            self.n_words += 1\n",
        "        else:\n",
        "            self.word2count[word] += 1"
      ],
      "execution_count": 27,
      "outputs": []
    },
    {
      "cell_type": "code",
      "metadata": {
        "id": "A14Rcm5csW6Q"
      },
      "source": [
        "SOS_token = 0\n",
        "EOS_token = 1\n",
        "class OutputLang:\n",
        "    def __init__(self, name):\n",
        "        self.name = name\n",
        "        self.word2index = {}\n",
        "        self.word2count = {}\n",
        "        self.index2word = {0: \"sos\", 1: \"eos\"}\n",
        "        self.n_words = 2  # Count SOS and EOS\n",
        "    def addSentence(self, sentence):\n",
        "        for word in sentence.split(' '):\n",
        "            self.addWord(word)\n",
        "    def addWord(self, word):\n",
        "        if word not in self.word2index:\n",
        "            self.word2index[word] = self.n_words\n",
        "            self.word2count[word] = 1\n",
        "            self.index2word[self.n_words] = word\n",
        "            self.n_words += 1\n",
        "        else:\n",
        "            self.word2count[word] += 1"
      ],
      "execution_count": 28,
      "outputs": []
    },
    {
      "cell_type": "code",
      "metadata": {
        "id": "ZxcKlkaxsT6r"
      },
      "source": [
        "# Turn a Unicode string to plain ASCII, thanks to\n",
        "# http://stackoverflow.com/a/518232/2809427\n",
        "def unicodeToAscii(s):\n",
        "    return ''.join(\n",
        "        c for c in unicodedata.normalize('NFD', s)\n",
        "        if unicodedata.category(c) != 'Mn'\n",
        "    )\n",
        "# Lowercase, trim, and remove non-letter characters\n",
        "def normalizeString(s):\n",
        "    s = unicodeToAscii(s.lower().strip())\n",
        "    s = re.sub(r\"([.!?])\", r\" \\1\", s)\n",
        "    s = re.sub(r\"[^a-zA-Z.!?]+\", r\" \", s)\n",
        "    return s"
      ],
      "execution_count": 29,
      "outputs": []
    },
    {
      "cell_type": "code",
      "metadata": {
        "id": "0dESM3mrshHp"
      },
      "source": [
        "def readLangs(lang1, lang2, reverse=False):\n",
        "    print(\"Reading lines...\")\n",
        "\n",
        "    # Read the file and split into lines\n",
        "    lines = open('data/%s-%s.txt' % (lang1, lang2), encoding='utf-8').\\\n",
        "        read().strip().split('\\n')\n",
        "\n",
        "    # Split every line into pairs and normalize\n",
        "    pairs = [[normalizeString(s) for s in l.split('\\t')] for l in lines]\n",
        "    #print(pairs[0])\n",
        "\n",
        "    # Reverse pairs, make Lang instances\n",
        "    if reverse:\n",
        "        pairs = [list(reversed(p)) for p in pairs]\n",
        "        input_lang = InputLang(lang2)\n",
        "        output_lang = OutputLang(lang1)\n",
        "    else:\n",
        "        input_lang = InputLang(lang1)\n",
        "        print(input_lang)\n",
        "        output_lang = OutputLang(lang2)\n",
        "\n",
        "    return input_lang, output_lang, pairs"
      ],
      "execution_count": 30,
      "outputs": []
    },
    {
      "cell_type": "code",
      "metadata": {
        "id": "NMo2grUWswqt"
      },
      "source": [
        "MAX_LENGTH = 10\n",
        "\n",
        "eng_prefixes = (\n",
        "    \"i am \", \"i m \",\n",
        "    \"he is\", \"he s \",\n",
        "    \"she is\", \"she s \",\n",
        "    \"you are\", \"you re \",\n",
        "    \"we are\", \"we re \",\n",
        "    \"they are\", \"they re \"\n",
        ")\n",
        "\n",
        "\n",
        "def filterPair(p,reverse):\n",
        "  if(reverse):\n",
        "    return len(p[0].split(' ')) < MAX_LENGTH and \\\n",
        "        len(p[1].split(' ')) < MAX_LENGTH and \\\n",
        "        p[1].startswith(eng_prefixes)\n",
        "  else:\n",
        "     return len(p[0].split(' ')) < MAX_LENGTH and \\\n",
        "        len(p[1].split(' ')) < MAX_LENGTH and \\\n",
        "        p[0].startswith(eng_prefixes)\n",
        "\n",
        "\n",
        "\n",
        "def filterPairs(pairs,reverse=False):\n",
        "    return [pair for pair in pairs if filterPair(pair,reverse)]"
      ],
      "execution_count": 31,
      "outputs": []
    },
    {
      "cell_type": "code",
      "metadata": {
        "colab": {
          "base_uri": "https://localhost:8080/"
        },
        "id": "iVRUbt1WtI0y",
        "outputId": "691d07b4-079d-4c21-fcc9-3a651acd5964"
      },
      "source": [
        "def prepareData(lang1, lang2, reverse=False):\n",
        "    input_lang, output_lang, pairs = readLangs(lang1, lang2, reverse)\n",
        "    print(\"Read %s sentence pairs\" % len(pairs))\n",
        "    pairs = filterPairs(pairs,reverse)\n",
        "    print(\"Trimmed to %s sentence pairs\" % len(pairs))\n",
        "    print(\"Counting words...\")\n",
        "    for pair in pairs:\n",
        "        input_lang.addSentence(pair[0])\n",
        "        output_lang.addSentence(pair[1])\n",
        "    print(\"Counted words:\")\n",
        "    print(input_lang.name, input_lang.n_words)\n",
        "    print(output_lang.name, output_lang.n_words)\n",
        "    return input_lang, output_lang, pairs\n",
        "\n",
        "\n",
        "input_lang, output_lang, pairs = prepareData('eng', 'fra')\n",
        "print(random.choice(pairs))\n"
      ],
      "execution_count": 32,
      "outputs": [
        {
          "output_type": "stream",
          "text": [
            "Reading lines...\n",
            "<__main__.InputLang object at 0x7fc069301910>\n",
            "Read 135842 sentence pairs\n",
            "Trimmed to 10599 sentence pairs\n",
            "Counting words...\n",
            "Counted words:\n",
            "eng 400005\n",
            "fra 4345\n",
            "['you re too skinny .', 'vous etes trop maigrichonnes .']\n"
          ],
          "name": "stdout"
        }
      ]
    },
    {
      "cell_type": "code",
      "metadata": {
        "id": "EOhQo9iOvE5z"
      },
      "source": [
        "matrix_len = input_lang.n_words\n",
        "weights_matrix = np.zeros((matrix_len, 300))\n",
        "words_found = 0\n",
        "for i, word in enumerate(input_lang.word2index):\n",
        "    try: \n",
        "        weights_matrix[i] = glove[word]\n",
        "        words_found += 1\n",
        "    except KeyError:\n",
        "        weights_matrix[i] = np.random.normal(scale=0.6, size=(300, ))"
      ],
      "execution_count": 33,
      "outputs": []
    },
    {
      "cell_type": "markdown",
      "metadata": {
        "id": "sklKeEAZEw9A"
      },
      "source": [
        "The Seq2Seq Model\n",
        "=================\n",
        "\n",
        "A Recurrent Neural Network, or RNN, is a network that operates on a\n",
        "sequence and uses its own output as input for subsequent steps.\n",
        "\n",
        "A [Sequence to Sequence network](https://arxiv.org/abs/1409.3215), or\n",
        "seq2seq network, or [Encoder Decoder\n",
        "network](https://arxiv.org/pdf/1406.1078v3.pdf), is a model\n",
        "consisting of two RNNs called the encoder and decoder. The encoder reads\n",
        "an input sequence and outputs a single vector, and the decoder reads\n",
        "that vector to produce an output sequence.\n",
        "\n",
        "![image](https://pytorch.org/tutorials/_images/seq2seq.png)\n",
        "\n",
        "Unlike sequence prediction with a single RNN, where every input\n",
        "corresponds to an output, the seq2seq model frees us from sequence\n",
        "length and order, which makes it ideal for translation between two\n",
        "languages.\n",
        "\n",
        "Consider the sentence \"Je ne suis pas le chat noir\" → \"I am not the\n",
        "black cat\". Most of the words in the input sentence have a direct\n",
        "translation in the output sentence, but are in slightly different\n",
        "orders, e.g. \"chat noir\" and \"black cat\". Because of the \"ne/pas\"\n",
        "construction there is also one more word in the input sentence. It would\n",
        "be difficult to produce a correct translation directly from the sequence\n",
        "of input words.\n",
        "\n",
        "With a seq2seq model the encoder creates a single vector which, in the\n",
        "ideal case, encodes the \"meaning\" of the input sequence into a single\n",
        "vector — a single point in some N dimensional space of sentences.\n",
        "\n",
        "\n"
      ]
    },
    {
      "cell_type": "markdown",
      "metadata": {
        "id": "BJZ7qgeoGH25"
      },
      "source": [
        "The Encoder\n",
        "-----------\n",
        "\n",
        "The encoder of a seq2seq network is a RNN that outputs some value for\n",
        "every word from the input sentence. For every input word the encoder\n",
        "outputs a vector and a hidden state, and uses the hidden state for the\n",
        "next input word.\n",
        "\n",
        "![image](https://pytorch.org/tutorials/_images/encoder-network.png)"
      ]
    },
    {
      "cell_type": "code",
      "metadata": {
        "colab": {
          "base_uri": "https://localhost:8080/"
        },
        "id": "kPEai_3-CiSe",
        "outputId": "60b7e376-de99-4b50-9ec1-77459ecfb35c"
      },
      "source": [
        "type(weights_matrix)"
      ],
      "execution_count": 34,
      "outputs": [
        {
          "output_type": "execute_result",
          "data": {
            "text/plain": [
              "numpy.ndarray"
            ]
          },
          "metadata": {
            "tags": []
          },
          "execution_count": 34
        }
      ]
    },
    {
      "cell_type": "code",
      "metadata": {
        "colab": {
          "base_uri": "https://localhost:8080/"
        },
        "id": "FYWs0A8aClE_",
        "outputId": "121749ac-6a81-4a96-f435-bb7031a91a06"
      },
      "source": [
        "type(torch.Tensor(weights_matrix))"
      ],
      "execution_count": 35,
      "outputs": [
        {
          "output_type": "execute_result",
          "data": {
            "text/plain": [
              "torch.Tensor"
            ]
          },
          "metadata": {
            "tags": []
          },
          "execution_count": 35
        }
      ]
    },
    {
      "cell_type": "code",
      "metadata": {
        "id": "hUFStkIuEqo7"
      },
      "source": [
        "class EncoderRNN(nn.Module):\n",
        "    def __init__(self, input_size, hidden_size):\n",
        "        super(EncoderRNN, self).__init__()\n",
        "        self.hidden_size = hidden_size\n",
        "\n",
        "        self.embedding = nn.Embedding(input_size, hidden_size)\n",
        "        #self.embedding.weight.data.copy_(torch.from_numpy(weights_matrix))\n",
        "        self.embedding = nn.Embedding.from_pretrained(torch.Tensor(weights_matrix), freeze=False)\n",
        "        self.gru = nn.GRU(hidden_size, hidden_size)\n",
        "\n",
        "    def forward(self, input, hidden):\n",
        "        embedded = self.embedding(input).view(1, 1, -1)\n",
        "        output = embedded\n",
        "        output, hidden = self.gru(output, hidden)\n",
        "        return output, hidden\n",
        "\n",
        "    def initHidden(self):\n",
        "        return torch.zeros(1, 1, self.hidden_size, device=device)"
      ],
      "execution_count": 36,
      "outputs": []
    },
    {
      "cell_type": "markdown",
      "metadata": {
        "id": "4WzcqRwLGR_c"
      },
      "source": [
        "#Simple Decoder\n",
        "\n",
        "In the simplest seq2seq decoder we use only last output of the encoder.\n",
        "This last output is sometimes called the *context vector* as it encodes\n",
        "context from the entire sequence. This context vector is used as the\n",
        "initial hidden state of the decoder.\n",
        "\n",
        "At every step of decoding, the decoder is given an input token and\n",
        "hidden state. The initial input token is the start-of-string ``<SOS>``\n",
        "token, and the first hidden state is the context vector (the encoder's\n",
        "last hidden state).\n",
        "\n",
        "![image](https://pytorch.org/tutorials/_images/decoder-network.png)\n",
        "\n",
        "\n",
        "\n"
      ]
    },
    {
      "cell_type": "code",
      "metadata": {
        "id": "aTpja5ExGQR_"
      },
      "source": [
        "class DecoderRNN(nn.Module):\n",
        "    def __init__(self, hidden_size, output_size):\n",
        "        super(DecoderRNN, self).__init__()\n",
        "        self.hidden_size = hidden_size\n",
        "\n",
        "        self.embedding = nn.Embedding(output_size, hidden_size)\n",
        "        self.gru = nn.GRU(hidden_size, hidden_size)\n",
        "        self.out = nn.Linear(hidden_size, output_size)\n",
        "        self.softmax = nn.LogSoftmax(dim=1)\n",
        "\n",
        "    def forward(self, input, hidden):\n",
        "        output = self.embedding(input).view(1, 1, -1)\n",
        "        output = F.relu(output)\n",
        "        output, hidden = self.gru(output, hidden)\n",
        "        output = self.softmax(self.out(output[0]))\n",
        "        return output, hidden\n",
        "\n",
        "    def initHidden(self):\n",
        "        return torch.zeros(1, 1, self.hidden_size, device=device)"
      ],
      "execution_count": 37,
      "outputs": []
    },
    {
      "cell_type": "markdown",
      "metadata": {
        "id": "iGMxRg_-Ga5T"
      },
      "source": [
        "# Attention Decoder\n",
        "\n",
        "If only the context vector is passed between the encoder and decoder,\n",
        "that single vector carries the burden of encoding the entire sentence.\n",
        "\n",
        "Attention allows the decoder network to \"focus\" on a different part of\n",
        "the encoder's outputs for every step of the decoder's own outputs. First\n",
        "we calculate a set of *attention weights*. These will be multiplied by\n",
        "the encoder output vectors to create a weighted combination. The result\n",
        "(called ``attn_applied`` in the code) should contain information about\n",
        "that specific part of the input sequence, and thus help the decoder\n",
        "choose the right output words.\n",
        "\n",
        "![image](https://i.imgur.com/1152PYf.png)\n",
        "\n",
        "Calculating the attention weights is done with another feed-forward\n",
        "layer ``attn``, using the decoder's input and hidden state as inputs.\n",
        "Because there are sentences of all sizes in the training data, to\n",
        "actually create and train this layer we have to choose a maximum\n",
        "sentence length (input length, for encoder outputs) that it can apply\n",
        "to. Sentences of the maximum length will use all the attention weights,\n",
        "while shorter sentences will only use the first few.\n",
        "\n",
        "![image](https://pytorch.org/tutorials/_images/attention-decoder-network.png)\n",
        "\n",
        "\n",
        "\n"
      ]
    },
    {
      "cell_type": "code",
      "metadata": {
        "id": "yTgpqalYGaOR"
      },
      "source": [
        "class AttnDecoderRNN(nn.Module):\n",
        "    def __init__(self, hidden_size, output_size, dropout_p=0.1, max_length=MAX_LENGTH):\n",
        "        super(AttnDecoderRNN, self).__init__()\n",
        "        self.hidden_size = hidden_size\n",
        "        self.output_size = output_size\n",
        "        self.dropout_p = dropout_p\n",
        "        self.max_length = max_length\n",
        "\n",
        "        self.embedding = nn.Embedding(self.output_size, self.hidden_size)\n",
        "        self.attn = nn.Linear(self.hidden_size * 2, self.max_length)\n",
        "        self.attn_combine = nn.Linear(self.hidden_size * 2, self.hidden_size)\n",
        "        self.dropout = nn.Dropout(self.dropout_p)\n",
        "        self.gru = nn.GRU(self.hidden_size, self.hidden_size)\n",
        "        self.out = nn.Linear(self.hidden_size, self.output_size)\n",
        "\n",
        "    def forward(self, input, hidden, encoder_outputs):\n",
        "        embedded = self.embedding(input).view(1, 1, -1)\n",
        "        embedded = self.dropout(embedded)\n",
        "\n",
        "        attn_weights = F.softmax(\n",
        "            self.attn(torch.cat((embedded[0], hidden[0]), 1)), dim=1)\n",
        "        attn_applied = torch.bmm(attn_weights.unsqueeze(0),\n",
        "                                 encoder_outputs.unsqueeze(0))\n",
        "\n",
        "        output = torch.cat((embedded[0], attn_applied[0]), 1)\n",
        "        output = self.attn_combine(output).unsqueeze(0)\n",
        "\n",
        "        output = F.relu(output)\n",
        "        output, hidden = self.gru(output, hidden)\n",
        "\n",
        "        output = F.log_softmax(self.out(output[0]), dim=1)\n",
        "        return output, hidden, attn_weights\n",
        "\n",
        "    def initHidden(self):\n",
        "        return torch.zeros(1, 1, self.hidden_size, device=device)"
      ],
      "execution_count": 38,
      "outputs": []
    },
    {
      "cell_type": "markdown",
      "metadata": {
        "id": "9Xa7siQKGqQE"
      },
      "source": [
        "<div class=\"alert alert-info\"><h4>Note</h4><p>There are other forms of attention that work around the length\n",
        "  limitation by using a relative position approach. Read about \"local\n",
        "  attention\" in `Effective Approaches to Attention-based Neural Machine\n",
        "  Translation <https://arxiv.org/abs/1508.04025>`__.</p></div>\n",
        "\n",
        "Training\n",
        "========\n",
        "\n",
        "Preparing Training Data\n",
        "-----------------------\n",
        "\n",
        "To train, for each pair we will need an input tensor (indexes of the\n",
        "words in the input sentence) and target tensor (indexes of the words in\n",
        "the target sentence). While creating these vectors we will append the\n",
        "EOS token to both sequences.\n",
        "\n",
        "\n"
      ]
    },
    {
      "cell_type": "code",
      "metadata": {
        "id": "-mj3FhJBGoS_"
      },
      "source": [
        "def indexesFromSentence(lang, sentence):\n",
        "    return [lang.word2index[word] for word in sentence.split(' ')]\n",
        "\n",
        "\n",
        "def tensorFromSentence(lang, sentence):\n",
        "    indexes = indexesFromSentence(lang, sentence)\n",
        "    indexes.append(EOS_token)\n",
        "    return torch.tensor(indexes, dtype=torch.long, device=device).view(-1, 1)\n",
        "\n",
        "\n",
        "def tensorsFromPair(pair):\n",
        "    input_tensor = tensorFromSentence(input_lang, pair[0])\n",
        "    target_tensor = tensorFromSentence(output_lang, pair[1])\n",
        "    return (input_tensor, target_tensor)"
      ],
      "execution_count": 39,
      "outputs": []
    },
    {
      "cell_type": "markdown",
      "metadata": {
        "id": "1rtejHTjG5Ia"
      },
      "source": [
        "Training the Model\n",
        "------------------\n",
        "\n",
        "To train we run the input sentence through the encoder, and keep track\n",
        "of every output and the latest hidden state. Then the decoder is given\n",
        "the ``<SOS>`` token as its first input, and the last hidden state of the\n",
        "encoder as its first hidden state.\n",
        "\n",
        "\"Teacher forcing\" is the concept of using the real target outputs as\n",
        "each next input, instead of using the decoder's guess as the next input.\n",
        "Using teacher forcing causes it to converge faster but [when the trained network is exploited, it may exhibit instability](http://citeseerx.ist.psu.edu/viewdoc/download?doi=10.1.1.378.4095&rep=rep1&type=pdf).\n",
        "\n",
        "You can observe outputs of teacher-forced networks that read with\n",
        "coherent grammar but wander far from the correct translation -\n",
        "intuitively it has learned to represent the output grammar and can \"pick\n",
        "up\" the meaning once the teacher tells it the first few words, but it\n",
        "has not properly learned how to create the sentence from the translation\n",
        "in the first place.\n",
        "\n",
        "Because of the freedom PyTorch's autograd gives us, we can randomly\n",
        "choose to use teacher forcing or not with a simple if statement. Turn\n",
        "``teacher_forcing_ratio`` up to use more of it.\n",
        "\n",
        "\n"
      ]
    },
    {
      "cell_type": "code",
      "metadata": {
        "id": "xWVqaIu-Gt3b"
      },
      "source": [
        "teacher_forcing_ratio = 0.5\n",
        "\n",
        "\n",
        "def train(input_tensor, target_tensor, encoder, decoder, encoder_optimizer, decoder_optimizer, criterion, max_length=MAX_LENGTH):\n",
        "    encoder_hidden = encoder.initHidden()\n",
        "\n",
        "    encoder_optimizer.zero_grad()\n",
        "    decoder_optimizer.zero_grad()\n",
        "\n",
        "    input_length = input_tensor.size(0)\n",
        "    target_length = target_tensor.size(0)\n",
        "\n",
        "    encoder_outputs = torch.zeros(max_length, encoder.hidden_size, device=device)\n",
        "\n",
        "    loss = 0\n",
        "\n",
        "    for ei in range(input_length):\n",
        "        encoder_output, encoder_hidden = encoder(\n",
        "            input_tensor[ei], encoder_hidden)\n",
        "        encoder_outputs[ei] = encoder_output[0, 0]\n",
        "\n",
        "    decoder_input = torch.tensor([[SOS_token]], device=device)\n",
        "\n",
        "    decoder_hidden = encoder_hidden\n",
        "\n",
        "    use_teacher_forcing = True if random.random() < teacher_forcing_ratio else False\n",
        "\n",
        "    if use_teacher_forcing:\n",
        "        # Teacher forcing: Feed the target as the next input\n",
        "        for di in range(target_length):\n",
        "            decoder_output, decoder_hidden, decoder_attention = decoder(\n",
        "                decoder_input, decoder_hidden, encoder_outputs)\n",
        "            loss += criterion(decoder_output, target_tensor[di])\n",
        "            decoder_input = target_tensor[di]  # Teacher forcing\n",
        "\n",
        "    else:\n",
        "        # Without teacher forcing: use its own predictions as the next input\n",
        "        for di in range(target_length):\n",
        "            decoder_output, decoder_hidden, decoder_attention = decoder(\n",
        "                decoder_input, decoder_hidden, encoder_outputs)\n",
        "            topv, topi = decoder_output.topk(1)\n",
        "            decoder_input = topi.squeeze().detach()  # detach from history as input\n",
        "\n",
        "            loss += criterion(decoder_output, target_tensor[di])\n",
        "            if decoder_input.item() == EOS_token:\n",
        "                break\n",
        "\n",
        "    loss.backward()\n",
        "\n",
        "    encoder_optimizer.step()\n",
        "    decoder_optimizer.step()\n",
        "\n",
        "    return loss.item() / target_length"
      ],
      "execution_count": 40,
      "outputs": []
    },
    {
      "cell_type": "markdown",
      "metadata": {
        "id": "5OQi5ocOHDuv"
      },
      "source": [
        "import time\n",
        "import math\n",
        "\n",
        "\n",
        "def asMinutes(s):\n",
        "    m = math.floor(s / 60)\n",
        "    s -= m * 60\n",
        "    return '%dm %ds' % (m, s)\n",
        "\n",
        "\n",
        "def timeSince(since, percent):\n",
        "    now = time.time()\n",
        "    s = now - since\n",
        "    es = s / (percent)\n",
        "    rs = es - s\n",
        "    return '%s (- %s)' % (asMinutes(s), asMinutes(rs))\n",
        "\n"
      ]
    },
    {
      "cell_type": "code",
      "metadata": {
        "id": "0A3z6eQtG3rv"
      },
      "source": [
        "import time\n",
        "import math\n",
        "\n",
        "\n",
        "def asMinutes(s):\n",
        "    m = math.floor(s / 60)\n",
        "    s -= m * 60\n",
        "    return '%dm %ds' % (m, s)\n",
        "\n",
        "\n",
        "def timeSince(since, percent):\n",
        "    now = time.time()\n",
        "    s = now - since\n",
        "    es = s / (percent)\n",
        "    rs = es - s\n",
        "    return '%s (- %s)' % (asMinutes(s), asMinutes(rs))"
      ],
      "execution_count": 41,
      "outputs": []
    },
    {
      "cell_type": "markdown",
      "metadata": {
        "id": "po1iCyBTHHIG"
      },
      "source": [
        "The whole training process looks like this:\n",
        "\n",
        "-  Start a timer\n",
        "-  Initialize optimizers and criterion\n",
        "-  Create set of training pairs\n",
        "-  Start empty losses array for plotting\n",
        "\n",
        "Then we call ``train`` many times and occasionally print the progress (%\n",
        "of examples, time so far, estimated time) and average loss.\n",
        "\n",
        "\n"
      ]
    },
    {
      "cell_type": "code",
      "metadata": {
        "id": "_Gf1aSD1HFx_"
      },
      "source": [
        "def trainIters(encoder, decoder, n_iters, print_every=1000, plot_every=100, learning_rate=0.01):\n",
        "    start = time.time()\n",
        "    plot_losses = []\n",
        "    print_loss_total = 0  # Reset every print_every\n",
        "    plot_loss_total = 0  # Reset every plot_every\n",
        "\n",
        "    encoder_optimizer = optim.SGD(encoder.parameters(), lr=learning_rate)\n",
        "    decoder_optimizer = optim.SGD(decoder.parameters(), lr=learning_rate)\n",
        "    training_pairs = [tensorsFromPair(random.choice(pairs))\n",
        "                      for i in range(n_iters)]\n",
        "    criterion = nn.NLLLoss()\n",
        "\n",
        "    for iter in range(1, n_iters + 1):\n",
        "        training_pair = training_pairs[iter - 1]\n",
        "        input_tensor = training_pair[0]\n",
        "        target_tensor = training_pair[1]\n",
        "\n",
        "        loss = train(input_tensor, target_tensor, encoder,\n",
        "                     decoder, encoder_optimizer, decoder_optimizer, criterion)\n",
        "        print_loss_total += loss\n",
        "        plot_loss_total += loss\n",
        "\n",
        "        if iter % print_every == 0:\n",
        "            print_loss_avg = print_loss_total / print_every\n",
        "            print_loss_total = 0\n",
        "            print('%s (%d %d%%) %.4f' % (timeSince(start, iter / n_iters),\n",
        "                                         iter, iter / n_iters * 100, print_loss_avg))\n",
        "\n",
        "        if iter % plot_every == 0:\n",
        "            plot_loss_avg = plot_loss_total / plot_every\n",
        "            plot_losses.append(plot_loss_avg)\n",
        "            plot_loss_total = 0\n",
        "\n",
        "    showPlot(plot_losses)"
      ],
      "execution_count": 72,
      "outputs": []
    },
    {
      "cell_type": "markdown",
      "metadata": {
        "id": "SxLPtvy-HJv8"
      },
      "source": [
        "Plotting results\n",
        "----------------\n",
        "\n",
        "Plotting is done with matplotlib, using the array of loss values\n",
        "``plot_losses`` saved while training.\n",
        "\n",
        "\n"
      ]
    },
    {
      "cell_type": "code",
      "metadata": {
        "id": "kErPEK3PHIjD"
      },
      "source": [
        "import matplotlib.pyplot as plt\n",
        "plt.switch_backend('agg')\n",
        "import matplotlib.ticker as ticker\n",
        "import numpy as np\n",
        "\n",
        "\n",
        "def showPlot(points):\n",
        "    plt.figure()\n",
        "    fig, ax = plt.subplots()\n",
        "    # this locator puts ticks at regular intervals\n",
        "    loc = ticker.MultipleLocator(base=0.2)\n",
        "    ax.yaxis.set_major_locator(loc)\n",
        "    plt.plot(points)"
      ],
      "execution_count": 73,
      "outputs": []
    },
    {
      "cell_type": "markdown",
      "metadata": {
        "id": "8BWg0QVLHMnS"
      },
      "source": [
        "Evaluation\n",
        "==========\n",
        "\n",
        "Evaluation is mostly the same as training, but there are no targets so\n",
        "we simply feed the decoder's predictions back to itself for each step.\n",
        "Every time it predicts a word we add it to the output string, and if it\n",
        "predicts the EOS token we stop there. We also store the decoder's\n",
        "attention outputs for display later.\n",
        "\n",
        "\n"
      ]
    },
    {
      "cell_type": "code",
      "metadata": {
        "id": "cbjgrd4yHLMS"
      },
      "source": [
        "def evaluate(encoder, decoder, sentence, max_length=MAX_LENGTH):\n",
        "    with torch.no_grad():\n",
        "        input_tensor = tensorFromSentence(input_lang, sentence)\n",
        "        input_length = input_tensor.size()[0]\n",
        "        encoder_hidden = encoder.initHidden()\n",
        "\n",
        "        encoder_outputs = torch.zeros(max_length, encoder.hidden_size, device=device)\n",
        "\n",
        "        for ei in range(input_length):\n",
        "            encoder_output, encoder_hidden = encoder(input_tensor[ei],\n",
        "                                                     encoder_hidden)\n",
        "            encoder_outputs[ei] += encoder_output[0, 0]\n",
        "\n",
        "        decoder_input = torch.tensor([[SOS_token]], device=device)  # SOS\n",
        "\n",
        "        decoder_hidden = encoder_hidden\n",
        "\n",
        "        decoded_words = []\n",
        "        decoder_attentions = torch.zeros(max_length, max_length)\n",
        "\n",
        "        for di in range(max_length):\n",
        "            decoder_output, decoder_hidden, decoder_attention = decoder(\n",
        "                decoder_input, decoder_hidden, encoder_outputs)\n",
        "            decoder_attentions[di] = decoder_attention.data\n",
        "            topv, topi = decoder_output.data.topk(1)\n",
        "            if topi.item() == EOS_token:\n",
        "                decoded_words.append('<EOS>')\n",
        "                break\n",
        "            else:\n",
        "                decoded_words.append(output_lang.index2word[topi.item()])\n",
        "\n",
        "            decoder_input = topi.squeeze().detach()\n",
        "\n",
        "        return decoded_words, decoder_attentions[:di + 1]"
      ],
      "execution_count": 74,
      "outputs": []
    },
    {
      "cell_type": "markdown",
      "metadata": {
        "id": "tEDyINR3HP8X"
      },
      "source": [
        "We can evaluate random sentences from the training set and print out the\n",
        "input, target, and output to make some subjective quality judgements:\n",
        "\n",
        "\n"
      ]
    },
    {
      "cell_type": "code",
      "metadata": {
        "id": "41NOzzmRHOfs"
      },
      "source": [
        "def evaluateRandomly(encoder, decoder, n=10):\n",
        "    for i in range(n):\n",
        "        pair = random.choice(pairs)\n",
        "        print('>', pair[0])\n",
        "        print('=', pair[1])\n",
        "        output_words, attentions = evaluate(encoder, decoder, pair[0])\n",
        "        output_sentence = ' '.join(output_words)\n",
        "        print('<', output_sentence)\n",
        "        print('')"
      ],
      "execution_count": 75,
      "outputs": []
    },
    {
      "cell_type": "markdown",
      "metadata": {
        "id": "-I3YLTtFHSkq"
      },
      "source": [
        "Training and Evaluating\n",
        "=======================\n",
        "\n",
        "With all these helper functions in place (it looks like extra work, but\n",
        "it makes it easier to run multiple experiments) we can actually\n",
        "initialize a network and start training.\n",
        "\n",
        "Remember that the input sentences were heavily filtered. For this small\n",
        "dataset we can use relatively small networks of 256 hidden nodes and a\n",
        "single GRU layer. After about 40 minutes on a MacBook CPU we'll get some\n",
        "reasonable results.\n",
        "\n",
        ".. Note::\n",
        "   If you run this notebook you can train, interrupt the kernel,\n",
        "   evaluate, and continue training later. Comment out the lines where the\n",
        "   encoder and decoder are initialized and run ``trainIters`` again.\n",
        "\n",
        "\n"
      ]
    },
    {
      "cell_type": "code",
      "metadata": {
        "colab": {
          "base_uri": "https://localhost:8080/"
        },
        "id": "bJoLJ8ARwsda",
        "outputId": "5b1d639f-873e-4027-d871-3d768111b612"
      },
      "source": [
        "device"
      ],
      "execution_count": 76,
      "outputs": [
        {
          "output_type": "execute_result",
          "data": {
            "text/plain": [
              "device(type='cuda')"
            ]
          },
          "metadata": {
            "tags": []
          },
          "execution_count": 76
        }
      ]
    },
    {
      "cell_type": "code",
      "metadata": {
        "colab": {
          "base_uri": "https://localhost:8080/"
        },
        "id": "v-45b8_lHRiK",
        "outputId": "2c63c957-c96f-4ce6-fa26-3d3a9174c07f"
      },
      "source": [
        "hidden_size = 300\n",
        "encoder1 = EncoderRNN(input_lang.n_words, hidden_size).to(device)\n",
        "attn_decoder1 = AttnDecoderRNN(hidden_size, output_lang.n_words, dropout_p=0.3).to(device)\n",
        "\n",
        "trainIters(encoder1, attn_decoder1, 90000, print_every=5000)"
      ],
      "execution_count": 77,
      "outputs": [
        {
          "output_type": "stream",
          "text": [
            "2m 41s (- 45m 45s) (5000 5%) 3.6272\n",
            "5m 18s (- 42m 25s) (10000 11%) 3.0602\n",
            "7m 56s (- 39m 43s) (15000 16%) 2.8022\n",
            "10m 33s (- 36m 57s) (20000 22%) 2.5785\n",
            "13m 11s (- 34m 18s) (25000 27%) 2.4144\n",
            "15m 49s (- 31m 39s) (30000 33%) 2.2028\n",
            "18m 28s (- 29m 1s) (35000 38%) 2.0771\n",
            "21m 6s (- 26m 22s) (40000 44%) 1.9515\n",
            "23m 44s (- 23m 44s) (45000 50%) 1.7920\n",
            "26m 22s (- 21m 6s) (50000 55%) 1.6828\n",
            "29m 0s (- 18m 27s) (55000 61%) 1.5564\n",
            "31m 38s (- 15m 49s) (60000 66%) 1.4653\n",
            "34m 16s (- 13m 11s) (65000 72%) 1.3440\n",
            "36m 54s (- 10m 32s) (70000 77%) 1.2892\n",
            "39m 32s (- 7m 54s) (75000 83%) 1.1816\n",
            "42m 11s (- 5m 16s) (80000 88%) 1.1049\n",
            "44m 49s (- 2m 38s) (85000 94%) 1.0365\n",
            "47m 28s (- 0m 0s) (90000 100%) 1.0132\n"
          ],
          "name": "stdout"
        }
      ]
    },
    {
      "cell_type": "code",
      "metadata": {
        "colab": {
          "base_uri": "https://localhost:8080/"
        },
        "id": "e_rlcrR1Iqld",
        "outputId": "c01785bc-9b36-4033-e8cf-96903688f6ad"
      },
      "source": [
        "evaluateRandomly(encoder1, attn_decoder1)"
      ],
      "execution_count": 48,
      "outputs": [
        {
          "output_type": "stream",
          "text": [
            "> they re right behind you .\n",
            "= elles se trouvent juste derriere toi .\n",
            "< elles sont juste derriere toi . <EOS>\n",
            "\n",
            "> i m lucky today .\n",
            "= je suis chanceux aujourd hui .\n",
            "< je suis chanceux aujourd hui . <EOS>\n",
            "\n",
            "> i m dancing .\n",
            "= je suis en train de danser .\n",
            "< je suis en train de danser . <EOS>\n",
            "\n",
            "> i m just glad everything worked out .\n",
            "= tout est bien qui finit bien .\n",
            "< je suis sur bien tout . <EOS>\n",
            "\n",
            "> they are spraying the fruit trees .\n",
            "= ils epandent les arbres fruitiers .\n",
            "< ils epandent les arbres fruitiers . <EOS>\n",
            "\n",
            "> you re worried aren t you ?\n",
            "= vous etes inquietes n est ce pas ?\n",
            "< tu es inquiete n est ce pas ? <EOS>\n",
            "\n",
            "> you re wasting ammo .\n",
            "= vous gaspillez des munitions .\n",
            "< tu gaspillez des munitions . <EOS>\n",
            "\n",
            "> he s a very talented man .\n",
            "= c est un homme tres talentueux .\n",
            "< c est un homme tres talentueux . <EOS>\n",
            "\n",
            "> i m being paid to do this .\n",
            "= je suis paye pour faire ca .\n",
            "< je suis surpris a faire faire faire cela . <EOS>\n",
            "\n",
            "> i m observant .\n",
            "= je suis respectueuse .\n",
            "< je suis respectueuse . <EOS>\n",
            "\n"
          ],
          "name": "stdout"
        }
      ]
    },
    {
      "cell_type": "markdown",
      "metadata": {
        "id": "Y4J1zvrwInJk"
      },
      "source": [
        "Visualizing Attention\n",
        "---------------------\n",
        "\n",
        "A useful property of the attention mechanism is its highly interpretable\n",
        "outputs. Because it is used to weight specific encoder outputs of the\n",
        "input sequence, we can imagine looking where the network is focused most\n",
        "at each time step.\n",
        "\n",
        "You could simply run ``plt.matshow(attentions)`` to see attention output\n",
        "displayed as a matrix, with the columns being input steps and rows being\n",
        "output steps:\n",
        "\n",
        "\n"
      ]
    },
    {
      "cell_type": "code",
      "metadata": {
        "colab": {
          "base_uri": "https://localhost:8080/",
          "height": 292
        },
        "id": "1t-jIrj1HVL9",
        "outputId": "d9bb2b03-c3a8-44a5-d13f-f962ae341534"
      },
      "source": [
        "%matplotlib inline\n",
        "output_words, attentions = evaluate(\n",
        "    encoder1, attn_decoder1, \"you re not going fast enough .\")\n",
        "plt.matshow(attentions.numpy())"
      ],
      "execution_count": null,
      "outputs": [
        {
          "output_type": "execute_result",
          "data": {
            "text/plain": [
              "<matplotlib.image.AxesImage at 0x7fc974909510>"
            ]
          },
          "metadata": {
            "tags": []
          },
          "execution_count": 79
        },
        {
          "output_type": "display_data",
          "data": {
            "image/png": "[encoded data removed]",
            "text/plain": [
              "<Figure size 360x288 with 1 Axes>"
            ]
          },
          "metadata": {
            "tags": [],
            "needs_background": "light"
          }
        }
      ]
    },
    {
      "cell_type": "markdown",
      "metadata": {
        "id": "J5zYmdIDIvbR"
      },
      "source": [
        "For a better viewing experience we will do the extra work of adding axes\n",
        "and labels:"
      ]
    },
    {
      "cell_type": "code",
      "metadata": {
        "colab": {
          "base_uri": "https://localhost:8080/",
          "height": 1000
        },
        "id": "6iRp2UgrIxPQ",
        "outputId": "f82c3286-42dd-490c-e395-984a06571058"
      },
      "source": [
        "def showAttention(input_sentence, output_words, attentions):\n",
        "    # Set up figure with colorbar\n",
        "    fig = plt.figure()\n",
        "    ax = fig.add_subplot(111)\n",
        "    cax = ax.matshow(attentions.numpy(), cmap='bone')\n",
        "    fig.colorbar(cax)\n",
        "\n",
        "    # Set up axes\n",
        "    ax.set_xticklabels([''] + input_sentence.split(' ') +\n",
        "                       ['<EOS>'], rotation=90)\n",
        "    ax.set_yticklabels([''] + output_words)\n",
        "\n",
        "    # Show label at every tick\n",
        "    ax.xaxis.set_major_locator(ticker.MultipleLocator(1))\n",
        "    ax.yaxis.set_major_locator(ticker.MultipleLocator(1))\n",
        "\n",
        "    plt.show()\n",
        "\n",
        "\n",
        "def evaluateAndShowAttention(input_sentence):\n",
        "    output_words, attentions = evaluate(\n",
        "        encoder1, attn_decoder1, input_sentence)\n",
        "    print('input =', input_sentence)\n",
        "    print('output =', ' '.join(output_words))\n",
        "    showAttention(input_sentence, output_words, attentions)\n",
        "\n",
        "\n",
        "evaluateAndShowAttention(\"you re old .\")\n",
        "\n",
        "evaluateAndShowAttention(\"you re very timid .\")\n",
        "\n",
        "evaluateAndShowAttention(\"you are so stupid .\")\n",
        "\n",
        "evaluateAndShowAttention(\"i m fussy .\")"
      ],
      "execution_count": null,
      "outputs": [
        {
          "output_type": "stream",
          "text": [
            "input = you re old .\n",
            "output = tu es vieille . <EOS>\n"
          ],
          "name": "stdout"
        },
        {
          "output_type": "display_data",
          "data": {
            "image/png": "[encoded data removed]",
            "text/plain": [
              "<Figure size 432x288 with 2 Axes>"
            ]
          },
          "metadata": {
            "tags": [],
            "needs_background": "light"
          }
        },
        {
          "output_type": "stream",
          "text": [
            "input = you re very timid .\n",
            "output = vous etes tres craintive . <EOS>\n"
          ],
          "name": "stdout"
        },
        {
          "output_type": "display_data",
          "data": {
            "image/png": "[encoded data removed]",
            "text/plain": [
              "<Figure size 432x288 with 2 Axes>"
            ]
          },
          "metadata": {
            "tags": [],
            "needs_background": "light"
          }
        },
        {
          "output_type": "stream",
          "text": [
            "input = you are so stupid .\n",
            "output = vous etes tellement idiot ! <EOS>\n"
          ],
          "name": "stdout"
        },
        {
          "output_type": "display_data",
          "data": {
            "image/png": "[encoded data removed]",
            "text/plain": [
              "<Figure size 432x288 with 2 Axes>"
            ]
          },
          "metadata": {
            "tags": [],
            "needs_background": "light"
          }
        },
        {
          "output_type": "stream",
          "text": [
            "input = i m fussy .\n",
            "output = je suis au . . <EOS>\n"
          ],
          "name": "stdout"
        },
        {
          "output_type": "display_data",
          "data": {
            "image/png": "[encoded data removed]",
            "text/plain": [
              "<Figure size 432x288 with 2 Axes>"
            ]
          },
          "metadata": {
            "tags": [],
            "needs_background": "light"
          }
        }
      ]
    },
    {
      "cell_type": "code",
      "metadata": {
        "id": "RM_7deQ7PB2u"
      },
      "source": [
        ""
      ],
      "execution_count": null,
      "outputs": []
    }
  ]
}