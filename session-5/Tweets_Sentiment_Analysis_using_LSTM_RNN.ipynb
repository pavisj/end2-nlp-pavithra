{
 "cells": [
  {
   "cell_type": "markdown",
   "metadata": {
    "id": "GYiRsFGD6iUC"
   },
   "source": [
    "# Trainng the Augmented Tweets Dataset for Sentiment Analysis "
   ]
  },
  {
   "cell_type": "markdown",
   "metadata": {
    "id": "tp5IzBGsPGHs"
   },
   "source": [
    "## Dataset Preview\n",
    "\n"
   ]
  },
  {
   "cell_type": "code",
   "execution_count": null,
   "metadata": {
    "colab": {
     "background_save": true,
     "base_uri": "https://localhost:8080/",
     "height": 422,
     "resources": {
      "http://localhost:8080/nbextensions/google.colab/files.js": {
       "data": "Ly8gQ29weXJpZ2h0IDIwMTcgR29vZ2xlIExMQwovLwovLyBMaWNlbnNlZCB1bmRlciB0aGUgQXBhY2hlIExpY2Vuc2UsIFZlcnNpb24gMi4wICh0aGUgIkxpY2Vuc2UiKTsKLy8geW91IG1heSBub3QgdXNlIHRoaXMgZmlsZSBleGNlcHQgaW4gY29tcGxpYW5jZSB3aXRoIHRoZSBMaWNlbnNlLgovLyBZb3UgbWF5IG9idGFpbiBhIGNvcHkgb2YgdGhlIExpY2Vuc2UgYXQKLy8KLy8gICAgICBodHRwOi8vd3d3LmFwYWNoZS5vcmcvbGljZW5zZXMvTElDRU5TRS0yLjAKLy8KLy8gVW5sZXNzIHJlcXVpcmVkIGJ5IGFwcGxpY2FibGUgbGF3IG9yIGFncmVlZCB0byBpbiB3cml0aW5nLCBzb2Z0d2FyZQovLyBkaXN0cmlidXRlZCB1bmRlciB0aGUgTGljZW5zZSBpcyBkaXN0cmlidXRlZCBvbiBhbiAiQVMgSVMiIEJBU0lTLAovLyBXSVRIT1VUIFdBUlJBTlRJRVMgT1IgQ09ORElUSU9OUyBPRiBBTlkgS0lORCwgZWl0aGVyIGV4cHJlc3Mgb3IgaW1wbGllZC4KLy8gU2VlIHRoZSBMaWNlbnNlIGZvciB0aGUgc3BlY2lmaWMgbGFuZ3VhZ2UgZ292ZXJuaW5nIHBlcm1pc3Npb25zIGFuZAovLyBsaW1pdGF0aW9ucyB1bmRlciB0aGUgTGljZW5zZS4KCi8qKgogKiBAZmlsZW92ZXJ2aWV3IEhlbHBlcnMgZm9yIGdvb2dsZS5jb2xhYiBQeXRob24gbW9kdWxlLgogKi8KKGZ1bmN0aW9uKHNjb3BlKSB7CmZ1bmN0aW9uIHNwYW4odGV4dCwgc3R5bGVBdHRyaWJ1dGVzID0ge30pIHsKICBjb25zdCBlbGVtZW50ID0gZG9jdW1lbnQuY3JlYXRlRWxlbWVudCgnc3BhbicpOwogIGVsZW1lbnQudGV4dENvbnRlbnQgPSB0ZXh0OwogIGZvciAoY29uc3Qga2V5IG9mIE9iamVjdC5rZXlzKHN0eWxlQXR0cmlidXRlcykpIHsKICAgIGVsZW1lbnQuc3R5bGVba2V5XSA9IHN0eWxlQXR0cmlidXRlc1trZXldOwogIH0KICByZXR1cm4gZWxlbWVudDsKfQoKLy8gTWF4IG51bWJlciBvZiBieXRlcyB3aGljaCB3aWxsIGJlIHVwbG9hZGVkIGF0IGEgdGltZS4KY29uc3QgTUFYX1BBWUxPQURfU0laRSA9IDEwMCAqIDEwMjQ7CgpmdW5jdGlvbiBfdXBsb2FkRmlsZXMoaW5wdXRJZCwgb3V0cHV0SWQpIHsKICBjb25zdCBzdGVwcyA9IHVwbG9hZEZpbGVzU3RlcChpbnB1dElkLCBvdXRwdXRJZCk7CiAgY29uc3Qgb3V0cHV0RWxlbWVudCA9IGRvY3VtZW50LmdldEVsZW1lbnRCeUlkKG91dHB1dElkKTsKICAvLyBDYWNoZSBzdGVwcyBvbiB0aGUgb3V0cHV0RWxlbWVudCB0byBtYWtlIGl0IGF2YWlsYWJsZSBmb3IgdGhlIG5leHQgY2FsbAogIC8vIHRvIHVwbG9hZEZpbGVzQ29udGludWUgZnJvbSBQeXRob24uCiAgb3V0cHV0RWxlbWVudC5zdGVwcyA9IHN0ZXBzOwoKICByZXR1cm4gX3VwbG9hZEZpbGVzQ29udGludWUob3V0cHV0SWQpOwp9CgovLyBUaGlzIGlzIHJvdWdobHkgYW4gYXN5bmMgZ2VuZXJhdG9yIChub3Qgc3VwcG9ydGVkIGluIHRoZSBicm93c2VyIHlldCksCi8vIHdoZXJlIHRoZXJlIGFyZSBtdWx0aXBsZSBhc3luY2hyb25vdXMgc3RlcHMgYW5kIHRoZSBQeXRob24gc2lkZSBpcyBnb2luZwovLyB0byBwb2xsIGZvciBjb21wbGV0aW9uIG9mIGVhY2ggc3RlcC4KLy8gVGhpcyB1c2VzIGEgUHJvbWlzZSB0byBibG9jayB0aGUgcHl0aG9uIHNpZGUgb24gY29tcGxldGlvbiBvZiBlYWNoIHN0ZXAsCi8vIHRoZW4gcGFzc2VzIHRoZSByZXN1bHQgb2YgdGhlIHByZXZpb3VzIHN0ZXAgYXMgdGhlIGlucHV0IHRvIHRoZSBuZXh0IHN0ZXAuCmZ1bmN0aW9uIF91cGxvYWRGaWxlc0NvbnRpbnVlKG91dHB1dElkKSB7CiAgY29uc3Qgb3V0cHV0RWxlbWVudCA9IGRvY3VtZW50LmdldEVsZW1lbnRCeUlkKG91dHB1dElkKTsKICBjb25zdCBzdGVwcyA9IG91dHB1dEVsZW1lbnQuc3RlcHM7CgogIGNvbnN0IG5leHQgPSBzdGVwcy5uZXh0KG91dHB1dEVsZW1lbnQubGFzdFByb21pc2VWYWx1ZSk7CiAgcmV0dXJuIFByb21pc2UucmVzb2x2ZShuZXh0LnZhbHVlLnByb21pc2UpLnRoZW4oKHZhbHVlKSA9PiB7CiAgICAvLyBDYWNoZSB0aGUgbGFzdCBwcm9taXNlIHZhbHVlIHRvIG1ha2UgaXQgYXZhaWxhYmxlIHRvIHRoZSBuZXh0CiAgICAvLyBzdGVwIG9mIHRoZSBnZW5lcmF0b3IuCiAgICBvdXRwdXRFbGVtZW50Lmxhc3RQcm9taXNlVmFsdWUgPSB2YWx1ZTsKICAgIHJldHVybiBuZXh0LnZhbHVlLnJlc3BvbnNlOwogIH0pOwp9CgovKioKICogR2VuZXJhdG9yIGZ1bmN0aW9uIHdoaWNoIGlzIGNhbGxlZCBiZXR3ZWVuIGVhY2ggYXN5bmMgc3RlcCBvZiB0aGUgdXBsb2FkCiAqIHByb2Nlc3MuCiAqIEBwYXJhbSB7c3RyaW5nfSBpbnB1dElkIEVsZW1lbnQgSUQgb2YgdGhlIGlucHV0IGZpbGUgcGlja2VyIGVsZW1lbnQuCiAqIEBwYXJhbSB7c3RyaW5nfSBvdXRwdXRJZCBFbGVtZW50IElEIG9mIHRoZSBvdXRwdXQgZGlzcGxheS4KICogQHJldHVybiB7IUl0ZXJhYmxlPCFPYmplY3Q+fSBJdGVyYWJsZSBvZiBuZXh0IHN0ZXBzLgogKi8KZnVuY3Rpb24qIHVwbG9hZEZpbGVzU3RlcChpbnB1dElkLCBvdXRwdXRJZCkgewogIGNvbnN0IGlucHV0RWxlbWVudCA9IGRvY3VtZW50LmdldEVsZW1lbnRCeUlkKGlucHV0SWQpOwogIGlucHV0RWxlbWVudC5kaXNhYmxlZCA9IGZhbHNlOwoKICBjb25zdCBvdXRwdXRFbGVtZW50ID0gZG9jdW1lbnQuZ2V0RWxlbWVudEJ5SWQob3V0cHV0SWQpOwogIG91dHB1dEVsZW1lbnQuaW5uZXJIVE1MID0gJyc7CgogIGNvbnN0IHBpY2tlZFByb21pc2UgPSBuZXcgUHJvbWlzZSgocmVzb2x2ZSkgPT4gewogICAgaW5wdXRFbGVtZW50LmFkZEV2ZW50TGlzdGVuZXIoJ2NoYW5nZScsIChlKSA9PiB7CiAgICAgIHJlc29sdmUoZS50YXJnZXQuZmlsZXMpOwogICAgfSk7CiAgfSk7CgogIGNvbnN0IGNhbmNlbCA9IGRvY3VtZW50LmNyZWF0ZUVsZW1lbnQoJ2J1dHRvbicpOwogIGlucHV0RWxlbWVudC5wYXJlbnRFbGVtZW50LmFwcGVuZENoaWxkKGNhbmNlbCk7CiAgY2FuY2VsLnRleHRDb250ZW50ID0gJ0NhbmNlbCB1cGxvYWQnOwogIGNvbnN0IGNhbmNlbFByb21pc2UgPSBuZXcgUHJvbWlzZSgocmVzb2x2ZSkgPT4gewogICAgY2FuY2VsLm9uY2xpY2sgPSAoKSA9PiB7CiAgICAgIHJlc29sdmUobnVsbCk7CiAgICB9OwogIH0pOwoKICAvLyBXYWl0IGZvciB0aGUgdXNlciB0byBwaWNrIHRoZSBmaWxlcy4KICBjb25zdCBmaWxlcyA9IHlpZWxkIHsKICAgIHByb21pc2U6IFByb21pc2UucmFjZShbcGlja2VkUHJvbWlzZSwgY2FuY2VsUHJvbWlzZV0pLAogICAgcmVzcG9uc2U6IHsKICAgICAgYWN0aW9uOiAnc3RhcnRpbmcnLAogICAgfQogIH07CgogIGNhbmNlbC5yZW1vdmUoKTsKCiAgLy8gRGlzYWJsZSB0aGUgaW5wdXQgZWxlbWVudCBzaW5jZSBmdXJ0aGVyIHBpY2tzIGFyZSBub3QgYWxsb3dlZC4KICBpbnB1dEVsZW1lbnQuZGlzYWJsZWQgPSB0cnVlOwoKICBpZiAoIWZpbGVzKSB7CiAgICByZXR1cm4gewogICAgICByZXNwb25zZTogewogICAgICAgIGFjdGlvbjogJ2NvbXBsZXRlJywKICAgICAgfQogICAgfTsKICB9CgogIGZvciAoY29uc3QgZmlsZSBvZiBmaWxlcykgewogICAgY29uc3QgbGkgPSBkb2N1bWVudC5jcmVhdGVFbGVtZW50KCdsaScpOwogICAgbGkuYXBwZW5kKHNwYW4oZmlsZS5uYW1lLCB7Zm9udFdlaWdodDogJ2JvbGQnfSkpOwogICAgbGkuYXBwZW5kKHNwYW4oCiAgICAgICAgYCgke2ZpbGUudHlwZSB8fCAnbi9hJ30pIC0gJHtmaWxlLnNpemV9IGJ5dGVzLCBgICsKICAgICAgICBgbGFzdCBtb2RpZmllZDogJHsKICAgICAgICAgICAgZmlsZS5sYXN0TW9kaWZpZWREYXRlID8gZmlsZS5sYXN0TW9kaWZpZWREYXRlLnRvTG9jYWxlRGF0ZVN0cmluZygpIDoKICAgICAgICAgICAgICAgICAgICAgICAgICAgICAgICAgICAgJ24vYSd9IC0gYCkpOwogICAgY29uc3QgcGVyY2VudCA9IHNwYW4oJzAlIGRvbmUnKTsKICAgIGxpLmFwcGVuZENoaWxkKHBlcmNlbnQpOwoKICAgIG91dHB1dEVsZW1lbnQuYXBwZW5kQ2hpbGQobGkpOwoKICAgIGNvbnN0IGZpbGVEYXRhUHJvbWlzZSA9IG5ldyBQcm9taXNlKChyZXNvbHZlKSA9PiB7CiAgICAgIGNvbnN0IHJlYWRlciA9IG5ldyBGaWxlUmVhZGVyKCk7CiAgICAgIHJlYWRlci5vbmxvYWQgPSAoZSkgPT4gewogICAgICAgIHJlc29sdmUoZS50YXJnZXQucmVzdWx0KTsKICAgICAgfTsKICAgICAgcmVhZGVyLnJlYWRBc0FycmF5QnVmZmVyKGZpbGUpOwogICAgfSk7CiAgICAvLyBXYWl0IGZvciB0aGUgZGF0YSB0byBiZSByZWFkeS4KICAgIGxldCBmaWxlRGF0YSA9IHlpZWxkIHsKICAgICAgcHJvbWlzZTogZmlsZURhdGFQcm9taXNlLAogICAgICByZXNwb25zZTogewogICAgICAgIGFjdGlvbjogJ2NvbnRpbnVlJywKICAgICAgfQogICAgfTsKCiAgICAvLyBVc2UgYSBjaHVua2VkIHNlbmRpbmcgdG8gYXZvaWQgbWVzc2FnZSBzaXplIGxpbWl0cy4gU2VlIGIvNjIxMTU2NjAuCiAgICBsZXQgcG9zaXRpb24gPSAwOwogICAgZG8gewogICAgICBjb25zdCBsZW5ndGggPSBNYXRoLm1pbihmaWxlRGF0YS5ieXRlTGVuZ3RoIC0gcG9zaXRpb24sIE1BWF9QQVlMT0FEX1NJWkUpOwogICAgICBjb25zdCBjaHVuayA9IG5ldyBVaW50OEFycmF5KGZpbGVEYXRhLCBwb3NpdGlvbiwgbGVuZ3RoKTsKICAgICAgcG9zaXRpb24gKz0gbGVuZ3RoOwoKICAgICAgY29uc3QgYmFzZTY0ID0gYnRvYShTdHJpbmcuZnJvbUNoYXJDb2RlLmFwcGx5KG51bGwsIGNodW5rKSk7CiAgICAgIHlpZWxkIHsKICAgICAgICByZXNwb25zZTogewogICAgICAgICAgYWN0aW9uOiAnYXBwZW5kJywKICAgICAgICAgIGZpbGU6IGZpbGUubmFtZSwKICAgICAgICAgIGRhdGE6IGJhc2U2NCwKICAgICAgICB9LAogICAgICB9OwoKICAgICAgbGV0IHBlcmNlbnREb25lID0gZmlsZURhdGEuYnl0ZUxlbmd0aCA9PT0gMCA/CiAgICAgICAgICAxMDAgOgogICAgICAgICAgTWF0aC5yb3VuZCgocG9zaXRpb24gLyBmaWxlRGF0YS5ieXRlTGVuZ3RoKSAqIDEwMCk7CiAgICAgIHBlcmNlbnQudGV4dENvbnRlbnQgPSBgJHtwZXJjZW50RG9uZX0lIGRvbmVgOwoKICAgIH0gd2hpbGUgKHBvc2l0aW9uIDwgZmlsZURhdGEuYnl0ZUxlbmd0aCk7CiAgfQoKICAvLyBBbGwgZG9uZS4KICB5aWVsZCB7CiAgICByZXNwb25zZTogewogICAgICBhY3Rpb246ICdjb21wbGV0ZScsCiAgICB9CiAgfTsKfQoKc2NvcGUuZ29vZ2xlID0gc2NvcGUuZ29vZ2xlIHx8IHt9OwpzY29wZS5nb29nbGUuY29sYWIgPSBzY29wZS5nb29nbGUuY29sYWIgfHwge307CnNjb3BlLmdvb2dsZS5jb2xhYi5fZmlsZXMgPSB7CiAgX3VwbG9hZEZpbGVzLAogIF91cGxvYWRGaWxlc0NvbnRpbnVlLAp9Owp9KShzZWxmKTsK",
       "headers": [
        [
         "content-type",
         "application/javascript"
        ]
       ],
       "ok": true,
       "status": 200,
       "status_text": "OK"
      }
     }
    },
    "id": "IVqwmKWDMUlP",
    "outputId": "8d0b0ebe-ca95-4d9d-d7c9-ad83efe71d6b"
   },
   "outputs": [
    {
     "data": {
      "text/html": [
       "\n",
       "     <input type=\"file\" id=\"files-16f44402-fb67-4105-89c6-3445138dc574\" name=\"files[]\" multiple disabled\n",
       "        style=\"border:none\" />\n",
       "     <output id=\"result-16f44402-fb67-4105-89c6-3445138dc574\">\n",
       "      Upload widget is only available when the cell has been executed in the\n",
       "      current browser session. Please rerun this cell to enable.\n",
       "      </output>\n",
       "      <script src=\"/nbextensions/google.colab/files.js\"></script> "
      ],
      "text/plain": [
       "<IPython.core.display.HTML object>"
      ]
     },
     "metadata": {
      "tags": []
     },
     "output_type": "display_data"
    },
    {
     "ename": "TypeError",
     "evalue": "ignored",
     "output_type": "error",
     "traceback": [
      "\u001b[0;31m---------------------------------------------------------------------------\u001b[0m",
      "\u001b[0;31mTypeError\u001b[0m                                 Traceback (most recent call last)",
      "\u001b[0;32m<ipython-input-1-96729ad8dc7f>\u001b[0m in \u001b[0;36m<module>\u001b[0;34m()\u001b[0m\n\u001b[1;32m      2\u001b[0m \u001b[0;32mfrom\u001b[0m \u001b[0mgoogle\u001b[0m\u001b[0;34m.\u001b[0m\u001b[0mcolab\u001b[0m \u001b[0;32mimport\u001b[0m \u001b[0mfiles\u001b[0m\u001b[0;34m\u001b[0m\u001b[0;34m\u001b[0m\u001b[0m\n\u001b[1;32m      3\u001b[0m \u001b[0;34m\u001b[0m\u001b[0m\n\u001b[0;32m----> 4\u001b[0;31m \u001b[0muploaded\u001b[0m \u001b[0;34m=\u001b[0m \u001b[0mfiles\u001b[0m\u001b[0;34m.\u001b[0m\u001b[0mupload\u001b[0m\u001b[0;34m(\u001b[0m\u001b[0;34m)\u001b[0m\u001b[0;34m\u001b[0m\u001b[0;34m\u001b[0m\u001b[0m\n\u001b[0m\u001b[1;32m      5\u001b[0m \u001b[0;34m\u001b[0m\u001b[0m\n\u001b[1;32m      6\u001b[0m \u001b[0;32mfor\u001b[0m \u001b[0mfn\u001b[0m \u001b[0;32min\u001b[0m \u001b[0muploaded\u001b[0m\u001b[0;34m.\u001b[0m\u001b[0mkeys\u001b[0m\u001b[0;34m(\u001b[0m\u001b[0;34m)\u001b[0m\u001b[0;34m:\u001b[0m\u001b[0;34m\u001b[0m\u001b[0;34m\u001b[0m\u001b[0m\n",
      "\u001b[0;32m/usr/local/lib/python3.7/dist-packages/google/colab/files.py\u001b[0m in \u001b[0;36mupload\u001b[0;34m()\u001b[0m\n\u001b[1;32m     67\u001b[0m   \u001b[0mlocal_filenames\u001b[0m \u001b[0;34m=\u001b[0m \u001b[0mdict\u001b[0m\u001b[0;34m(\u001b[0m\u001b[0;34m)\u001b[0m\u001b[0;34m\u001b[0m\u001b[0;34m\u001b[0m\u001b[0m\n\u001b[1;32m     68\u001b[0m \u001b[0;34m\u001b[0m\u001b[0m\n\u001b[0;32m---> 69\u001b[0;31m   \u001b[0;32mwhile\u001b[0m \u001b[0mresult\u001b[0m\u001b[0;34m[\u001b[0m\u001b[0;34m'action'\u001b[0m\u001b[0;34m]\u001b[0m \u001b[0;34m!=\u001b[0m \u001b[0;34m'complete'\u001b[0m\u001b[0;34m:\u001b[0m\u001b[0;34m\u001b[0m\u001b[0;34m\u001b[0m\u001b[0m\n\u001b[0m\u001b[1;32m     70\u001b[0m     result = _output.eval_js(\n\u001b[1;32m     71\u001b[0m         'google.colab._files._uploadFilesContinue(\"{output_id}\")'.format(\n",
      "\u001b[0;31mTypeError\u001b[0m: 'NoneType' object is not subscriptable"
     ]
    }
   ],
   "source": [
    "#Upload tweets csv file\n",
    "from google.colab import files\n",
    "\n",
    "uploaded = files.upload()\n",
    "\n",
    "for fn in uploaded.keys():\n",
    "  print('User uploaded file \"{name}\" with length {length} bytes'.format(\n",
    "      name=fn, length=len(uploaded[fn])))"
   ]
  },
  {
   "cell_type": "code",
   "execution_count": null,
   "metadata": {
    "colab": {
     "base_uri": "https://localhost:8080/"
    },
    "id": "o1-Yz-5RRFYc",
    "outputId": "38303c33-832f-4b44-998a-e3334a08798e"
   },
   "outputs": [
    {
     "name": "stdout",
     "output_type": "stream",
     "text": [
      "Length of Pre-augmented train dataset:  1159\n",
      "Length of Pre-augmented train dataset:  3197\n",
      "Length of Pre-augmented train dataset:  205\n"
     ]
    }
   ],
   "source": [
    "import pandas as pd\n",
    "df_train_pre_aug = pd.read_csv('train_tweets.csv')\n",
    "print(\"Length of Pre-augmented train dataset: \",len(df_train_pre_aug))\n",
    "df_train = pd.read_csv('augmented_tweets_train.csv')\n",
    "print(\"Length of augmented train dataset: \",len(df_train))\n",
    "df_valid = pd.read_csv('valid_tweets.csv')\n",
    "print(\"Length of Validation dataset: \",len(df_valid))"
   ]
  },
  {
   "cell_type": "code",
   "execution_count": null,
   "metadata": {
    "id": "TuhQ_EivBYMI"
   },
   "outputs": [],
   "source": [
    "df_train[\"tweets\"]=df_train[\"tweets\"].astype(str)\n",
    "df_train[\"labels\"] = df_train[\"labels\"].astype(int)"
   ]
  },
  {
   "cell_type": "code",
   "execution_count": null,
   "metadata": {
    "colab": {
     "base_uri": "https://localhost:8080/"
    },
    "id": "zqRsoF6xYdgl",
    "outputId": "ceeb8d0f-81a3-497f-ef0e-e9d866c85df9"
   },
   "outputs": [
    {
     "data": {
      "text/plain": [
       "0    2174\n",
       "1     830\n",
       "2     193\n",
       "Name: labels, dtype: int64"
      ]
     },
     "execution_count": 5,
     "metadata": {
      "tags": []
     },
     "output_type": "execute_result"
    }
   ],
   "source": [
    "df_train.labels.value_counts()"
   ]
  },
  {
   "cell_type": "markdown",
   "metadata": {
    "id": "XJ6o_79ISSVb"
   },
   "source": [
    "## Defining Fields"
   ]
  },
  {
   "cell_type": "markdown",
   "metadata": {
    "id": "e63g08ijOrf7"
   },
   "source": [
    "First, we will be defining the data.Field for Training dataset and will repeat the same for Validation Dataset"
   ]
  },
  {
   "cell_type": "code",
   "execution_count": null,
   "metadata": {
    "colab": {
     "base_uri": "https://localhost:8080/"
    },
    "id": "qk8IP4SK1Lrp",
    "outputId": "478a38fd-bc79-4cf6-ce5f-500b314bd1e4"
   },
   "outputs": [
    {
     "data": {
      "text/plain": [
       "<torch._C.Generator at 0x7f748b5b4770>"
      ]
     },
     "execution_count": 3,
     "metadata": {
      "tags": []
     },
     "output_type": "execute_result"
    }
   ],
   "source": [
    "# Import Library\n",
    "import random\n",
    "import torch, torchtext\n",
    "#from torchtext import data \n",
    "from torchtext.legacy import data\n",
    "\n",
    "# Manual Seed\n",
    "SEED = 43\n",
    "torch.manual_seed(SEED)"
   ]
  },
  {
   "cell_type": "code",
   "execution_count": null,
   "metadata": {
    "id": "u6bKQax2Mf_U"
   },
   "outputs": [],
   "source": [
    "Tweet = data.Field(sequential = True, tokenize = 'spacy', batch_first =True, include_lengths=True)\n",
    "Label = data.LabelField(tokenize ='spacy', is_target=True, batch_first =True, sequential =False)"
   ]
  },
  {
   "cell_type": "markdown",
   "metadata": {
    "id": "_2nfZ3bG7IAQ"
   },
   "source": [
    "The fields list below gives information about the columns that need to be extracted from the CSV/TSV file"
   ]
  },
  {
   "cell_type": "markdown",
   "metadata": {
    "id": "mX-lYIe_O7Vy"
   },
   "source": [
    "Having defined those fields, we now need to produce a list that maps them onto the list of rows that are in the CSV:"
   ]
  },
  {
   "cell_type": "code",
   "execution_count": null,
   "metadata": {
    "id": "VawdWq36O6td"
   },
   "outputs": [],
   "source": [
    "fields = [('tweets', Tweet),('labels',Label)]"
   ]
  },
  {
   "cell_type": "markdown",
   "metadata": {
    "id": "ZbtZ-Ph2P1xL"
   },
   "source": [
    "Armed with our declared fields, lets convert from pandas to list to torchtext. We could also use TabularDataset to apply that definition to the CSV directly but showing an alternative approach too."
   ]
  },
  {
   "cell_type": "code",
   "execution_count": null,
   "metadata": {
    "id": "L3OLcJ5B7rHz"
   },
   "outputs": [],
   "source": [
    "example = [data.Example.fromlist([df_train.tweets[i],df_train.labels[i]], fields) for i in range(df_train.shape[0])] "
   ]
  },
  {
   "cell_type": "code",
   "execution_count": null,
   "metadata": {
    "id": "nT-flpH-P1cd"
   },
   "outputs": [],
   "source": [
    "# Creating dataset\n",
    "#twitterDataset = data.TabularDataset(path=\"tweets.csv\", format=\"CSV\", fields=fields, skip_header=True)\n",
    "\n",
    "twitter_train_dataset = data.Dataset(example, fields)"
   ]
  },
  {
   "cell_type": "markdown",
   "metadata": {
    "id": "g6ZnyCPaR08F"
   },
   "source": [
    "Finally, we can split into training, testing, and validation sets by using the split() method:"
   ]
  },
  {
   "cell_type": "code",
   "execution_count": null,
   "metadata": {
    "id": "uPYXyuKhRpBk"
   },
   "outputs": [],
   "source": [
    "#(train, valid) = twitterDataset.split(split_ratio=[0.85, 0.15], random_state=random.seed(SEED), stratified=True, strata_field = \"labels\")"
   ]
  },
  {
   "cell_type": "markdown",
   "metadata": {
    "id": "gpmKkoIO8vEO"
   },
   "source": []
  },
  {
   "cell_type": "code",
   "execution_count": null,
   "metadata": {
    "colab": {
     "base_uri": "https://localhost:8080/"
    },
    "id": "ykvsCGQMR6UD",
    "outputId": "cc27da1e-c88a-408a-9709-b2b4d03400ea"
   },
   "outputs": [
    {
     "data": {
      "text/plain": [
       "(1159, 205)"
      ]
     },
     "execution_count": 37,
     "metadata": {
      "tags": []
     },
     "output_type": "execute_result"
    }
   ],
   "source": [
    "#(len(train), len(valid))"
   ]
  },
  {
   "cell_type": "markdown",
   "metadata": {
    "id": "kix8P2IKSBaV"
   },
   "source": [
    "An example from the dataset:"
   ]
  },
  {
   "cell_type": "code",
   "execution_count": null,
   "metadata": {
    "colab": {
     "base_uri": "https://localhost:8080/"
    },
    "id": "dUpEOQruR9JL",
    "outputId": "3985e7ba-c30f-42c3-8624-79620287e54b"
   },
   "outputs": [
    {
     "data": {
      "text/plain": [
       "{'labels': 0,\n",
       " 'tweets': ['American',\n",
       "  'the',\n",
       "  'So',\n",
       "  'do',\n",
       "  'have',\n",
       "  'tea',\n",
       "  'with',\n",
       "  'Queen',\n",
       "  'kid',\n",
       "  'you',\n",
       "  'like',\n",
       "  'go',\n",
       "  'to',\n",
       "  'Mcdonalds']}"
      ]
     },
     "execution_count": 11,
     "metadata": {
      "tags": []
     },
     "output_type": "execute_result"
    }
   ],
   "source": [
    "vars(twitter_train_dataset.examples[10])"
   ]
  },
  {
   "cell_type": "code",
   "execution_count": null,
   "metadata": {
    "id": "5HCYvTtWAF0e"
   },
   "outputs": [],
   "source": [
    "example = [data.Example.fromlist([df_valid.tweets[i],df_valid.labels[i]], fields) for i in range(df_valid.shape[0])] \n",
    "twitter_valid_dataset = data.Dataset(example, fields)"
   ]
  },
  {
   "cell_type": "markdown",
   "metadata": {
    "id": "AKdllP3FST4N"
   },
   "source": [
    "## Building Vocabulary"
   ]
  },
  {
   "cell_type": "markdown",
   "metadata": {
    "id": "SuvWQ-SpSmSz"
   },
   "source": [
    "At this point we would have built a one-hot encoding of each word that is present in the dataset—a rather tedious process. Thankfully, torchtext will do this for us, and will also allow a max_size parameter to be passed in to limit the vocabu‐ lary to the most common words. This is normally done to prevent the construction of a huge, memory-hungry model. We don’t want our GPUs too overwhelmed, after all. \n",
    "\n",
    "Let’s limit the vocabulary to a maximum of 5000 words in our training set:\n"
   ]
  },
  {
   "cell_type": "code",
   "execution_count": null,
   "metadata": {
    "id": "mx955u93SGeY"
   },
   "outputs": [],
   "source": [
    "Tweet.build_vocab(twitter_train_dataset)\n",
    "Label.build_vocab(twitter_train_dataset)"
   ]
  },
  {
   "cell_type": "markdown",
   "metadata": {
    "id": "xvyEeEjXTGhX"
   },
   "source": [
    "By default, torchtext will add two more special tokens, <unk> for unknown words and <pad>, a padding token that will be used to pad all our text to roughly the same size to help with efficient batching on the GPU."
   ]
  },
  {
   "cell_type": "code",
   "execution_count": null,
   "metadata": {
    "colab": {
     "base_uri": "https://localhost:8080/"
    },
    "id": "rA3tIESdcJdN",
    "outputId": "5a03d752-4ec8-479e-c534-ff872c75c095"
   },
   "outputs": [
    {
     "name": "stdout",
     "output_type": "stream",
     "text": [
      "Size of input vocab :  4943\n",
      "Size of label vocab :  3\n",
      "Top 10 words appreared repeatedly : [('Obama', 2514), ('.', 1869), ('the', 1278), ('to', 1015), ('s', 669), ('of', 597), ('a', 568), ('you', 517), ('is', 517), ('with', 508)]\n",
      "Labels :  defaultdict(None, {0: 0, 1: 1, 2: 2})\n"
     ]
    }
   ],
   "source": [
    "print('Size of input vocab : ', len(Tweet.vocab))\n",
    "print('Size of label vocab : ', len(Label.vocab))\n",
    "print('Top 10 words appreared repeatedly :', list(Tweet.vocab.freqs.most_common(10)))\n",
    "print('Labels : ', Label.vocab.stoi)"
   ]
  },
  {
   "cell_type": "markdown",
   "metadata": {
    "id": "rwjD2-ebTeUX"
   },
   "source": [
    "**Lots of stopwords!!**"
   ]
  },
  {
   "cell_type": "markdown",
   "metadata": {
    "id": "sLWW221gTpNs"
   },
   "source": [
    "Now we need to create a data loader to feed into our training loop. Torchtext provides the BucketIterator method that will produce what it calls a Batch, which is almost, but not quite, like the data loader we used on images."
   ]
  },
  {
   "cell_type": "markdown",
   "metadata": {
    "id": "EQqMhMoDUDmn"
   },
   "source": [
    "But at first declare the device we are using."
   ]
  },
  {
   "cell_type": "code",
   "execution_count": null,
   "metadata": {
    "id": "Zfo2QhGJUK4l"
   },
   "outputs": [],
   "source": [
    "device = torch.device(\"cuda\" if torch.cuda.is_available() else \"cpu\")"
   ]
  },
  {
   "cell_type": "code",
   "execution_count": null,
   "metadata": {
    "id": "zK2ORoqdTNsM"
   },
   "outputs": [],
   "source": [
    "train_iterator = data.BucketIterator(twitter_train_dataset, batch_size = 32, \n",
    "                                                            sort_key = lambda x: len(x.tweets),\n",
    "                                                            sort_within_batch=True, device = device)"
   ]
  },
  {
   "cell_type": "markdown",
   "metadata": {
    "id": "Gg7gTFQO4fby"
   },
   "source": [
    "Save the vocabulary for later use"
   ]
  },
  {
   "cell_type": "code",
   "execution_count": null,
   "metadata": {
    "id": "niE9Cc6-2bD_"
   },
   "outputs": [],
   "source": [
    "import os, pickle\n",
    "with open('train_tokenizer.pkl', 'wb') as tokens: \n",
    "    pickle.dump(Tweet.vocab.stoi, tokens)"
   ]
  },
  {
   "cell_type": "code",
   "execution_count": null,
   "metadata": {
    "id": "1no8YYiADPv8"
   },
   "outputs": [],
   "source": [
    "Tweet.build_vocab(twitter_valid_dataset)\n",
    "Label.build_vocab(twitter_valid_dataset)\n",
    "device = torch.device(\"cuda\" if torch.cuda.is_available() else \"cpu\")\n",
    "valid_iterator = data.BucketIterator(twitter_valid_dataset, batch_size = 32, \n",
    "                                                            sort_key = lambda x: len(x.tweets),\n",
    "                                                            sort_within_batch=True, device = device)\n",
    "\n",
    "with open('valid_tokenizer.pkl', 'wb') as tokens: \n",
    "    pickle.dump(Tweet.vocab.stoi, tokens)"
   ]
  },
  {
   "cell_type": "markdown",
   "metadata": {
    "id": "1AbsQwqkVyAy"
   },
   "source": [
    "## Defining Our Model"
   ]
  },
  {
   "cell_type": "markdown",
   "metadata": {
    "id": "E4PED4HJWH4t"
   },
   "source": [
    "We use the Embedding and LSTM modules in PyTorch to build a simple model for classifying tweets.\n",
    "\n",
    "In this model we create three layers. \n",
    "1. First, the words in our tweets are pushed into an Embedding layer, which we have established as a 300-dimensional vector embedding. \n",
    "2. That’s then fed into a 2 stacked-LSTMs with 100 hidden features (again, we’re compressing down from the 300-dimensional input like we did with images). We are using 2 LSTMs for using the dropout.\n",
    "3. Finally, the output of the LSTM (the final hidden state after processing the incoming tweet) is pushed through a standard fully connected layer with three outputs to correspond to our three possible classes (negative, positive, or neutral)."
   ]
  },
  {
   "cell_type": "code",
   "execution_count": null,
   "metadata": {
    "id": "43pVRccMT0bT"
   },
   "outputs": [],
   "source": [
    "import torch.nn as nn\n",
    "import torch.nn.functional as F\n",
    "\n",
    "class classifier(nn.Module):\n",
    "    \n",
    "    # Define all the layers used in model\n",
    "    def __init__(self, vocab_size, embedding_dim, hidden_dim, output_dim, n_layers, dropout):\n",
    "        \n",
    "        super().__init__()          \n",
    "        \n",
    "        # Embedding layer\n",
    "        self.embedding = nn.Embedding(vocab_size, embedding_dim)\n",
    "        \n",
    "        # LSTM layer\n",
    "        self.encoder = nn.LSTM(embedding_dim, \n",
    "                           hidden_dim, \n",
    "                           num_layers=n_layers, \n",
    "                           dropout=dropout,\n",
    "                           batch_first=True)\n",
    "        # try using nn.GRU or nn.RNN here and compare their performances\n",
    "        # try bidirectional and compare their performances\n",
    "        \n",
    "        # Dense layer\n",
    "        self.fc = nn.Linear(hidden_dim, output_dim)\n",
    "        \n",
    "    def forward(self, text, text_lengths):\n",
    "        \n",
    "        # text = [batch size, sent_length]\n",
    "        embedded = self.embedding(text)\n",
    "        # embedded = [batch size, sent_len, emb dim]\n",
    "      \n",
    "        # packed sequence\n",
    "        packed_embedded = nn.utils.rnn.pack_padded_sequence(embedded, text_lengths.cpu(), batch_first=True)\n",
    "        \n",
    "        packed_output, (hidden, cell) = self.encoder(packed_embedded)\n",
    "        #hidden = [batch size, num layers * num directions,hid dim]\n",
    "        #cell = [batch size, num layers * num directions,hid dim]\n",
    "    \n",
    "        # Hidden = [batch size, hid dim * num directions]\n",
    "        dense_outputs = self.fc(hidden)   \n",
    "        \n",
    "        # Final activation function softmax\n",
    "        output = F.softmax(dense_outputs[0], dim=1)\n",
    "            \n",
    "        return output"
   ]
  },
  {
   "cell_type": "code",
   "execution_count": null,
   "metadata": {
    "id": "rwBoGE_X_Fl8"
   },
   "outputs": [],
   "source": [
    "# Define hyperparameters\n",
    "size_of_vocab = len(Tweet.vocab)\n",
    "embedding_dim = 300\n",
    "num_hidden_nodes = 100\n",
    "num_output_nodes = 3\n",
    "num_layers = 2\n",
    "dropout = 0.2\n",
    "\n",
    "# Instantiate the model\n",
    "model = classifier(size_of_vocab, embedding_dim, num_hidden_nodes, num_output_nodes, num_layers, dropout = dropout)"
   ]
  },
  {
   "cell_type": "code",
   "execution_count": null,
   "metadata": {
    "colab": {
     "base_uri": "https://localhost:8080/"
    },
    "id": "O-pOMqzJ3eTv",
    "outputId": "69ef1f27-6771-4159-f8c6-4423237c6c9f"
   },
   "outputs": [
    {
     "name": "stdout",
     "output_type": "stream",
     "text": [
      "classifier(\n",
      "  (embedding): Embedding(1368, 300)\n",
      "  (encoder): LSTM(300, 100, num_layers=2, batch_first=True, dropout=0.2)\n",
      "  (fc): Linear(in_features=100, out_features=3, bias=True)\n",
      ")\n",
      "The model has 652,303 trainable parameters\n"
     ]
    }
   ],
   "source": [
    "print(model)\n",
    "\n",
    "#No. of trianable parameters\n",
    "def count_parameters(model):\n",
    "    return sum(p.numel() for p in model.parameters() if p.requires_grad)\n",
    "    \n",
    "print(f'The model has {count_parameters(model):,} trainable parameters')"
   ]
  },
  {
   "cell_type": "markdown",
   "metadata": {
    "id": "eXajorf5Xz7t"
   },
   "source": [
    "## Model Training and Evaluation"
   ]
  },
  {
   "cell_type": "markdown",
   "metadata": {
    "id": "PrE9RpMtZ1Vs"
   },
   "source": [
    "First define the optimizer and loss functions"
   ]
  },
  {
   "cell_type": "code",
   "execution_count": null,
   "metadata": {
    "id": "-u86JWdlXvu5"
   },
   "outputs": [],
   "source": [
    "import torch.optim as optim\n",
    "\n",
    "# define optimizer and loss\n",
    "optimizer = optim.Adam(model.parameters(), lr=2e-4)\n",
    "criterion = nn.CrossEntropyLoss()\n",
    "\n",
    "# define metric\n",
    "def binary_accuracy(preds, y):\n",
    "    #round predictions to the closest integer\n",
    "    _, predictions = torch.max(preds, 1)\n",
    "    \n",
    "    correct = (predictions == y).float() \n",
    "    acc = correct.sum() / len(correct)\n",
    "    return acc\n",
    "    \n",
    "# push to cuda if available\n",
    "model = model.to(device)\n",
    "criterion = criterion.to(device)"
   ]
  },
  {
   "cell_type": "markdown",
   "metadata": {
    "id": "3VCJtNb3Zt8w"
   },
   "source": [
    "The main thing to be aware of in this new training loop is that we have to reference `batch.tweets` and `batch.labels` to get the particular fields we’re interested in; they don’t fall out quite as nicely from the enumerator as they do in torchvision."
   ]
  },
  {
   "cell_type": "markdown",
   "metadata": {
    "id": "2WjEPLKsAiS_"
   },
   "source": [
    "**Training Loop**"
   ]
  },
  {
   "cell_type": "code",
   "execution_count": null,
   "metadata": {
    "id": "HDWNnGK3Y5oJ"
   },
   "outputs": [],
   "source": [
    "def train(model, iterator, optimizer, criterion):\n",
    "    \n",
    "    # initialize every epoch \n",
    "    epoch_loss = 0\n",
    "    epoch_acc = 0\n",
    "    \n",
    "    # set the model in training phase\n",
    "    model.train()  \n",
    "    \n",
    "    for batch in iterator:\n",
    "        \n",
    "        # resets the gradients after every batch\n",
    "        optimizer.zero_grad()   \n",
    "        \n",
    "        # retrieve text and no. of words\n",
    "        tweet, tweet_lengths = batch.tweets   \n",
    "        \n",
    "        # convert to 1D tensor\n",
    "        predictions = model(tweet, tweet_lengths).squeeze()  \n",
    "        \n",
    "        # compute the loss\n",
    "        loss = criterion(predictions, batch.labels)        \n",
    "        \n",
    "        # compute the binary accuracy\n",
    "        acc = binary_accuracy(predictions, batch.labels)   \n",
    "        \n",
    "        # backpropage the loss and compute the gradients\n",
    "        loss.backward()       \n",
    "        \n",
    "        # update the weights\n",
    "        optimizer.step()      \n",
    "        \n",
    "        # loss and accuracy\n",
    "        epoch_loss += loss.item()  \n",
    "        epoch_acc += acc.item()    \n",
    "        \n",
    "    return epoch_loss / len(iterator), epoch_acc / len(iterator)"
   ]
  },
  {
   "cell_type": "markdown",
   "metadata": {
    "id": "CZcHhkkvAsCt"
   },
   "source": [
    "**Evaluation Loop**"
   ]
  },
  {
   "cell_type": "code",
   "execution_count": null,
   "metadata": {
    "id": "zHEe-zSVAriL"
   },
   "outputs": [],
   "source": [
    "def evaluate(model, iterator, criterion):\n",
    "    \n",
    "    # initialize every epoch\n",
    "    epoch_loss = 0\n",
    "    epoch_acc = 0\n",
    "\n",
    "    # deactivating dropout layers\n",
    "    model.eval()\n",
    "    \n",
    "    # deactivates autograd\n",
    "    with torch.no_grad():\n",
    "    \n",
    "        for batch in iterator:\n",
    "        \n",
    "            # retrieve text and no. of words\n",
    "            tweet, tweet_lengths = batch.tweets\n",
    "            \n",
    "            # convert to 1d tensor\n",
    "            predictions = model(tweet, tweet_lengths).squeeze()\n",
    "            \n",
    "            # compute loss and accuracy\n",
    "            loss = criterion(predictions, batch.labels)\n",
    "            acc = binary_accuracy(predictions, batch.labels)\n",
    "            \n",
    "            # keep track of loss and accuracy\n",
    "            epoch_loss += loss.item()\n",
    "            epoch_acc += acc.item()\n",
    "        \n",
    "    return epoch_loss / len(iterator), epoch_acc / len(iterator)"
   ]
  },
  {
   "cell_type": "markdown",
   "metadata": {
    "id": "L6LJFW7HaJoV"
   },
   "source": [
    "**Let's Train and Evaluate**"
   ]
  },
  {
   "cell_type": "code",
   "execution_count": null,
   "metadata": {
    "colab": {
     "base_uri": "https://localhost:8080/"
    },
    "id": "tq330XlnaEU9",
    "outputId": "f8e27b50-0b85-4788-da0d-ed3db7f69b29"
   },
   "outputs": [
    {
     "name": "stdout",
     "output_type": "stream",
     "text": [
      "Epoch 1 | Time Taken: 0.44s\n",
      "\tTrain Loss: 0.948 | Train Acc: 66.78%\n",
      "\t Val. Loss: 0.949 |  Val. Acc: 71.22% \n",
      "\n",
      "Epoch 2 | Time Taken: 0.43s\n",
      "\tTrain Loss: 0.852 | Train Acc: 72.67%\n",
      "\t Val. Loss: 0.867 |  Val. Acc: 75.24% \n",
      "\n",
      "Epoch 3 | Time Taken: 0.43s\n",
      "\tTrain Loss: 0.825 | Train Acc: 74.29%\n",
      "\t Val. Loss: 0.848 |  Val. Acc: 73.90% \n",
      "\n",
      "Epoch 4 | Time Taken: 0.45s\n",
      "\tTrain Loss: 0.805 | Train Acc: 75.82%\n",
      "\t Val. Loss: 0.806 |  Val. Acc: 76.13% \n",
      "\n",
      "Epoch 5 | Time Taken: 0.44s\n",
      "\tTrain Loss: 0.783 | Train Acc: 77.57%\n",
      "\t Val. Loss: 0.801 |  Val. Acc: 76.58% \n",
      "\n",
      "Epoch 6 | Time Taken: 0.43s\n",
      "\tTrain Loss: 0.765 | Train Acc: 79.48%\n",
      "\t Val. Loss: 0.788 |  Val. Acc: 76.13% \n",
      "\n",
      "Epoch 7 | Time Taken: 0.44s\n",
      "\tTrain Loss: 0.746 | Train Acc: 81.27%\n",
      "\t Val. Loss: 0.759 |  Val. Acc: 80.80% \n",
      "\n",
      "Epoch 8 | Time Taken: 0.43s\n",
      "\tTrain Loss: 0.727 | Train Acc: 83.22%\n",
      "\t Val. Loss: 0.740 |  Val. Acc: 81.70% \n",
      "\n",
      "Epoch 9 | Time Taken: 0.42s\n",
      "\tTrain Loss: 0.717 | Train Acc: 83.89%\n",
      "\t Val. Loss: 0.729 |  Val. Acc: 83.48% \n",
      "\n",
      "Epoch 10 | Time Taken: 0.44s\n",
      "\tTrain Loss: 0.704 | Train Acc: 85.11%\n",
      "\t Val. Loss: 0.730 |  Val. Acc: 83.04% \n",
      "\n",
      "Epoch 11 | Time Taken: 0.42s\n",
      "\tTrain Loss: 0.695 | Train Acc: 86.26%\n",
      "\t Val. Loss: 0.729 |  Val. Acc: 81.70% \n",
      "\n",
      "Epoch 12 | Time Taken: 0.42s\n",
      "\tTrain Loss: 0.689 | Train Acc: 86.70%\n",
      "\t Val. Loss: 0.716 |  Val. Acc: 84.38% \n",
      "\n",
      "Epoch 13 | Time Taken: 0.45s\n",
      "\tTrain Loss: 0.683 | Train Acc: 87.20%\n",
      "\t Val. Loss: 0.713 |  Val. Acc: 84.38% \n",
      "\n",
      "Epoch 14 | Time Taken: 0.43s\n",
      "\tTrain Loss: 0.677 | Train Acc: 87.77%\n",
      "\t Val. Loss: 0.724 |  Val. Acc: 83.04% \n",
      "\n",
      "Epoch 15 | Time Taken: 0.42s\n",
      "\tTrain Loss: 0.673 | Train Acc: 88.17%\n",
      "\t Val. Loss: 0.728 |  Val. Acc: 81.70% \n",
      "\n",
      "Epoch 16 | Time Taken: 0.44s\n",
      "\tTrain Loss: 0.671 | Train Acc: 88.36%\n",
      "\t Val. Loss: 0.737 |  Val. Acc: 80.80% \n",
      "\n",
      "Epoch 17 | Time Taken: 0.42s\n",
      "\tTrain Loss: 0.666 | Train Acc: 88.86%\n",
      "\t Val. Loss: 0.717 |  Val. Acc: 83.93% \n",
      "\n",
      "Epoch 18 | Time Taken: 0.43s\n",
      "\tTrain Loss: 0.663 | Train Acc: 89.20%\n",
      "\t Val. Loss: 0.723 |  Val. Acc: 83.04% \n",
      "\n",
      "Epoch 19 | Time Taken: 0.41s\n",
      "\tTrain Loss: 0.661 | Train Acc: 89.30%\n",
      "\t Val. Loss: 0.717 |  Val. Acc: 83.48% \n",
      "\n",
      "Epoch 20 | Time Taken: 0.42s\n",
      "\tTrain Loss: 0.660 | Train Acc: 89.42%\n",
      "\t Val. Loss: 0.718 |  Val. Acc: 83.48% \n",
      "\n",
      "Epoch 21 | Time Taken: 0.42s\n",
      "\tTrain Loss: 0.658 | Train Acc: 89.55%\n",
      "\t Val. Loss: 0.713 |  Val. Acc: 83.93% \n",
      "\n",
      "Epoch 22 | Time Taken: 0.42s\n",
      "\tTrain Loss: 0.657 | Train Acc: 89.58%\n",
      "\t Val. Loss: 0.716 |  Val. Acc: 83.93% \n",
      "\n",
      "Epoch 23 | Time Taken: 0.42s\n",
      "\tTrain Loss: 0.656 | Train Acc: 89.61%\n",
      "\t Val. Loss: 0.715 |  Val. Acc: 83.93% \n",
      "\n",
      "Epoch 24 | Time Taken: 0.42s\n",
      "\tTrain Loss: 0.656 | Train Acc: 89.64%\n",
      "\t Val. Loss: 0.717 |  Val. Acc: 82.59% \n",
      "\n",
      "Epoch 25 | Time Taken: 0.41s\n",
      "\tTrain Loss: 0.654 | Train Acc: 89.77%\n",
      "\t Val. Loss: 0.718 |  Val. Acc: 83.04% \n",
      "\n",
      "Epoch 26 | Time Taken: 0.45s\n",
      "\tTrain Loss: 0.653 | Train Acc: 89.86%\n",
      "\t Val. Loss: 0.716 |  Val. Acc: 83.04% \n",
      "\n",
      "Epoch 27 | Time Taken: 0.43s\n",
      "\tTrain Loss: 0.653 | Train Acc: 89.86%\n",
      "\t Val. Loss: 0.724 |  Val. Acc: 82.14% \n",
      "\n",
      "Epoch 28 | Time Taken: 0.42s\n",
      "\tTrain Loss: 0.654 | Train Acc: 89.76%\n",
      "\t Val. Loss: 0.728 |  Val. Acc: 82.14% \n",
      "\n",
      "Epoch 29 | Time Taken: 0.42s\n",
      "\tTrain Loss: 0.652 | Train Acc: 90.05%\n",
      "\t Val. Loss: 0.725 |  Val. Acc: 82.14% \n",
      "\n",
      "Epoch 30 | Time Taken: 0.42s\n",
      "\tTrain Loss: 0.651 | Train Acc: 90.02%\n",
      "\t Val. Loss: 0.724 |  Val. Acc: 81.70% \n",
      "\n",
      "Epoch 31 | Time Taken: 0.42s\n",
      "\tTrain Loss: 0.651 | Train Acc: 90.02%\n",
      "\t Val. Loss: 0.719 |  Val. Acc: 83.04% \n",
      "\n",
      "Epoch 32 | Time Taken: 0.44s\n",
      "\tTrain Loss: 0.672 | Train Acc: 87.98%\n",
      "\t Val. Loss: 0.739 |  Val. Acc: 82.14% \n",
      "\n",
      "Epoch 33 | Time Taken: 0.43s\n",
      "\tTrain Loss: 0.663 | Train Acc: 88.82%\n",
      "\t Val. Loss: 0.740 |  Val. Acc: 80.80% \n",
      "\n",
      "Epoch 34 | Time Taken: 0.42s\n",
      "\tTrain Loss: 0.655 | Train Acc: 89.64%\n",
      "\t Val. Loss: 0.734 |  Val. Acc: 81.25% \n",
      "\n",
      "Epoch 35 | Time Taken: 0.42s\n",
      "\tTrain Loss: 0.652 | Train Acc: 89.92%\n",
      "\t Val. Loss: 0.732 |  Val. Acc: 80.80% \n",
      "\n",
      "Epoch 36 | Time Taken: 0.42s\n",
      "\tTrain Loss: 0.651 | Train Acc: 90.02%\n",
      "\t Val. Loss: 0.745 |  Val. Acc: 79.91% \n",
      "\n",
      "Epoch 37 | Time Taken: 0.44s\n",
      "\tTrain Loss: 0.650 | Train Acc: 90.11%\n",
      "\t Val. Loss: 0.723 |  Val. Acc: 82.14% \n",
      "\n",
      "Epoch 38 | Time Taken: 0.42s\n",
      "\tTrain Loss: 0.649 | Train Acc: 90.20%\n",
      "\t Val. Loss: 0.721 |  Val. Acc: 82.59% \n",
      "\n",
      "Epoch 39 | Time Taken: 0.42s\n",
      "\tTrain Loss: 0.648 | Train Acc: 90.27%\n",
      "\t Val. Loss: 0.719 |  Val. Acc: 82.59% \n",
      "\n",
      "Epoch 40 | Time Taken: 0.41s\n",
      "\tTrain Loss: 0.648 | Train Acc: 90.30%\n",
      "\t Val. Loss: 0.723 |  Val. Acc: 82.14% \n",
      "\n"
     ]
    }
   ],
   "source": [
    "import time\n",
    "N_EPOCHS = 40\n",
    "best_valid_loss = float('inf')\n",
    "val_losses = []\n",
    "train_losses = []\n",
    "\n",
    "val_accuracy = []\n",
    "train_accuracy = []\n",
    "\n",
    "for epoch in range(N_EPOCHS):\n",
    "    start_time = time.time()\n",
    "    # train the model\n",
    "    train_loss, train_acc = train(model, train_iterator, optimizer, criterion)\n",
    "    train_losses.append(train_loss)\n",
    "    train_accuracy.append(train_acc)\n",
    "\n",
    "    # evaluate the model\n",
    "    valid_loss, valid_acc = evaluate(model, valid_iterator, criterion)\n",
    "    val_losses.append(valid_loss)\n",
    "    val_accuracy.append(valid_acc)\n",
    "\n",
    "\n",
    "    # save the best model\n",
    "    if valid_loss < best_valid_loss:\n",
    "        best_valid_loss = valid_loss\n",
    "        torch.save(model.state_dict(), 'saved_weights.pt')\n",
    "    \n",
    "    print(f'Epoch {epoch+1} | Time Taken: {(time.time() - start_time):.2f}s')\n",
    "    print(f'\\tTrain Loss: {train_loss:.3f} | Train Acc: {train_acc*100:.2f}%')\n",
    "    print(f'\\t Val. Loss: {valid_loss:.3f} |  Val. Acc: {valid_acc*100:.2f}% \\n')\n",
    "     "
   ]
  },
  {
   "cell_type": "code",
   "execution_count": null,
   "metadata": {
    "colab": {
     "base_uri": "https://localhost:8080/",
     "height": 350
    },
    "id": "hHN003FIE9ss",
    "outputId": "a8bd9fc7-b745-4879-9071-7ca64938c530"
   },
   "outputs": [
    {
     "data": {
      "image/png": "[encoded data removed]",
      "text/plain": [
       "<Figure size 720x360 with 1 Axes>"
      ]
     },
     "metadata": {
      "tags": []
     },
     "output_type": "display_data"
    }
   ],
   "source": [
    "import matplotlib.pyplot  as plt\n",
    "# Plotting the train and validation loss\n",
    "\n",
    "plt.figure(figsize=(10,5))\n",
    "plt.title(\"Training and Validation Loss\")\n",
    "plt.plot(val_losses,label=\"val\")\n",
    "plt.plot(train_losses,label=\"train\")\n",
    "plt.xlabel(\"iterations\")\n",
    "plt.ylabel(\"Loss\")\n",
    "plt.legend()\n",
    "plt.show()"
   ]
  },
  {
   "cell_type": "code",
   "execution_count": null,
   "metadata": {
    "colab": {
     "base_uri": "https://localhost:8080/",
     "height": 350
    },
    "id": "ApAv-7n-GLaA",
    "outputId": "84093a71-991f-4102-c6e7-d4a1d99d2228"
   },
   "outputs": [
    {
     "data": {
      "image/png": "[encoded data removed]",
      "text/plain": [
       "<Figure size 720x360 with 1 Axes>"
      ]
     },
     "metadata": {
      "tags": []
     },
     "output_type": "display_data"
    }
   ],
   "source": [
    "\n",
    "# Plotting the train and validation Accuracy\n",
    "\n",
    "plt.figure(figsize=(10,5))\n",
    "plt.title(\"Training and Validation Accuracy\")\n",
    "plt.plot(val_accuracy,label=\"val\")\n",
    "plt.plot(train_accuracy,label=\"train\")\n",
    "plt.xlabel(\"iterations\")\n",
    "plt.ylabel(\"Accuracy\")\n",
    "plt.legend()\n",
    "plt.show()"
   ]
  },
  {
   "cell_type": "markdown",
   "metadata": {
    "id": "LZgzB0ZkHVTI"
   },
   "source": [
    "## Model Testing"
   ]
  },
  {
   "cell_type": "code",
   "execution_count": null,
   "metadata": {
    "id": "aZZfnWo0abRx"
   },
   "outputs": [],
   "source": [
    "#load weights and tokenizer\n",
    "\n",
    "path='./saved_weights.pt'\n",
    "model.load_state_dict(torch.load(path));\n",
    "model.eval();\n",
    "tokenizer_file = open('./valid_tokenizer.pkl', 'rb')\n",
    "tokenizer = pickle.load(tokenizer_file)\n",
    "\n",
    "#inference \n",
    "\n",
    "import spacy\n",
    "nlp = spacy.load('en')\n",
    "\n",
    "def classify_tweet(tweet):\n",
    "    \n",
    "    categories = {0: \"Negative\", 1:\"Positive\", 2:\"Neutral\"}\n",
    "    \n",
    "    # tokenize the tweet \n",
    "    tokenized = [tok.text for tok in nlp.tokenizer(tweet)] \n",
    "    # convert to integer sequence using predefined tokenizer dictionary\n",
    "    indexed = [tokenizer[t] for t in tokenized]        \n",
    "    # compute no. of words        \n",
    "    length = [len(indexed)]\n",
    "    # convert to tensor                                    \n",
    "    tensor = torch.LongTensor(indexed).to(device)   \n",
    "    # reshape in form of batch, no. of words           \n",
    "    tensor = tensor.unsqueeze(1).T  \n",
    "    # convert to tensor                          \n",
    "    length_tensor = torch.LongTensor(length)\n",
    "    # Get the model prediction                  \n",
    "    prediction = model(tensor, length_tensor)\n",
    "\n",
    "    _, pred = torch.max(prediction, 1) \n",
    "    \n",
    "    return categories[pred.item()]"
   ]
  },
  {
   "cell_type": "code",
   "execution_count": null,
   "metadata": {
    "colab": {
     "base_uri": "https://localhost:8080/"
    },
    "id": "yTkHLEipIlM9",
    "outputId": "132a1cc6-e7e3-4235-8a0c-260adceb505c"
   },
   "outputs": [
    {
     "data": {
      "application/vnd.google.colaboratory.intrinsic+json": {
       "type": "string"
      },
      "text/plain": [
       "'Negative'"
      ]
     },
     "execution_count": 69,
     "metadata": {
      "tags": []
     },
     "output_type": "execute_result"
    }
   ],
   "source": [
    "classify_tweet(\"A valid explanation for why Trump won't let women on the golf course.\")"
   ]
  },
  {
   "cell_type": "markdown",
   "metadata": {
    "id": "WVjCuKK_LVEF"
   },
   "source": [
    "## Discussion on Data Augmentation Techniques \n",
    "\n",
    "You might wonder exactly how you can augment text data. After all, you can’t really flip it horizontally as you can an image! :D \n",
    "\n",
    "In contrast to data augmentation in images, augmentation techniques on data is very specific to final product you are building. As its general usage on any type of textual data doesn't provides a significant performance boost, that's why unlike torchvision, torchtext doesn’t offer a augmentation pipeline. Due to powerful models as transformers, augmentation tecnhiques are not so preferred now-a-days. But its better to know about some techniques with text that will provide your model with a little more information for training. \n",
    "\n",
    "### Synonym Replacement\n",
    "\n",
    "First, you could replace words in the sentence with synonyms, like so:\n",
    "\n",
    "    The dog slept on the mat\n",
    "\n",
    "could become\n",
    "\n",
    "    The dog slept on the rug\n",
    "\n",
    "Aside from the dog's insistence that a rug is much softer than a mat, the meaning of the sentence hasn’t changed. But mat and rug will be mapped to different indices in the vocabulary, so the model will learn that the two sentences map to the same label, and hopefully that there’s a connection between those two words, as everything else in the sentences is the same."
   ]
  },
  {
   "cell_type": "markdown",
   "metadata": {
    "id": "T_uEfWJpL6Nq"
   },
   "source": [
    "### Random Insertion\n",
    "A random insertion technique looks at a sentence and then randomly inserts synonyms of existing non-stopwords into the sentence n times. Assuming you have a way of getting a synonym of a word and a way of eliminating stopwords (common words such as and, it, the, etc.), shown, but not implemented, in this function via get_synonyms() and get_stopwords(), an implementation of this would be as follows:\n"
   ]
  },
  {
   "cell_type": "code",
   "execution_count": null,
   "metadata": {
    "id": "7Alm5D7WIvAC"
   },
   "outputs": [],
   "source": [
    "def random_insertion(sentence, n): \n",
    "    words = remove_stopwords(sentence) \n",
    "    for _ in range(n):\n",
    "        new_synonym = get_synonyms(random.choice(words))\n",
    "        sentence.insert(randrange(len(sentence)+1), new_synonym) \n",
    "    return sentence"
   ]
  },
  {
   "cell_type": "markdown",
   "metadata": {
    "id": "gqLWzwJ3Mm8h"
   },
   "source": [
    "## Random Deletion\n",
    "As the name suggests, random deletion deletes words from a sentence. Given a probability parameter p, it will go through the sentence and decide whether to delete a word or not based on that random probability. Consider of it as pixel dropouts while treating images."
   ]
  },
  {
   "cell_type": "code",
   "execution_count": null,
   "metadata": {
    "id": "-7Dz7JJfMqyC"
   },
   "outputs": [],
   "source": [
    "def random_deletion(words, p=0.5): \n",
    "    if len(words) == 1: # return if single word\n",
    "        return words\n",
    "    remaining = list(filter(lambda x: random.uniform(0,1) > p,words)) \n",
    "    if len(remaining) == 0: # if not left, sample a random word\n",
    "        return [random.choice(words)] \n",
    "    else:\n",
    "        return remaining"
   ]
  },
  {
   "cell_type": "markdown",
   "metadata": {
    "id": "zOIbi5WzO5OU"
   },
   "source": [
    "### Random Swap\n",
    "The random swap augmentation takes a sentence and then swaps words within it n times, with each iteration working on the previously swapped sentence. Here we sample two random numbers based on the length of the sentence, and then just keep swapping until we hit n."
   ]
  },
  {
   "cell_type": "code",
   "execution_count": null,
   "metadata": {
    "id": "LnkbG15HO3Yj"
   },
   "outputs": [],
   "source": [
    "def random_swap(sentence, n=5): \n",
    "    length = range(len(sentence)) \n",
    "    for _ in range(n):\n",
    "        idx1, idx2 = random.sample(length, 2)\n",
    "        sentence[idx1], sentence[idx2] = sentence[idx2], sentence[idx1] \n",
    "    return sentence"
   ]
  },
  {
   "cell_type": "markdown",
   "metadata": {
    "id": "599NpwfMR5Vm"
   },
   "source": [
    "For more on this please go through this [paper](https://arxiv.org/pdf/1901.11196.pdf)."
   ]
  },
  {
   "cell_type": "markdown",
   "metadata": {
    "id": "a5aeKuNCRGip"
   },
   "source": [
    "### Back Translation\n",
    "\n",
    "Another popular approach for augmenting text datasets is back translation. This involves translating a sentence from our target language into one or more other languages and then translating all of them back to the original language. We can use the Python library googletrans for this purpose. "
   ]
  },
  {
   "cell_type": "code",
   "execution_count": null,
   "metadata": {
    "id": "pHhNBbYrRXNy"
   },
   "outputs": [],
   "source": [
    "import random\n",
    "import googletrans\n",
    "import googletrans.Translator\n",
    "\n",
    "translator = Translator()\n",
    "sentence = ['']\n",
    "\n",
    "available_langs = list(googletrans.LANGUAGES.keys()) \n",
    "trans_lang = random.choice(available_langs) \n",
    "print(f\"Translating to {googletrans.LANGUAGES[trans_lang]}\")\n",
    "\n",
    "translations = translator.translate(sentence, dest=trans_lang) \n",
    "t_text = [t.text for t in translations]\n",
    "print(t_text)\n",
    "\n",
    "translations_en_random = translator.translate(t_text, src=trans_lang, dest='en') \n",
    "en_text = [t.text for t in translations_en_random]\n",
    "print(en_text)"
   ]
  }
 ],
 "metadata": {
  "colab": {
   "collapsed_sections": [],
   "name": "Session 5: Assignment #1: Tweets Sentiment Analysis using LSTM RNN.ipynb",
   "provenance": []
  },
  "kernelspec": {
   "display_name": "Python 3",
   "language": "python",
   "name": "python3"
  },
  "language_info": {
   "codemirror_mode": {
    "name": "ipython",
    "version": 3
   },
   "file_extension": ".py",
   "mimetype": "text/x-python",
   "name": "python",
   "nbconvert_exporter": "python",
   "pygments_lexer": "ipython3",
   "version": "3.7.9"
  }
 },
 "nbformat": 4,
 "nbformat_minor": 4
}
