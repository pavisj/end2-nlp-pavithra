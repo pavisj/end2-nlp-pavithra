{
 "cells": [
  {
   "cell_type": "markdown",
   "metadata": {
    "id": "ckLwQrXxckbA"
   },
   "source": [
    "# Dataset Creation using Data Augmentation in NLP for Tweets Sentiment Analysis\n",
    "\n",
    "\n",
    "\n",
    "\n",
    "\n"
   ]
  },
  {
   "cell_type": "markdown",
   "metadata": {
    "id": "3tthfOwsc1pc"
   },
   "source": [
    "### Loading and Cleaning the tweets \n",
    "<br>\n",
    "Download from https://canvas.instructure.com/courses/2734517/files/138795503 and upload it when you run the code below"
   ]
  },
  {
   "cell_type": "code",
   "execution_count": null,
   "metadata": {
    "colab": {
     "base_uri": "https://localhost:8080/",
     "height": 38,
     "resources": {
      "http://localhost:8080/nbextensions/google.colab/files.js": {
       "data": "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",
       "headers": [
        [
         "content-type",
         "application/javascript"
        ]
       ],
       "ok": true,
       "status": 200,
       "status_text": ""
      }
     }
    },
    "id": "K5iJnmtpcmkj",
    "outputId": "c8ad909d-f288-431f-dfb0-9c60faa54dac"
   },
   "outputs": [
    {
     "data": {
      "text/html": [
       "\n",
       "     <input type=\"file\" id=\"files-2e4751f8-4e4d-4a6c-a63a-f0616f467d91\" name=\"files[]\" multiple disabled\n",
       "        style=\"border:none\" />\n",
       "     <output id=\"result-2e4751f8-4e4d-4a6c-a63a-f0616f467d91\">\n",
       "      Upload widget is only available when the cell has been executed in the\n",
       "      current browser session. Please rerun this cell to enable.\n",
       "      </output>\n",
       "      <script src=\"/nbextensions/google.colab/files.js\"></script> "
      ],
      "text/plain": [
       "<IPython.core.display.HTML object>"
      ]
     },
     "metadata": {
      "tags": []
     },
     "output_type": "display_data"
    }
   ],
   "source": [
    "#Upload tweets csv file\n",
    "from google.colab import files\n",
    "\n",
    "uploaded = files.upload()\n",
    "\n",
    "for fn in uploaded.keys():\n",
    "  print('User uploaded file \"{name}\" with length {length} bytes'.format(\n",
    "      name=fn, length=len(uploaded[fn])))"
   ]
  },
  {
   "cell_type": "code",
   "execution_count": null,
   "metadata": {
    "colab": {
     "base_uri": "https://localhost:8080/",
     "height": 204
    },
    "id": "xv6KqtiZdQfo",
    "outputId": "cba789af-d446-4468-ee3d-7a5c5720c810"
   },
   "outputs": [
    {
     "data": {
      "text/html": [
       "<div>\n",
       "<style scoped>\n",
       "    .dataframe tbody tr th:only-of-type {\n",
       "        vertical-align: middle;\n",
       "    }\n",
       "\n",
       "    .dataframe tbody tr th {\n",
       "        vertical-align: top;\n",
       "    }\n",
       "\n",
       "    .dataframe thead th {\n",
       "        text-align: right;\n",
       "    }\n",
       "</style>\n",
       "<table border=\"1\" class=\"dataframe\">\n",
       "  <thead>\n",
       "    <tr style=\"text-align: right;\">\n",
       "      <th></th>\n",
       "      <th>tweets</th>\n",
       "      <th>labels</th>\n",
       "    </tr>\n",
       "  </thead>\n",
       "  <tbody>\n",
       "    <tr>\n",
       "      <th>0</th>\n",
       "      <td>Obama has called the GOP budget social Darwini...</td>\n",
       "      <td>1</td>\n",
       "    </tr>\n",
       "    <tr>\n",
       "      <th>1</th>\n",
       "      <td>In his teen years, Obama has been known to use...</td>\n",
       "      <td>0</td>\n",
       "    </tr>\n",
       "    <tr>\n",
       "      <th>2</th>\n",
       "      <td>IPA Congratulates President Barack Obama for L...</td>\n",
       "      <td>0</td>\n",
       "    </tr>\n",
       "    <tr>\n",
       "      <th>3</th>\n",
       "      <td>RT @Professor_Why: #WhatsRomneyHiding - his co...</td>\n",
       "      <td>0</td>\n",
       "    </tr>\n",
       "    <tr>\n",
       "      <th>4</th>\n",
       "      <td>RT @wardollarshome: Obama has approved more ta...</td>\n",
       "      <td>1</td>\n",
       "    </tr>\n",
       "  </tbody>\n",
       "</table>\n",
       "</div>"
      ],
      "text/plain": [
       "                                              tweets  labels\n",
       "0  Obama has called the GOP budget social Darwini...       1\n",
       "1  In his teen years, Obama has been known to use...       0\n",
       "2  IPA Congratulates President Barack Obama for L...       0\n",
       "3  RT @Professor_Why: #WhatsRomneyHiding - his co...       0\n",
       "4  RT @wardollarshome: Obama has approved more ta...       1"
      ]
     },
     "execution_count": 125,
     "metadata": {
      "tags": []
     },
     "output_type": "execute_result"
    }
   ],
   "source": [
    "import pandas as pd\n",
    "df_tweets = pd.read_csv('tweets.csv')\n",
    "df_tweets.head()"
   ]
  },
  {
   "cell_type": "code",
   "execution_count": null,
   "metadata": {
    "colab": {
     "base_uri": "https://localhost:8080/"
    },
    "id": "toB4-Xi0dhSV",
    "outputId": "7f532858-ec3b-4ebc-8a26-703629608779"
   },
   "outputs": [
    {
     "name": "stdout",
     "output_type": "stream",
     "text": [
      "Number of records in the dataset: 1364\n",
      "Labels and count per label:\n",
      " 0    931\n",
      "1    352\n",
      "2     81\n",
      "Name: labels, dtype: int64\n"
     ]
    }
   ],
   "source": [
    "print(\"Number of records in the dataset:\", df_tweets.shape[0])\n",
    "print(\"Labels and count per label:\\n\",df_tweets.labels.value_counts())"
   ]
  },
  {
   "cell_type": "markdown",
   "metadata": {
    "id": "-jx9beBAoXfP"
   },
   "source": [
    "#### Cleaning the tweets\n",
    "\n",
    "Doing EDA (or rather mid-way during data augmentation:)), I found that the tweets need to be cleaned and the following need to be removed or substituted\n",
    "\n",
    "1. HTTP links\n",
    "2. @ references to other twitter accounts. Though this coule be helpful as proper nouns in the dataset, after removing '@', this does create noise during back translation\n",
    "3. Other non-alphanumeric characters like # etc. "
   ]
  },
  {
   "cell_type": "code",
   "execution_count": null,
   "metadata": {
    "colab": {
     "base_uri": "https://localhost:8080/"
    },
    "id": "lMCyKGr5oWB-",
    "outputId": "c178b9da-3f0f-4f0a-8c81-b7eddefb8349"
   },
   "outputs": [
    {
     "name": "stdout",
     "output_type": "stream",
     "text": [
      "ejeida\n"
     ]
    }
   ],
   "source": [
    "#Regex\n",
    "re_twitter_handle = \"\\s@[\\w]+|^@[\\w]+\"\n",
    "re_http_links = \"https?:\\/\\/.[\\w.?&]+\"\n",
    "re_special_chars_removal = \"[^0-9a-zA-Z\\.]\" #to remove non-alphanumeric like hashtags\n",
    "combined_pattern = r'|'.join([re_twitter_handle,re_http_links,re_special_chars_removal])\n",
    "\n",
    "def tweet_cleaner(tweet):\n",
    "  tweet = re.sub(r\"\\s[R][T]\\b|^([R][T])\\b\",\" \",tweet)  #removing the token RT\n",
    "  tweet = re.sub(combined_pattern,\" \",tweet)\n",
    "  tweet = \" \".join([t for t in tweet.split(\" \") if t is not \"\"])\n",
    "  return tweet\n",
    "\n",
    "###Example of tweet cleaning\n",
    "tweet = tweet_cleaner(\"RT @deklekl_wdq #ejeida http://t_co.co \")\n",
    "print(tweet)\n"
   ]
  },
  {
   "cell_type": "code",
   "execution_count": null,
   "metadata": {
    "colab": {
     "base_uri": "https://localhost:8080/",
     "height": 53
    },
    "id": "jts7haQm2HFw",
    "outputId": "f015bca8-e8bd-4a0d-aacc-d9163743b2f3"
   },
   "outputs": [
    {
     "data": {
      "application/vnd.google.colaboratory.intrinsic+json": {
       "type": "string"
      },
      "text/plain": [
       "'RT @ohgirlphrase: American kid \"You\\'re from the UK? Ohhh cool, So do you have tea with the Queen?\". British kid: \"Do you like, go to Mcdonalds with Obama?'"
      ]
     },
     "execution_count": 120,
     "metadata": {
      "tags": []
     },
     "output_type": "execute_result"
    }
   ],
   "source": [
    "df_tweets.loc[7,\"tweets\"]"
   ]
  },
  {
   "cell_type": "code",
   "execution_count": null,
   "metadata": {
    "colab": {
     "base_uri": "https://localhost:8080/"
    },
    "id": "VBXZHicX0ks3",
    "outputId": "b6d6d8b1-4d7e-41ad-d3b8-a3d69b5424d7"
   },
   "outputs": [
    {
     "name": "stdout",
     "output_type": "stream",
     "text": [
      "Pre-cleaning : RT @ohgirlphrase: American kid \"You're from the UK? Ohhh cool, So do you have tea with the Queen?\". British kid: \"Do you like, go to Mcdonalds with Obama?\n",
      "Post-cleaning :  American kid You re from the UK Ohhh cool So do you have tea with the Queen . British kid Do you like go to Mcdonalds with Obama\n"
     ]
    }
   ],
   "source": [
    "print(\"Pre-cleaning :\",df_tweets.loc[7,\"tweets\"])\n",
    "df_tweets[\"tweets\"] = df_tweets[\"tweets\"].apply(tweet_cleaner)\n",
    "print(\"Post-cleaning : \",df_tweets.loc[7,\"tweets\"])"
   ]
  },
  {
   "cell_type": "markdown",
   "metadata": {
    "id": "IwtQ2Z__d9Re"
   },
   "source": [
    "### Data Augmentation:\n",
    "\n",
    "We will be following the data augmentation provided in this paper: https://arxiv.org/pdf/1901.11196.pdf and Back Translation methods\n",
    "\n",
    "As per the paper, *\"EDA: Easy Data Augmentation Techniques for Boosting Performance on Text Classification Tasks\"*\n",
    "\n",
    "1. **Synonym Replacement (SR)**: Randomly\n",
    "choose n words from the sentence that are not\n",
    "stop words. Replace each of these words with\n",
    "one of its synonyms chosen at random.\n",
    "2. **Random Insertion (RI)**: Find a random synonym of a random word in the sentence that is\n",
    "not a stop word. Insert that synonym into a random position in the sentence. Do this n times.\n",
    "3. **Random Swap (RS)**: Randomly choose two\n",
    "words in the sentence and swap their positions.\n",
    "Do this n times.\n",
    "4. **Random Deletion (RD)**: Randomly remove\n",
    "each word in the sentence with probability p\n",
    "\n",
    "In this exercise, we will try:\n",
    "\n",
    "1. **Random Swap**\n",
    "2. **Random Deletion**\n",
    "3. **Back Translate**\n",
    "\n",
    "for augmentation\n",
    "\n"
   ]
  },
  {
   "cell_type": "code",
   "execution_count": null,
   "metadata": {
    "id": "vRemx_lgf9Qe"
   },
   "outputs": [],
   "source": [
    "#We need to augment only the training dataset and not the validation or test dataset. \n",
    "#Hence let us do the train, text split to separate the train and validation dataset\n",
    "#Let us create two separate csv files - one for Train, one for Validation\n",
    "\n",
    "from sklearn.model_selection import train_test_split\n",
    "\n",
    "train, valid = train_test_split(df_tweets, random_state=43, test_size=0.15, stratify=df[\"labels\"])\n",
    "train.to_csv(\"train_tweets.csv\")\n",
    "valid.to_csv(\"valid_tweets.csv\")"
   ]
  },
  {
   "cell_type": "code",
   "execution_count": null,
   "metadata": {
    "id": "B1_DfNJhhVie"
   },
   "outputs": [],
   "source": [
    "#Split the train dataset for different data augmentation functions\n",
    "#This can be done in different ways and this is just one way to show how we can data augment\n",
    "#Across the 5 functions, let us set aside 25% of the train set for back translation\n",
    "\n",
    "df_rd_rs = train.sample(frac=0.75)\n",
    "df_back_trans = train.drop(df_rd_rs.index)"
   ]
  },
  {
   "cell_type": "code",
   "execution_count": null,
   "metadata": {
    "id": "E_4GxxDWlncD"
   },
   "outputs": [],
   "source": [
    "\n",
    "import random\n",
    "random.seed(50)\n",
    "\n",
    "def random_deletion(words, p=0.5): #sentence: list of words/tokens from a sentence\n",
    "    if len(words) == 1: # return if single word\n",
    "        return words\n",
    "    remaining = list(filter(lambda x: random.uniform(0,1) > p,words)) \n",
    "    if len(remaining) == 0: # if not left, sample a random word\n",
    "        return [random.choice(words)] \n",
    "    else:\n",
    "        return remaining\n",
    "\n",
    "def random_swap(sentence, n=5): #sentence: list of words/tokens from a sentence\n",
    "    sen_len = len(sentence)\n",
    "    length = range(sen_len)\n",
    "    if (sen_len>1): \n",
    "      for _ in range(n):\n",
    "          idx1, idx2 = random.sample(length, 2)\n",
    "          sentence[idx1], sentence[idx2] = sentence[idx2], sentence[idx1] \n",
    "      return sentence\n",
    "    else:\n",
    "      return sentence"
   ]
  },
  {
   "cell_type": "code",
   "execution_count": null,
   "metadata": {
    "id": "3RMzRZM140BZ"
   },
   "outputs": [],
   "source": [
    "import re\n",
    "\n",
    "df_aug_rd_rs =  pd.DataFrame(columns=train.columns)\n",
    "def update_aug_ds(tweet, tweet_rd, tweet_rs, label):\n",
    "  index = len(df_aug_rd_rs.index)\n",
    "  df_aug_rd_rs.loc[index] = [tweet,label]\n",
    "  df_aug_rd_rs.loc[index + 1] = [tweet_rd,label]\n",
    "  df_aug_rd_rs.loc[index + 2] = [tweet_rs, label]\n",
    "  #print(df_aug_rd_rs.head(n=20))\n",
    "  return\n",
    "\n",
    "for i, row in df_rd_rs.iterrows():\n",
    "  try:\n",
    "    tweet = row[\"tweets\"]\n",
    "    label = row[\"labels\"]\n",
    "    tweet_tokens = tweet.split(\" \")\n",
    "\n",
    "    #We will call Random deletion and Random Swap once for each tweet from df_rd_rs\n",
    "    tweet_rd = \" \".join(random_deletion(tweet_tokens))\n",
    "    tweet_rs = \" \".join(random_swap(tweet_tokens))\n",
    "    #print(f\"%s\\n%s\\n%s\\n\"%(tweet, tweet_rd,tweet_rs))\n",
    "\n",
    "    #Appending to a new DataFrame which will have both the train set as well as augmented tweets\n",
    "    #We can use shuffle in Train iterator for better training\n",
    "    #This is to show how the augmentation has been done\n",
    "    update_aug_ds(tweet,tweet_rd, tweet_rs, label)\n",
    "  except Exception as e:\n",
    "    print(e.message)\n",
    "    pass\n",
    "  \n",
    "\n"
   ]
  },
  {
   "cell_type": "code",
   "execution_count": null,
   "metadata": {
    "colab": {
     "base_uri": "https://localhost:8080/"
    },
    "id": "Hq2AJ3ljNsgB",
    "outputId": "03e57b10-0156-4711-80e5-78a2744f167c"
   },
   "outputs": [
    {
     "name": "stdout",
     "output_type": "stream",
     "text": [
      "WhatsRomneyHiding The person who refuses to let Obama be clear\n",
      "person Obama\n",
      "Obama The WhatsRomneyHiding who clear to let person be refuses\n",
      "\n",
      "\n",
      "American kid You re from the UK Ohhh cool So do you have tea with the Queen . British kid Do you like go to Mcdonalds with Obama\n",
      "You from the UK Ohhh cool you have with Queen kid to with Obama\n",
      "American kid You re from you UK Ohhh cool So do you Mcdonalds tea with . kid the British Do Queen the like go to have with Obama\n",
      "\n",
      "\n",
      "Sharing ztufxsn1 Czech Press More is know about the Birth of Jesus a millenia ago than about Obama\n",
      "Sharing ztufxsn1 about the of millenia Obama\n",
      "More ztufxsn1 Czech is Jesus Press know about the Birth of about Obama millenia ago than Sharing a\n",
      "\n",
      "\n",
      "American kid You re from the UK Ohhh cool So do you have tea with the Queen . British kid Do you like go to Mcdonalds with Obama\n",
      "American the So do have tea with Queen kid you like go to Mcdonalds\n",
      "American cool You So from the UK Ohhh kid re do you . you with the Queen have British kid Do tea to go like Mcdonalds with Obama\n",
      "\n",
      "\n",
      "62 of U.S. Jews would reelect Obama 4 say Israel is most important issue Haaretz VhURDtdO gIGmn5kE\n",
      "Jews 4 say is important issue VhURDtdO\n",
      "62 of U.S. important would issue 4 say Obama Jews is most Israel reelect Haaretz VhURDtdO gIGmn5kE\n",
      "\n",
      "\n"
     ]
    }
   ],
   "source": [
    "for i,row in df_aug_rd_rs.head(n=15).iterrows():\n",
    "  print(row[\"tweets\"])\n",
    "  if ((i+1)%3==0):\n",
    "    print(\"\\n\")\n",
    "\n",
    "#Tweet\n",
    "#Tweet with Random Deletion\n",
    "#Tweet with Random Swap\n"
   ]
  },
  {
   "cell_type": "code",
   "execution_count": null,
   "metadata": {
    "colab": {
     "base_uri": "https://localhost:8080/"
    },
    "id": "sCYeAj9e6u63",
    "outputId": "7406ad72-cba0-4e58-8c77-a24d38d0ba5f"
   },
   "outputs": [
    {
     "name": "stdout",
     "output_type": "stream",
     "text": [
      "Number of training + augmented samples:  2607\n"
     ]
    }
   ],
   "source": [
    "print(\"Number of training + augmented samples: \",len(df_aug_rd_rs))"
   ]
  },
  {
   "cell_type": "markdown",
   "metadata": {
    "id": "nh1pmK_CZXNj"
   },
   "source": [
    "\n",
    "\n",
    "---\n",
    "\n",
    "### Back Translation"
   ]
  },
  {
   "cell_type": "code",
   "execution_count": null,
   "metadata": {
    "colab": {
     "base_uri": "https://localhost:8080/"
    },
    "id": "1YOfbAq_S2Us",
    "outputId": "d0f6f560-0927-493c-b5de-c842715dd09e"
   },
   "outputs": [
    {
     "name": "stdout",
     "output_type": "stream",
     "text": [
      "Requirement already satisfied: google_trans_new in /usr/local/lib/python3.7/dist-packages (1.1.9)\n"
     ]
    }
   ],
   "source": [
    "!pip install google_trans_new"
   ]
  },
  {
   "cell_type": "code",
   "execution_count": null,
   "metadata": {
    "id": "W2pQGthvTR7N"
   },
   "outputs": [],
   "source": [
    "from google_trans_new import google_translator  \n",
    "available_langs = list(googletrans.LANGUAGES.keys()) "
   ]
  },
  {
   "cell_type": "code",
   "execution_count": null,
   "metadata": {
    "id": "6gglHm9fXy3M"
   },
   "outputs": [],
   "source": [
    "trans_lang = random.choice(available_langs)  \n",
    "translator = google_translator()  \n",
    "translate_text = translator.translate(\n",
    "      translator.translate('We are okay',lang_tgt=trans_lang),\n",
    "      lang_src = trans_lang,\n",
    "      lang_tgt='en')"
   ]
  },
  {
   "cell_type": "code",
   "execution_count": null,
   "metadata": {
    "colab": {
     "base_uri": "https://localhost:8080/",
     "height": 35
    },
    "id": "PAbo-cZ9VJfz",
    "outputId": "0b92d794-4d81-4e73-dfee-536dff4fc883"
   },
   "outputs": [
    {
     "data": {
      "application/vnd.google.colaboratory.intrinsic+json": {
       "type": "string"
      },
      "text/plain": [
       "'we are fine '"
      ]
     },
     "execution_count": 169,
     "metadata": {
      "tags": []
     },
     "output_type": "execute_result"
    }
   ],
   "source": [
    "translate_text\n"
   ]
  },
  {
   "cell_type": "code",
   "execution_count": null,
   "metadata": {
    "colab": {
     "base_uri": "https://localhost:8080/",
     "height": 35
    },
    "id": "BCoutpaxVUtP",
    "outputId": "ba503289-980c-488c-b113-02b51d5676c4"
   },
   "outputs": [
    {
     "data": {
      "application/vnd.google.colaboratory.intrinsic+json": {
       "type": "string"
      },
      "text/plain": [
       "'fr'"
      ]
     },
     "execution_count": 170,
     "metadata": {
      "tags": []
     },
     "output_type": "execute_result"
    }
   ],
   "source": [
    "trans_lang"
   ]
  },
  {
   "cell_type": "code",
   "execution_count": null,
   "metadata": {
    "id": "BSsgs1gEV7da"
   },
   "outputs": [],
   "source": [
    "df_aug_back_trans =  pd.DataFrame(columns=train.columns)\n",
    "def update_aug(tweet, tweet_trans, label):\n",
    "  index = len(df_aug_back_trans.index)\n",
    "  df_aug_back_trans.loc[index] = [tweet,label]\n",
    "  df_aug_back_trans.loc[index + 1] = [tweet_trans,label]\n",
    "  return\n",
    "\n",
    "def back_translate(sentences):\n",
    "  trans_lang = random.choice(available_langs)  \n",
    "  translator = google_translator()  \n",
    "  translate_text = translator.translate(\n",
    "      translator.translate(sentences,lang_tgt=trans_lang),\n",
    "      lang_src = trans_lang,\n",
    "      lang_tgt='en')\n",
    "  return translate_text"
   ]
  },
  {
   "cell_type": "code",
   "execution_count": null,
   "metadata": {
    "id": "xYHagVD8ZKts"
   },
   "outputs": [],
   "source": [
    "for i,row in df_back_trans.iterrows():\n",
    "  tweet, label = row[\"tweets\"],row[\"labels\"]\n",
    "\n",
    "  translated_tweet = back_translate(tweet)\n",
    "\n",
    "  tweet_trans = re.sub(str(translated_tweet),re_special_chars_removal,\"\")\n",
    "\n",
    "  update_aug(tweet, translated_tweet, label)\n",
    "\n",
    "  "
   ]
  },
  {
   "cell_type": "code",
   "execution_count": null,
   "metadata": {
    "colab": {
     "base_uri": "https://localhost:8080/"
    },
    "id": "SJkWn2OymBJm",
    "outputId": "f72cd49f-2038-48af-a407-f1a3bc24d994"
   },
   "outputs": [
    {
     "data": {
      "text/plain": [
       "590"
      ]
     },
     "execution_count": 184,
     "metadata": {
      "tags": []
     },
     "output_type": "execute_result"
    }
   ],
   "source": [
    "len(df_aug_back_trans)"
   ]
  },
  {
   "cell_type": "code",
   "execution_count": null,
   "metadata": {
    "colab": {
     "base_uri": "https://localhost:8080/"
    },
    "id": "LvXVuUDe6cbJ",
    "outputId": "07e95369-d2fd-41d2-b667-a537b9fa3eaa"
   },
   "outputs": [
    {
     "name": "stdout",
     "output_type": "stream",
     "text": [
      "This just pissed me the hell off. If Obama were white he d be Mitt Romney.\n",
      "That's just angry. If he was Obama White is D Mitt Romney. \n",
      "\n",
      "\n",
      "Obama being all direct BarackObama So what s Romney hiding Tweet to demand he release his tax returns. WhatsRomneyHiding\n",
      "Obama is all immediate Barackobama, so that the Tweet hides to require the release of his tax returns. Whatsromneyhiding \n",
      "\n",
      "\n",
      "Rep. Drop charges against anti Obama Marine Military News News From Afghanistan Iraq And Military Times 4ZV5rueN\n",
      "Rep. \n",
      "\n",
      "\n",
      "WhatsRomneyHiding a bloody plan to put guns in cartel hands to force stricter gun laws on Americans Nope. That s Obama. FastAndFurious\n",
      "WhatsromneyneyHiding is a bloody plan to keep a blood gun gun to strengthen the strict gun law in a bloody plan of Americans. That Obama. Fast and mad \n",
      "\n",
      "\n",
      "Obama has called the GOP budget social Darwinism. Nice try but they believe in social creationism.\n",
      "Obama called Social Darvinism of GOP. Nice try but believe in social creatism. \n",
      "\n",
      "\n"
     ]
    }
   ],
   "source": [
    "for i,row in df_aug_back_trans.tail(n=10).iterrows():\n",
    "  print(row[\"tweets\"])\n",
    "  if ((i+1)%2==0):\n",
    "    print(\"\\n\")"
   ]
  },
  {
   "cell_type": "code",
   "execution_count": null,
   "metadata": {
    "colab": {
     "base_uri": "https://localhost:8080/"
    },
    "id": "SRwU-Fx_7-lW",
    "outputId": "049be922-3b69-4b64-82f6-fe9cde15df76"
   },
   "outputs": [
    {
     "data": {
      "text/plain": [
       "3197"
      ]
     },
     "execution_count": 193,
     "metadata": {
      "tags": []
     },
     "output_type": "execute_result"
    }
   ],
   "source": [
    "df_aug = pd.concat([df_aug_rd_rs,df_aug_back_trans])\n",
    "len(df_aug)"
   ]
  },
  {
   "cell_type": "markdown",
   "metadata": {
    "id": "vWiDWi528zAX"
   },
   "source": [
    "Conclusion of Data Augmentation \n",
    "TO DO"
   ]
  },
  {
   "cell_type": "code",
   "execution_count": null,
   "metadata": {
    "id": "0sI6I5M08vKs"
   },
   "outputs": [],
   "source": [
    "df_aug.to_csv(\"augmented_tweets_train.csv\")\n"
   ]
  },
  {
   "cell_type": "code",
   "execution_count": null,
   "metadata": {
    "id": "IRmOG9I08qyH"
   },
   "outputs": [],
   "source": []
  }
 ],
 "metadata": {
  "colab": {
   "collapsed_sections": [],
   "name": "1_Tweet_analysis_data_augmentation.ipynb",
   "provenance": [],
   "toc_visible": true
  },
  "kernelspec": {
   "display_name": "Python 3",
   "language": "python",
   "name": "python3"
  },
  "language_info": {
   "codemirror_mode": {
    "name": "ipython",
    "version": 3
   },
   "file_extension": ".py",
   "mimetype": "text/x-python",
   "name": "python",
   "nbconvert_exporter": "python",
   "pygments_lexer": "ipython3",
   "version": "3.7.9"
  }
 },
 "nbformat": 4,
 "nbformat_minor": 4
}
