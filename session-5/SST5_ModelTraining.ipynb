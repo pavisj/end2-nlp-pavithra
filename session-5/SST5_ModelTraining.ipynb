{
 "cells": [
  {
   "cell_type": "code",
   "execution_count": 1,
   "id": "terminal-admission",
   "metadata": {
    "colab": {
     "base_uri": "https://localhost:8080/"
    },
    "id": "terminal-admission",
    "outputId": "8206cc2f-687d-464c-84ce-bf0ada1346d7"
   },
   "outputs": [
    {
     "data": {
      "text/plain": [
       "<torch._C.Generator at 0x7faf77652770>"
      ]
     },
     "execution_count": 1,
     "metadata": {
      "tags": []
     },
     "output_type": "execute_result"
    }
   ],
   "source": [
    "# Import Library\n",
    "#!pip install torchtext spacy\n",
    "import random\n",
    "import torch, torchtext\n",
    "\n",
    "from torchtext.legacy import data\n",
    "\n",
    "# Manual Seed\n",
    "SEED = 43\n",
    "torch.manual_seed(SEED)"
   ]
  },
  {
   "cell_type": "code",
   "execution_count": 2,
   "id": "southeast-outreach",
   "metadata": {
    "colab": {
     "base_uri": "https://localhost:8080/"
    },
    "id": "southeast-outreach",
    "outputId": "7a46f0ca-8625-4ae8-84dc-820a6272b9a0"
   },
   "outputs": [
    {
     "name": "stdout",
     "output_type": "stream",
     "text": [
      "Length of Augmented train dataset:  13044\n",
      "Length of Test dataset:  3311\n"
     ]
    }
   ],
   "source": [
    "import pandas as pd\n",
    "df_train = pd.read_csv('dataset/train_aug.csv')\n",
    "print(\"Length of Augmented train dataset: \",len(df_train))\n",
    "df_valid = pd.read_csv('dataset/test_dev.csv')\n",
    "print(\"Length of Test dataset: \",len(df_valid))"
   ]
  },
  {
   "cell_type": "code",
   "execution_count": 3,
   "id": "removed-hours",
   "metadata": {
    "id": "removed-hours"
   },
   "outputs": [],
   "source": [
    "df_train[\"Sentence\"]=df_train[\"Sentence\"].astype(str)\n",
    "df_train[\"Label\"] = df_train[\"Label\"].astype(int)\n",
    "df_valid[\"Sentence\"]=df_valid[\"Sentence\"].astype(str)\n",
    "df_valid[\"Label\"] = df_valid[\"Label\"].astype(int)"
   ]
  },
  {
   "cell_type": "code",
   "execution_count": 7,
   "id": "fourth-newspaper",
   "metadata": {
    "colab": {
     "base_uri": "https://localhost:8080/"
    },
    "id": "fourth-newspaper",
    "outputId": "01911064-4fc7-46aa-9f23-267dc6e8dcb8",
    "scrolled": true,
    "tags": []
   },
   "outputs": [
    {
     "name": "stdout",
     "output_type": "stream",
     "text": [
      "Requirement already satisfied: en_core_web_sm==2.2.5 from https://github.com/explosion/spacy-models/releases/download/en_core_web_sm-2.2.5/en_core_web_sm-2.2.5.tar.gz#egg=en_core_web_sm==2.2.5 in /usr/local/lib/python3.7/dist-packages (2.2.5)\n",
      "Requirement already satisfied: spacy>=2.2.2 in /usr/local/lib/python3.7/dist-packages (from en_core_web_sm==2.2.5) (2.2.4)\n",
      "Requirement already satisfied: preshed<3.1.0,>=3.0.2 in /usr/local/lib/python3.7/dist-packages (from spacy>=2.2.2->en_core_web_sm==2.2.5) (3.0.5)\n",
      "Requirement already satisfied: plac<1.2.0,>=0.9.6 in /usr/local/lib/python3.7/dist-packages (from spacy>=2.2.2->en_core_web_sm==2.2.5) (1.1.3)\n",
      "Requirement already satisfied: srsly<1.1.0,>=1.0.2 in /usr/local/lib/python3.7/dist-packages (from spacy>=2.2.2->en_core_web_sm==2.2.5) (1.0.5)\n",
      "Requirement already satisfied: blis<0.5.0,>=0.4.0 in /usr/local/lib/python3.7/dist-packages (from spacy>=2.2.2->en_core_web_sm==2.2.5) (0.4.1)\n",
      "Requirement already satisfied: murmurhash<1.1.0,>=0.28.0 in /usr/local/lib/python3.7/dist-packages (from spacy>=2.2.2->en_core_web_sm==2.2.5) (1.0.5)\n",
      "Requirement already satisfied: cymem<2.1.0,>=2.0.2 in /usr/local/lib/python3.7/dist-packages (from spacy>=2.2.2->en_core_web_sm==2.2.5) (2.0.5)\n",
      "Requirement already satisfied: thinc==7.4.0 in /usr/local/lib/python3.7/dist-packages (from spacy>=2.2.2->en_core_web_sm==2.2.5) (7.4.0)\n",
      "Requirement already satisfied: requests<3.0.0,>=2.13.0 in /usr/local/lib/python3.7/dist-packages (from spacy>=2.2.2->en_core_web_sm==2.2.5) (2.23.0)\n",
      "Requirement already satisfied: setuptools in /usr/local/lib/python3.7/dist-packages (from spacy>=2.2.2->en_core_web_sm==2.2.5) (57.0.0)\n",
      "Requirement already satisfied: tqdm<5.0.0,>=4.38.0 in /usr/local/lib/python3.7/dist-packages (from spacy>=2.2.2->en_core_web_sm==2.2.5) (4.41.1)\n",
      "Requirement already satisfied: catalogue<1.1.0,>=0.0.7 in /usr/local/lib/python3.7/dist-packages (from spacy>=2.2.2->en_core_web_sm==2.2.5) (1.0.0)\n",
      "Requirement already satisfied: numpy>=1.15.0 in /usr/local/lib/python3.7/dist-packages (from spacy>=2.2.2->en_core_web_sm==2.2.5) (1.19.5)\n",
      "Requirement already satisfied: wasabi<1.1.0,>=0.4.0 in /usr/local/lib/python3.7/dist-packages (from spacy>=2.2.2->en_core_web_sm==2.2.5) (0.8.2)\n",
      "Requirement already satisfied: certifi>=2017.4.17 in /usr/local/lib/python3.7/dist-packages (from requests<3.0.0,>=2.13.0->spacy>=2.2.2->en_core_web_sm==2.2.5) (2021.5.30)\n",
      "Requirement already satisfied: idna<3,>=2.5 in /usr/local/lib/python3.7/dist-packages (from requests<3.0.0,>=2.13.0->spacy>=2.2.2->en_core_web_sm==2.2.5) (2.10)\n",
      "Requirement already satisfied: chardet<4,>=3.0.2 in /usr/local/lib/python3.7/dist-packages (from requests<3.0.0,>=2.13.0->spacy>=2.2.2->en_core_web_sm==2.2.5) (3.0.4)\n",
      "Requirement already satisfied: urllib3!=1.25.0,!=1.25.1,<1.26,>=1.21.1 in /usr/local/lib/python3.7/dist-packages (from requests<3.0.0,>=2.13.0->spacy>=2.2.2->en_core_web_sm==2.2.5) (1.24.3)\n",
      "Requirement already satisfied: importlib-metadata>=0.20; python_version < \"3.8\" in /usr/local/lib/python3.7/dist-packages (from catalogue<1.1.0,>=0.0.7->spacy>=2.2.2->en_core_web_sm==2.2.5) (4.5.0)\n",
      "Requirement already satisfied: zipp>=0.5 in /usr/local/lib/python3.7/dist-packages (from importlib-metadata>=0.20; python_version < \"3.8\"->catalogue<1.1.0,>=0.0.7->spacy>=2.2.2->en_core_web_sm==2.2.5) (3.4.1)\n",
      "Requirement already satisfied: typing-extensions>=3.6.4; python_version < \"3.8\" in /usr/local/lib/python3.7/dist-packages (from importlib-metadata>=0.20; python_version < \"3.8\"->catalogue<1.1.0,>=0.0.7->spacy>=2.2.2->en_core_web_sm==2.2.5) (3.7.4.3)\n",
      "\u001b[38;5;2m✔ Download and installation successful\u001b[0m\n",
      "You can now load the model via spacy.load('en_core_web_sm')\n"
     ]
    }
   ],
   "source": [
    "!python -m spacy download en_core_web_sm"
   ]
  },
  {
   "cell_type": "code",
   "execution_count": 8,
   "id": "behavioral-distribution",
   "metadata": {
    "id": "behavioral-distribution"
   },
   "outputs": [],
   "source": [
    "Sentence = data.Field(sequential = True, tokenize = 'spacy', tokenizer_language= \"en_core_web_sm\",batch_first =True, include_lengths=True)\n",
    "Label = data.LabelField(tokenize ='spacy', is_target=True, batch_first =True, sequential =False)"
   ]
  },
  {
   "cell_type": "code",
   "execution_count": 9,
   "id": "contained-terry",
   "metadata": {
    "id": "contained-terry"
   },
   "outputs": [],
   "source": [
    "fields = [('Sentence', Sentence),('Label',Label)]"
   ]
  },
  {
   "cell_type": "code",
   "execution_count": 10,
   "id": "liked-packing",
   "metadata": {
    "id": "liked-packing"
   },
   "outputs": [],
   "source": [
    "example = [data.Example.fromlist([df_train.Sentence[i],df_train.Label[i]], fields) for i in range(df_train.shape[0])] \n",
    "train_dataset = data.Dataset(example, fields)\n",
    "example = [data.Example.fromlist([df_valid.Sentence[i],df_valid.Label[i]], fields) for i in range(df_valid.shape[0])] \n",
    "valid_dataset = data.Dataset(example, fields)"
   ]
  },
  {
   "cell_type": "code",
   "execution_count": 11,
   "id": "cognitive-freeze",
   "metadata": {
    "colab": {
     "base_uri": "https://localhost:8080/"
    },
    "id": "cognitive-freeze",
    "outputId": "dfd312d8-9cc8-4b9a-9c0f-0a6bd00dd9ef"
   },
   "outputs": [
    {
     "name": "stderr",
     "output_type": "stream",
     "text": [
      ".vector_cache/glove.6B.zip: 862MB [02:42, 5.30MB/s]                           \n",
      "100%|█████████▉| 399196/400000 [00:41<00:00, 9424.12it/s]"
     ]
    }
   ],
   "source": [
    "import os, pickle\n",
    "\n",
    "Sentence.build_vocab(train_dataset, max_size = 25000, vectors = \"glove.6B.300d\")\n",
    "Label.build_vocab(train_dataset)"
   ]
  },
  {
   "cell_type": "code",
   "execution_count": 12,
   "id": "african-concrete",
   "metadata": {
    "colab": {
     "base_uri": "https://localhost:8080/"
    },
    "id": "african-concrete",
    "outputId": "5447b2da-82a9-4f3f-9ece-98b6105afe7b"
   },
   "outputs": [
    {
     "name": "stdout",
     "output_type": "stream",
     "text": [
      "Size of input vocab :  19511\n",
      "Size of label vocab :  5\n",
      "Top 10 words appreared repeatedly : [('.', 12021), (',', 10855), ('the', 9301), ('of', 6737), ('and', 6731), ('a', 6574), ('to', 4660), ('-', 3979), ('is', 3872), (\"'s\", 3585)]\n",
      "Labels :  defaultdict(None, {3: 0, 1: 1, 2: 2, 4: 3, 0: 4})\n"
     ]
    }
   ],
   "source": [
    "print('Size of input vocab : ', len(Sentence.vocab))\n",
    "print('Size of label vocab : ', len(Label.vocab))\n",
    "print('Top 10 words appreared repeatedly :', list(Sentence.vocab.freqs.most_common(10)))\n",
    "print('Labels : ', Label.vocab.stoi)"
   ]
  },
  {
   "cell_type": "code",
   "execution_count": 14,
   "id": "tamil-mobile",
   "metadata": {
    "id": "tamil-mobile"
   },
   "outputs": [],
   "source": [
    "import os, pickle\n",
    "with open('pickle_files/train_tokenizer.pkl', 'wb') as tokens: \n",
    "    pickle.dump(Sentence.vocab.stoi, tokens)"
   ]
  },
  {
   "cell_type": "code",
   "execution_count": 15,
   "id": "shaped-astronomy",
   "metadata": {
    "id": "shaped-astronomy"
   },
   "outputs": [],
   "source": [
    "device = torch.device(\"cuda\" if torch.cuda.is_available() else \"cpu\")\n",
    "train_iterator = data.BucketIterator(train_dataset, batch_size = 32, \n",
    "                                                            sort_key = lambda x: len(x.Sentence),\n",
    "                                                            sort_within_batch=True, device = device)\n"
   ]
  },
  {
   "cell_type": "code",
   "execution_count": 16,
   "id": "forward-saver",
   "metadata": {
    "colab": {
     "base_uri": "https://localhost:8080/"
    },
    "id": "forward-saver",
    "outputId": "fd9c9899-c107-4ba2-d502-3c3d6866e311"
   },
   "outputs": [
    {
     "name": "stdout",
     "output_type": "stream",
     "text": [
      "Size of input vocab :  10546\n",
      "Size of label vocab :  5\n",
      "Top 10 words appreared repeatedly : [('.', 3128), (',', 2818), ('the', 2387), ('and', 1726), ('of', 1690), ('a', 1678), ('to', 1215), ('-', 1088), (\"'s\", 1002), ('is', 980)]\n",
      "Labels :  defaultdict(None, {1: 0, 3: 1, 2: 2, 4: 3, 0: 4})\n"
     ]
    }
   ],
   "source": [
    "Sentence.build_vocab(valid_dataset, max_size = 25000, vectors = \"glove.6B.300d\")\n",
    "Label.build_vocab(valid_dataset)\n",
    "device = torch.device(\"cuda\" if torch.cuda.is_available() else \"cpu\")\n",
    "valid_iterator = data.BucketIterator(valid_dataset, batch_size = 32, \n",
    "                                                            sort_key = lambda x: len(x.Sentence),\n",
    "                                                            sort_within_batch=True, device = device)\n",
    "\n",
    "with open('pickle_files/valid_tokenizer.pkl', 'wb') as tokens: \n",
    "    pickle.dump(Sentence.vocab.stoi, tokens)\n",
    "\n",
    "print('Size of input vocab : ', len(Sentence.vocab))\n",
    "print('Size of label vocab : ', len(Label.vocab))\n",
    "print('Top 10 words appreared repeatedly :', list(Sentence.vocab.freqs.most_common(10)))\n",
    "print('Labels : ', Label.vocab.stoi)"
   ]
  },
  {
   "cell_type": "code",
   "execution_count": 17,
   "id": "immediate-library",
   "metadata": {
    "id": "immediate-library"
   },
   "outputs": [],
   "source": [
    "import torch.nn as nn\n",
    "import torch.nn.functional as F\n",
    "\n",
    "class classifier(nn.Module):\n",
    "    \n",
    "    # Define all the layers used in model\n",
    "    def __init__(self, vocab_size, embedding_dim, hidden_dim, output_dim, n_layers, dropout):\n",
    "        \n",
    "        super().__init__()          \n",
    "        \n",
    "        # Embedding layer\n",
    "        self.embedding = nn.Embedding(vocab_size, embedding_dim, padding_idx= pad_idx)\n",
    "        \n",
    "        # LSTM layer\n",
    "        self.encoder = nn.LSTM(embedding_dim, \n",
    "                               hidden_dim, \n",
    "                               num_layers=n_layers, \n",
    "                               dropout=dropout,\n",
    "                               bidirectional=True,\n",
    "                               batch_first=True,\n",
    "                               bias=True)\n",
    "        \n",
    "        # Dense layer\n",
    "        self.fc = nn.Linear(hidden_dim, output_dim)\n",
    "        \n",
    "        self.dropout = nn.Dropout(dropout)\n",
    "        \n",
    "    def forward(self, text, text_lengths):\n",
    "        \n",
    "        # text = [batch size, sent_length]\n",
    "        embedded = self.embedding(text)\n",
    "        # embedded = [batch size, sent_len, emb dim]\n",
    "      \n",
    "        # packed sequence\n",
    "        packed_embedded = nn.utils.rnn.pack_padded_sequence(embedded, text_lengths.cpu(), batch_first=True)\n",
    "        \n",
    "        packed_output, (hidden, cell) = self.encoder(packed_embedded)\n",
    "        #hidden = [batch size, num layers * num directions,hid dim]\n",
    "        #cell = [batch size, num layers * num directions,hid dim]\n",
    "    \n",
    "        # Hidden = [batch size, hid dim * num directions]\n",
    "        dense_outputs = self.fc(hidden)   \n",
    "        \n",
    "        # Final activation function softmax\n",
    "        output = F.softmax(dense_outputs[0], dim=1)\n",
    "            \n",
    "        return output"
   ]
  },
  {
   "cell_type": "code",
   "execution_count": 29,
   "id": "acoustic-offset",
   "metadata": {
    "id": "acoustic-offset"
   },
   "outputs": [],
   "source": [
    "# Define hyperparameters\n",
    "size_of_vocab = len(Sentence.vocab)\n",
    "embedding_dim = 300\n",
    "num_hidden_nodes = 256\n",
    "num_output_nodes = 5\n",
    "num_layers = 5\n",
    "dropout = 0.65\n",
    "pad_idx = Sentence.vocab.stoi[Sentence.pad_token]\n",
    "\n",
    "# Instantiate the model\n",
    "model = classifier(size_of_vocab, embedding_dim, num_hidden_nodes, num_output_nodes, num_layers, dropout = dropout)"
   ]
  },
  {
   "cell_type": "code",
   "execution_count": 30,
   "id": "tight-reference",
   "metadata": {
    "colab": {
     "base_uri": "https://localhost:8080/"
    },
    "id": "tight-reference",
    "outputId": "f92a06f5-a9bf-4187-a5e9-714e65f35bd8"
   },
   "outputs": [
    {
     "name": "stdout",
     "output_type": "stream",
     "text": [
      "classifier(\n",
      "  (embedding): Embedding(10546, 300, padding_idx=1)\n",
      "  (encoder): LSTM(300, 256, num_layers=5, batch_first=True, dropout=0.65, bidirectional=True)\n",
      "  (fc): Linear(in_features=256, out_features=5, bias=True)\n",
      "  (dropout): Dropout(p=0.65, inplace=False)\n",
      ")\n",
      "The model has 10,615,709 trainable parameters\n"
     ]
    }
   ],
   "source": [
    "print(model)\n",
    "\n",
    "#No. of trainable parameters\n",
    "def count_parameters(model):\n",
    "    return sum(p.numel() for p in model.parameters() if p.requires_grad)\n",
    "    \n",
    "print(f'The model has {count_parameters(model):,} trainable parameters')"
   ]
  },
  {
   "cell_type": "code",
   "execution_count": 31,
   "id": "informed-combine",
   "metadata": {
    "colab": {
     "base_uri": "https://localhost:8080/"
    },
    "id": "informed-combine",
    "outputId": "08350eef-d8fe-4459-c947-04d8cde607c3"
   },
   "outputs": [
    {
     "data": {
      "text/plain": [
       "tensor([[ 0.0000,  0.0000,  0.0000,  ...,  0.0000,  0.0000,  0.0000],\n",
       "        [ 0.0000,  0.0000,  0.0000,  ...,  0.0000,  0.0000,  0.0000],\n",
       "        [-0.1256,  0.0136,  0.1031,  ..., -0.3422, -0.0224,  0.1368],\n",
       "        ...,\n",
       "        [ 0.0000,  0.0000,  0.0000,  ...,  0.0000,  0.0000,  0.0000],\n",
       "        [-0.0202, -0.2257,  0.0055,  ...,  0.4262,  0.2258,  0.2486],\n",
       "        [ 0.0206, -0.2081,  0.4568,  ...,  0.4254,  0.2714, -0.1388]])"
      ]
     },
     "execution_count": 31,
     "metadata": {
      "tags": []
     },
     "output_type": "execute_result"
    }
   ],
   "source": [
    "pretrained_embeddings = Sentence.vocab.vectors\n",
    "\n",
    "model.embedding.weight.data.copy_(pretrained_embeddings)"
   ]
  },
  {
   "cell_type": "code",
   "execution_count": 32,
   "id": "sealed-yellow",
   "metadata": {
    "id": "sealed-yellow"
   },
   "outputs": [],
   "source": [
    "import torch.optim as optim\n",
    "\n",
    "# define optimizer and loss\n",
    "optimizer = optim.Adam(model.parameters(), lr=1e-4)\n",
    "criterion = nn.CrossEntropyLoss()\n",
    "\n",
    "# define metric\n",
    "def binary_accuracy(preds, y):\n",
    "    #round predictions to the closest integer\n",
    "    _, predictions = torch.max(preds, 1)\n",
    "    \n",
    "    correct = (predictions == y).float() \n",
    "    acc = correct.sum() / len(correct)\n",
    "    return acc\n",
    "    \n",
    "# push to cuda if available\n",
    "model = model.to(device)\n",
    "criterion = criterion.to(device)"
   ]
  },
  {
   "cell_type": "code",
   "execution_count": 33,
   "id": "original-michigan",
   "metadata": {
    "id": "original-michigan"
   },
   "outputs": [],
   "source": [
    "def train(model, iterator, optimizer, criterion):\n",
    "    \n",
    "    # initialize every epoch \n",
    "    epoch_loss = 0\n",
    "    epoch_acc = 0\n",
    "    \n",
    "    # set the model in training phase\n",
    "    model.train()  \n",
    "    \n",
    "    for batch in iterator:\n",
    "        \n",
    "        # resets the gradients after every batch\n",
    "        optimizer.zero_grad()   \n",
    "        \n",
    "        # retrieve text and no. of words\n",
    "        sentence, sentence_lengths = batch.Sentence   \n",
    "        \n",
    "        # convert to 1D tensor\n",
    "        predictions = model(sentence, sentence_lengths).squeeze()  \n",
    "        \n",
    "        # compute the loss\n",
    "        loss = criterion(predictions, batch.Label)        \n",
    "        \n",
    "        # compute the binary accuracy\n",
    "        acc = binary_accuracy(predictions, batch.Label)   \n",
    "        \n",
    "        # backpropage the loss and compute the gradients\n",
    "        loss.backward()       \n",
    "        \n",
    "        # update the weights\n",
    "        optimizer.step()      \n",
    "        \n",
    "        # loss and accuracy\n",
    "        epoch_loss += loss.item()  \n",
    "        epoch_acc += acc.item()    \n",
    "        \n",
    "    return epoch_loss / len(iterator), epoch_acc / len(iterator)"
   ]
  },
  {
   "cell_type": "code",
   "execution_count": 34,
   "id": "correct-preview",
   "metadata": {
    "id": "correct-preview"
   },
   "outputs": [],
   "source": [
    "def evaluate(model, iterator, criterion):\n",
    "    \n",
    "    # initialize every epoch\n",
    "    epoch_loss = 0\n",
    "    epoch_acc = 0\n",
    "\n",
    "    # deactivating dropout layers\n",
    "    model.eval()\n",
    "    \n",
    "    # deactivates autograd\n",
    "    with torch.no_grad():\n",
    "    \n",
    "        for batch in iterator:\n",
    "        \n",
    "            # retrieve text and no. of words\n",
    "            sentence, sentence_lengths = batch.Sentence\n",
    "            \n",
    "            # convert to 1d tensor\n",
    "            predictions = model(sentence, sentence_lengths).squeeze()\n",
    "            \n",
    "            # compute loss and accuracy\n",
    "            loss = criterion(predictions, batch.Label)\n",
    "            acc = binary_accuracy(predictions, batch.Label)\n",
    "            \n",
    "            # keep track of loss and accuracy\n",
    "            epoch_loss += loss.item()\n",
    "            epoch_acc += acc.item()\n",
    "        \n",
    "    return epoch_loss / len(iterator), epoch_acc / len(iterator)"
   ]
  },
  {
   "cell_type": "code",
   "execution_count": 35,
   "id": "electric-century",
   "metadata": {
    "colab": {
     "base_uri": "https://localhost:8080/"
    },
    "id": "electric-century",
    "outputId": "8713059b-3552-4d95-db73-d4db562f1f40"
   },
   "outputs": [
    {
     "name": "stdout",
     "output_type": "stream",
     "text": [
      "Epoch 1 | Time Taken: 10.97s\n",
      "\tTrain Loss: 1.573 | Train Acc: 30.02%\n",
      "\t Val. Loss: 1.549 |  Val. Acc: 34.82% \n",
      "\n",
      "Epoch 2 | Time Taken: 11.00s\n",
      "\tTrain Loss: 1.526 | Train Acc: 36.56%\n",
      "\t Val. Loss: 1.515 |  Val. Acc: 37.65% \n",
      "\n",
      "Epoch 3 | Time Taken: 10.91s\n",
      "\tTrain Loss: 1.487 | Train Acc: 40.50%\n",
      "\t Val. Loss: 1.484 |  Val. Acc: 40.26% \n",
      "\n",
      "Epoch 4 | Time Taken: 10.88s\n",
      "\tTrain Loss: 1.459 | Train Acc: 44.06%\n",
      "\t Val. Loss: 1.476 |  Val. Acc: 41.35% \n",
      "\n",
      "Epoch 5 | Time Taken: 10.92s\n",
      "\tTrain Loss: 1.439 | Train Acc: 46.10%\n",
      "\t Val. Loss: 1.475 |  Val. Acc: 41.32% \n",
      "\n",
      "Epoch 6 | Time Taken: 10.91s\n",
      "\tTrain Loss: 1.416 | Train Acc: 48.43%\n",
      "\t Val. Loss: 1.472 |  Val. Acc: 42.03% \n",
      "\n",
      "Epoch 7 | Time Taken: 10.87s\n",
      "\tTrain Loss: 1.397 | Train Acc: 50.49%\n",
      "\t Val. Loss: 1.463 |  Val. Acc: 42.69% \n",
      "\n",
      "Epoch 8 | Time Taken: 10.87s\n",
      "\tTrain Loss: 1.377 | Train Acc: 52.94%\n",
      "\t Val. Loss: 1.470 |  Val. Acc: 41.99% \n",
      "\n",
      "Epoch 9 | Time Taken: 10.82s\n",
      "\tTrain Loss: 1.362 | Train Acc: 54.46%\n",
      "\t Val. Loss: 1.468 |  Val. Acc: 42.34% \n",
      "\n",
      "Epoch 10 | Time Taken: 10.75s\n",
      "\tTrain Loss: 1.344 | Train Acc: 56.40%\n",
      "\t Val. Loss: 1.478 |  Val. Acc: 41.54% \n",
      "\n"
     ]
    }
   ],
   "source": [
    "import time\n",
    "N_EPOCHS = 10\n",
    "best_valid_loss = float('inf')\n",
    "val_losses = []\n",
    "train_losses = []\n",
    "\n",
    "val_accuracy = []\n",
    "train_accuracy = []\n",
    "\n",
    "for epoch in range(N_EPOCHS):\n",
    "    start_time = time.time()\n",
    "    # train the model\n",
    "    train_loss, train_acc = train(model, train_iterator, optimizer, criterion)\n",
    "    train_losses.append(train_loss)\n",
    "    train_accuracy.append(train_acc)\n",
    "\n",
    "    # evaluate the model\n",
    "    valid_loss, valid_acc = evaluate(model, valid_iterator, criterion)\n",
    "    val_losses.append(valid_loss)\n",
    "    val_accuracy.append(valid_acc)\n",
    "\n",
    "\n",
    "    # save the best model\n",
    "    if valid_loss < best_valid_loss:\n",
    "        best_valid_loss = valid_loss\n",
    "        torch.save(model.state_dict(), 'weights/saved_weights.pt')\n",
    "    \n",
    "    print(f'Epoch {epoch+1} | Time Taken: {(time.time() - start_time):.2f}s')\n",
    "    print(f'\\tTrain Loss: {train_loss:.3f} | Train Acc: {train_acc*100:.2f}%')\n",
    "    print(f'\\t Val. Loss: {valid_loss:.3f} |  Val. Acc: {valid_acc*100:.2f}% \\n')\n",
    "     "
   ]
  },
  {
   "cell_type": "code",
   "execution_count": 36,
   "id": "forced-luxury",
   "metadata": {
    "colab": {
     "base_uri": "https://localhost:8080/",
     "height": 350
    },
    "id": "forced-luxury",
    "outputId": "24e84ed2-3afc-4b22-fae6-f3629e779708"
   },
   "outputs": [
    {
     "data": {
      "image/png": "[encoded data removed]",
      "text/plain": [
       "<Figure size 720x360 with 1 Axes>"
      ]
     },
     "metadata": {
      "needs_background": "light",
      "tags": []
     },
     "output_type": "display_data"
    }
   ],
   "source": [
    "import matplotlib.pyplot  as plt\n",
    "# Plotting the train and validation loss\n",
    "\n",
    "plt.figure(figsize=(10,5))\n",
    "plt.title(\"Training and Validation Loss\")\n",
    "plt.plot(val_losses,label=\"val\")\n",
    "plt.plot(train_losses,label=\"train\")\n",
    "plt.xlabel(\"iterations\")\n",
    "plt.ylabel(\"Loss\")\n",
    "plt.legend()\n",
    "plt.show()"
   ]
  },
  {
   "cell_type": "code",
   "execution_count": 37,
   "id": "chicken-shelf",
   "metadata": {
    "colab": {
     "base_uri": "https://localhost:8080/",
     "height": 350
    },
    "id": "chicken-shelf",
    "outputId": "94d0e508-92a0-45d7-9618-6a03587e8db3"
   },
   "outputs": [
    {
     "data": {
      "image/png": "[encoded data removed]",
      "text/plain": [
       "<Figure size 720x360 with 1 Axes>"
      ]
     },
     "metadata": {
      "needs_background": "light",
      "tags": []
     },
     "output_type": "display_data"
    }
   ],
   "source": [
    "# Plotting the train and validation Accuracy\n",
    "\n",
    "plt.figure(figsize=(10,5))\n",
    "plt.title(\"Training and Validation Accuracy\")\n",
    "plt.plot(val_accuracy,label=\"val\")\n",
    "plt.plot(train_accuracy,label=\"train\")\n",
    "plt.xlabel(\"iterations\")\n",
    "plt.ylabel(\"Accuracy\")\n",
    "plt.legend()\n",
    "plt.show()"
   ]
  },
  {
   "cell_type": "code",
   "execution_count": 101,
   "id": "japanese-poison",
   "metadata": {
    "id": "japanese-poison"
   },
   "outputs": [],
   "source": [
    "#load weights and tokenizer\n",
    "\n",
    "path='weights/saved_weights.pt'\n",
    "model.load_state_dict(torch.load(path))\n",
    "model.eval();\n",
    "tokenizer_file = open('pickle_files/valid_tokenizer.pkl', 'rb')\n",
    "tokenizer = pickle.load(tokenizer_file)\n",
    "\n",
    "#inference \n",
    "\n",
    "import spacy\n",
    "nlp = spacy.load('en_core_web_sm')\n",
    "\n",
    "def classify_review(text):\n",
    "    \n",
    "    categories = {0: \"Very Negative\", 1:\"Negative\", 2:\"Neutral\", 3:\"Positive\", 4:\"Very Positive\" }\n",
    "    \n",
    "    \n",
    "    # tokenize the tweet \n",
    "    tokenized = [tok.text for tok in nlp.tokenizer(text)] \n",
    "    # convert to integer sequence using predefined tokenizer dictionary\n",
    "    indexed = [tokenizer[t] for t in tokenized]        \n",
    "    # compute no. of words        \n",
    "    length = [len(indexed)]\n",
    "    # convert to tensor                                    \n",
    "    tensor = torch.LongTensor(indexed).to(device)   \n",
    "    # reshape in form of batch, no. of words           \n",
    "    tensor = tensor.unsqueeze(1).T  \n",
    "    # convert to tensor                          \n",
    "    length_tensor = torch.LongTensor(length)\n",
    "    # Get the model prediction                  \n",
    "    prediction = model(tensor, length_tensor)\n",
    "\n",
    "    _, pred = torch.max(prediction, 1) \n",
    "    \n",
    "    return categories[pred.item()]"
   ]
  },
  {
   "cell_type": "code",
   "execution_count": 102,
   "id": "political-header",
   "metadata": {
    "colab": {
     "base_uri": "https://localhost:8080/"
    },
    "id": "political-header",
    "outputId": "0dae38f4-5d3a-4065-8b93-29764587284e"
   },
   "outputs": [
    {
     "name": "stdout",
     "output_type": "stream",
     "text": [
      "Time taken:  0.019861698150634766\n",
      "Negative\n"
     ]
    }
   ],
   "source": [
    "import time\n",
    "start_time = time.time()\n",
    "sentiment = classify_review(\"\"\"With a story inspired by the tumultuous surroundings of Los Angeles , \n",
    "                where feelings of marginalization loom for every dreamer with a burst bubble ,\n",
    "                The Dogwalker has a few characters and ideas , \n",
    "                but it never manages to put them on the same path .\"\"\")\n",
    "print(\"Time taken: \", time.time()-start_time)\n",
    "print(sentiment)"
   ]
  },
  {
   "cell_type": "code",
   "execution_count": 103,
   "id": "sensitive-coupon",
   "metadata": {
    "id": "sensitive-coupon"
   },
   "outputs": [],
   "source": [
    "categories = {0: \"Very Negative\", 1:\"Negative\", 2:\"Neutral\", 3:\"Positive\", 4:\"Very Positive\" }\n",
    "df_valid[\"Sentiment\"] = df_valid[\"Label\"].apply(lambda x: categories.get(x))"
   ]
  },
  {
   "cell_type": "code",
   "execution_count": 115,
   "id": "f198936f-3b87-4185-98cc-f88987027416",
   "metadata": {
    "id": "f198936f-3b87-4185-98cc-f88987027416"
   },
   "outputs": [],
   "source": [
    "df_valid[\"Predicted_Sentiment\"] = df_valid[\"Sentence\"].apply(lambda x: classify_review(x))\n",
    "df_valid[\"Predicted_Label\"] = df_valid[\"Predicted_Sentiment\"].apply(lambda x: [k for k,v in categories.items() if v == x][0])"
   ]
  },
  {
   "cell_type": "code",
   "execution_count": 116,
   "id": "MzWUkH4a2AMH",
   "metadata": {
    "id": "MzWUkH4a2AMH"
   },
   "outputs": [],
   "source": [
    "df_valid.to_csv(\"dataset/test_predicted.csv\")"
   ]
  },
  {
   "cell_type": "code",
   "execution_count": 117,
   "id": "329f905b-66b0-48d2-829c-0e1c0f903999",
   "metadata": {
    "colab": {
     "base_uri": "https://localhost:8080/"
    },
    "id": "329f905b-66b0-48d2-829c-0e1c0f903999",
    "outputId": "551eb9e3-80f3-40ed-ea36-47d21b52ea2d"
   },
   "outputs": [
    {
     "name": "stdout",
     "output_type": "stream",
     "text": [
      "                                                                                                                                                                                                                                                  Sentence      Sentiment Predicted_Sentiment  Label  Predicted_Label\n",
      "0                                                                                                       For the first time in several years , Mr. Allen has surpassed himself with the magic he 's spun with the Hollywood empress of Ms. Leoni 's Ellie .       Positive            Negative      3                1\n",
      "1                                                                                               Considering the harsh locations and demanding stunts , this must have been a difficult shoot , but the movie proves rough going for the audience as well .       Negative             Neutral      1                2\n",
      "2               Christians sensitive to a reductionist view of their Lord as a luv-spreading Dr. Feelgood or omnipotent slacker will feel vastly more affronted than secularists , who might even praise God for delivering such an instant camp classic .       Positive             Neutral      3                2\n",
      "3                                                                                                                                           A movie for 11-year-old boys with sports dreams of their own and the preteen girls who worship Lil ' Bow Wow .       Positive            Negative      3                1\n",
      "4                                                                                                                                             ( But it 's ) worth recommending because of two marvelous performances by Michael Caine and Brendan Fraser .  Very Positive            Positive      4                3\n",
      "5                                                                                                                                                                                                                                 Much monkeyfun for all .  Very Positive            Negative      4                1\n",
      "6                                                                                                                        Morton uses her face and her body language to bring us Morvern 's soul , even though the character is almost completely deadpan .       Positive            Negative      3                1\n",
      "7  With a story inspired by the tumultuous surroundings of Los Angeles , where feelings of marginalization loom for every dreamer with a burst bubble , The Dogwalker has a few characters and ideas , but it never manages to put them on the same path .       Negative            Negative      1                1\n",
      "8                                                            Audiences conditioned to getting weepy over saucer-eyed , downy-cheeked moppets and their empathetic caretakers will probably feel emotionally cheated by the film 's tart , sugar-free wit .       Negative            Negative      1                1\n",
      "9                                                                                                                                                                                                   It 's not the ultimate Depression-era gangster movie .       Negative       Very Negative      1                0\n"
     ]
    }
   ],
   "source": [
    "import pandas as pd\n",
    "pd.set_option('display.max_rows', None)\n",
    "pd.set_option('display.max_columns', None)\n",
    "pd.set_option('display.expand_frame_repr', False)\n",
    "pd.set_option('display.max_colwidth', None)\n",
    "print(df_valid[['Sentence','Sentiment','Predicted_Sentiment','Label','Predicted_Label']].head(n=10))"
   ]
  },
  {
   "cell_type": "code",
   "execution_count": 118,
   "id": "c159bbdf-ba00-48c8-86bc-3404e9276f0d",
   "metadata": {
    "colab": {
     "base_uri": "https://localhost:8080/",
     "height": 1000
    },
    "id": "c159bbdf-ba00-48c8-86bc-3404e9276f0d",
    "outputId": "4bfbda79-8316-44a4-bfd1-cc568e7e37e1"
   },
   "outputs": [
    {
     "data": {
      "text/html": [
       "<div>\n",
       "<style scoped>\n",
       "    .dataframe tbody tr th:only-of-type {\n",
       "        vertical-align: middle;\n",
       "    }\n",
       "\n",
       "    .dataframe tbody tr th {\n",
       "        vertical-align: top;\n",
       "    }\n",
       "\n",
       "    .dataframe thead th {\n",
       "        text-align: right;\n",
       "    }\n",
       "</style>\n",
       "<table border=\"1\" class=\"dataframe\">\n",
       "  <thead>\n",
       "    <tr style=\"text-align: right;\">\n",
       "      <th></th>\n",
       "      <th>Sentence</th>\n",
       "      <th>Sentiment</th>\n",
       "      <th>Predicted_Sentiment</th>\n",
       "    </tr>\n",
       "  </thead>\n",
       "  <tbody>\n",
       "    <tr>\n",
       "      <th>464</th>\n",
       "      <td>Soul is what 's lacking in every character in this movie and , subsequently , the movie itself .</td>\n",
       "      <td>Very Negative</td>\n",
       "      <td>Very Negative</td>\n",
       "    </tr>\n",
       "    <tr>\n",
       "      <th>1563</th>\n",
       "      <td>Here 's yet another studio horror franchise mucking up its storyline with glitches casual fans could correct in their sleep .</td>\n",
       "      <td>Very Negative</td>\n",
       "      <td>Very Negative</td>\n",
       "    </tr>\n",
       "    <tr>\n",
       "      <th>779</th>\n",
       "      <td>There is no pleasure in watching a child suffer .</td>\n",
       "      <td>Very Negative</td>\n",
       "      <td>Very Negative</td>\n",
       "    </tr>\n",
       "    <tr>\n",
       "      <th>2865</th>\n",
       "      <td>Holy mad maniac in a mask , Splat-Man !</td>\n",
       "      <td>Neutral</td>\n",
       "      <td>Neutral</td>\n",
       "    </tr>\n",
       "    <tr>\n",
       "      <th>455</th>\n",
       "      <td>Viewers of `` The Ring '' are more likely to remember the haunting images than the plot holes .</td>\n",
       "      <td>Neutral</td>\n",
       "      <td>Neutral</td>\n",
       "    </tr>\n",
       "    <tr>\n",
       "      <th>1236</th>\n",
       "      <td>The film seems a dead weight .</td>\n",
       "      <td>Very Negative</td>\n",
       "      <td>Very Negative</td>\n",
       "    </tr>\n",
       "    <tr>\n",
       "      <th>2516</th>\n",
       "      <td>Unfortunately , they 're sandwiched in between the most impossibly dry account of Kahlo 's life imaginable .</td>\n",
       "      <td>Negative</td>\n",
       "      <td>Negative</td>\n",
       "    </tr>\n",
       "    <tr>\n",
       "      <th>2526</th>\n",
       "      <td>A wildly inconsistent emotional experience .</td>\n",
       "      <td>Negative</td>\n",
       "      <td>Negative</td>\n",
       "    </tr>\n",
       "    <tr>\n",
       "      <th>1205</th>\n",
       "      <td>This pep-talk for faith , hope and charity does little to offend , but if saccharine earnestness were a crime , the film 's producers would be in the clink for life .</td>\n",
       "      <td>Negative</td>\n",
       "      <td>Negative</td>\n",
       "    </tr>\n",
       "    <tr>\n",
       "      <th>1290</th>\n",
       "      <td>Oft-described as the antidote to American Pie-type sex comedies , it actually has a bundle in common with them , as the film diffuses every opportunity for a breakthrough</td>\n",
       "      <td>Negative</td>\n",
       "      <td>Negative</td>\n",
       "    </tr>\n",
       "    <tr>\n",
       "      <th>1438</th>\n",
       "      <td>A subtle and well-crafted ( for the most part ) chiller .</td>\n",
       "      <td>Positive</td>\n",
       "      <td>Positive</td>\n",
       "    </tr>\n",
       "    <tr>\n",
       "      <th>277</th>\n",
       "      <td>I hated every minute of it .</td>\n",
       "      <td>Very Negative</td>\n",
       "      <td>Very Negative</td>\n",
       "    </tr>\n",
       "    <tr>\n",
       "      <th>2826</th>\n",
       "      <td>Katz uses archival footage , horrifying documents of lynchings , still photographs and charming old reel-to-reel recordings of Meeropol entertaining his children to create his song history , but most powerful of all is the song itself</td>\n",
       "      <td>Positive</td>\n",
       "      <td>Positive</td>\n",
       "    </tr>\n",
       "    <tr>\n",
       "      <th>838</th>\n",
       "      <td>The film is a travesty of the genre and even as spoof takes itself too seriously .</td>\n",
       "      <td>Very Negative</td>\n",
       "      <td>Very Negative</td>\n",
       "    </tr>\n",
       "    <tr>\n",
       "      <th>552</th>\n",
       "      <td>While surprisingly sincere , this average little story is adorned with some awesome action photography and surfing .</td>\n",
       "      <td>Positive</td>\n",
       "      <td>Positive</td>\n",
       "    </tr>\n",
       "    <tr>\n",
       "      <th>3167</th>\n",
       "      <td>Easier to respect than enthuse over , Andersson 's rigorous personal vision is not only distanced but distancing .</td>\n",
       "      <td>Neutral</td>\n",
       "      <td>Neutral</td>\n",
       "    </tr>\n",
       "    <tr>\n",
       "      <th>3191</th>\n",
       "      <td>A work of intricate elegance , literary lyricism and profound common sense .</td>\n",
       "      <td>Positive</td>\n",
       "      <td>Positive</td>\n",
       "    </tr>\n",
       "    <tr>\n",
       "      <th>181</th>\n",
       "      <td>The film is an enjoyable family film -- pretty much aimed at any youngster who loves horses .</td>\n",
       "      <td>Positive</td>\n",
       "      <td>Positive</td>\n",
       "    </tr>\n",
       "    <tr>\n",
       "      <th>1427</th>\n",
       "      <td>( W ) hile long on amiable monkeys and worthy environmentalism , Jane Goodall 's Wild Chimpanzees is short on the thrills the oversize medium demands .</td>\n",
       "      <td>Negative</td>\n",
       "      <td>Negative</td>\n",
       "    </tr>\n",
       "    <tr>\n",
       "      <th>1841</th>\n",
       "      <td>I enjoyed Time of Favor while I was watching it , but I was surprised at how quickly it faded from my memory .</td>\n",
       "      <td>Neutral</td>\n",
       "      <td>Neutral</td>\n",
       "    </tr>\n",
       "    <tr>\n",
       "      <th>1292</th>\n",
       "      <td>Francophiles will snicker knowingly and you 'll want to slap them .</td>\n",
       "      <td>Negative</td>\n",
       "      <td>Negative</td>\n",
       "    </tr>\n",
       "    <tr>\n",
       "      <th>293</th>\n",
       "      <td>Too much of this well-acted but dangerously slow thriller feels like a preamble to a bigger , more complicated story , one that never materializes .</td>\n",
       "      <td>Very Negative</td>\n",
       "      <td>Very Negative</td>\n",
       "    </tr>\n",
       "    <tr>\n",
       "      <th>1911</th>\n",
       "      <td>Has all the poignancy of a Hallmark card and all the comedy of a Gallagher stand-up act .</td>\n",
       "      <td>Neutral</td>\n",
       "      <td>Neutral</td>\n",
       "    </tr>\n",
       "    <tr>\n",
       "      <th>1992</th>\n",
       "      <td>By getting myself wrapped up in the visuals and eccentricities of many of the characters , I found myself confused when it came time to get to the heart of the movie .</td>\n",
       "      <td>Negative</td>\n",
       "      <td>Negative</td>\n",
       "    </tr>\n",
       "    <tr>\n",
       "      <th>1690</th>\n",
       "      <td>It 's an awfully derivative story .</td>\n",
       "      <td>Very Negative</td>\n",
       "      <td>Very Negative</td>\n",
       "    </tr>\n",
       "  </tbody>\n",
       "</table>\n",
       "</div>"
      ],
      "text/plain": [
       "                                                                                                                                                                                                                                        Sentence      Sentiment Predicted_Sentiment\n",
       "464                                                                                                                                             Soul is what 's lacking in every character in this movie and , subsequently , the movie itself .  Very Negative       Very Negative\n",
       "1563                                                                                                               Here 's yet another studio horror franchise mucking up its storyline with glitches casual fans could correct in their sleep .  Very Negative       Very Negative\n",
       "779                                                                                                                                                                                            There is no pleasure in watching a child suffer .  Very Negative       Very Negative\n",
       "2865                                                                                                                                                                                                     Holy mad maniac in a mask , Splat-Man !        Neutral             Neutral\n",
       "455                                                                                                                                              Viewers of `` The Ring '' are more likely to remember the haunting images than the plot holes .        Neutral             Neutral\n",
       "1236                                                                                                                                                                                                              The film seems a dead weight .  Very Negative       Very Negative\n",
       "2516                                                                                                                                Unfortunately , they 're sandwiched in between the most impossibly dry account of Kahlo 's life imaginable .       Negative            Negative\n",
       "2526                                                                                                                                                                                                A wildly inconsistent emotional experience .       Negative            Negative\n",
       "1205                                                                      This pep-talk for faith , hope and charity does little to offend , but if saccharine earnestness were a crime , the film 's producers would be in the clink for life .       Negative            Negative\n",
       "1290                                                                  Oft-described as the antidote to American Pie-type sex comedies , it actually has a bundle in common with them , as the film diffuses every opportunity for a breakthrough       Negative            Negative\n",
       "1438                                                                                                                                                                                   A subtle and well-crafted ( for the most part ) chiller .       Positive            Positive\n",
       "277                                                                                                                                                                                                                 I hated every minute of it .  Very Negative       Very Negative\n",
       "2826  Katz uses archival footage , horrifying documents of lynchings , still photographs and charming old reel-to-reel recordings of Meeropol entertaining his children to create his song history , but most powerful of all is the song itself       Positive            Positive\n",
       "838                                                                                                                                                           The film is a travesty of the genre and even as spoof takes itself too seriously .  Very Negative       Very Negative\n",
       "552                                                                                                                         While surprisingly sincere , this average little story is adorned with some awesome action photography and surfing .       Positive            Positive\n",
       "3167                                                                                                                          Easier to respect than enthuse over , Andersson 's rigorous personal vision is not only distanced but distancing .        Neutral             Neutral\n",
       "3191                                                                                                                                                                A work of intricate elegance , literary lyricism and profound common sense .       Positive            Positive\n",
       "181                                                                                                                                                The film is an enjoyable family film -- pretty much aimed at any youngster who loves horses .       Positive            Positive\n",
       "1427                                                                                     ( W ) hile long on amiable monkeys and worthy environmentalism , Jane Goodall 's Wild Chimpanzees is short on the thrills the oversize medium demands .       Negative            Negative\n",
       "1841                                                                                                                              I enjoyed Time of Favor while I was watching it , but I was surprised at how quickly it faded from my memory .        Neutral             Neutral\n",
       "1292                                                                                                                                                                         Francophiles will snicker knowingly and you 'll want to slap them .       Negative            Negative\n",
       "293                                                                                         Too much of this well-acted but dangerously slow thriller feels like a preamble to a bigger , more complicated story , one that never materializes .  Very Negative       Very Negative\n",
       "1911                                                                                                                                                   Has all the poignancy of a Hallmark card and all the comedy of a Gallagher stand-up act .        Neutral             Neutral\n",
       "1992                                                                     By getting myself wrapped up in the visuals and eccentricities of many of the characters , I found myself confused when it came time to get to the heart of the movie .       Negative            Negative\n",
       "1690                                                                                                                                                                                                         It 's an awfully derivative story .  Very Negative       Very Negative"
      ]
     },
     "execution_count": 118,
     "metadata": {
      "tags": []
     },
     "output_type": "execute_result"
    }
   ],
   "source": [
    "df_test_results_correct =  df_valid[df_valid[\"Sentiment\"]==df_valid[\"Predicted_Sentiment\"]].sample(25)\n",
    "df_test_results_correct[['Sentence','Sentiment','Predicted_Sentiment']]"
   ]
  },
  {
   "cell_type": "code",
   "execution_count": 121,
   "id": "70Z2UtN2wWbE",
   "metadata": {
    "colab": {
     "base_uri": "https://localhost:8080/",
     "height": 1000
    },
    "id": "70Z2UtN2wWbE",
    "outputId": "659fdd4f-beaa-49eb-b8b1-db4e8f1c457c"
   },
   "outputs": [
    {
     "data": {
      "text/html": [
       "<div>\n",
       "<style scoped>\n",
       "    .dataframe tbody tr th:only-of-type {\n",
       "        vertical-align: middle;\n",
       "    }\n",
       "\n",
       "    .dataframe tbody tr th {\n",
       "        vertical-align: top;\n",
       "    }\n",
       "\n",
       "    .dataframe thead th {\n",
       "        text-align: right;\n",
       "    }\n",
       "</style>\n",
       "<table border=\"1\" class=\"dataframe\">\n",
       "  <thead>\n",
       "    <tr style=\"text-align: right;\">\n",
       "      <th></th>\n",
       "      <th>Sentence</th>\n",
       "      <th>Sentiment</th>\n",
       "      <th>Predicted_Sentiment</th>\n",
       "    </tr>\n",
       "  </thead>\n",
       "  <tbody>\n",
       "    <tr>\n",
       "      <th>28</th>\n",
       "      <td>Very special effects , brilliantly bold colors and heightened reality ca n't hide the giant Achilles ' heel in `` Stuart Little 2 `` : There 's just no story , folks .</td>\n",
       "      <td>Negative</td>\n",
       "      <td>Neutral</td>\n",
       "    </tr>\n",
       "    <tr>\n",
       "      <th>1372</th>\n",
       "      <td>About as cutting-edge as Pet Rock : The Movie .</td>\n",
       "      <td>Very Negative</td>\n",
       "      <td>Neutral</td>\n",
       "    </tr>\n",
       "    <tr>\n",
       "      <th>2981</th>\n",
       "      <td>So few movies explore religion that it 's disappointing to see one reduce it to an idea that fits in a sampler .</td>\n",
       "      <td>Negative</td>\n",
       "      <td>Neutral</td>\n",
       "    </tr>\n",
       "    <tr>\n",
       "      <th>3031</th>\n",
       "      <td>Is this progress ?</td>\n",
       "      <td>Negative</td>\n",
       "      <td>Neutral</td>\n",
       "    </tr>\n",
       "    <tr>\n",
       "      <th>2503</th>\n",
       "      <td>But what are adults doing in the theater at all ?</td>\n",
       "      <td>Negative</td>\n",
       "      <td>Neutral</td>\n",
       "    </tr>\n",
       "    <tr>\n",
       "      <th>2949</th>\n",
       "      <td>You really have to wonder how on earth anyone , anywhere could have thought they 'd make audiences guffaw with a script as utterly diabolical as this .</td>\n",
       "      <td>Very Negative</td>\n",
       "      <td>Neutral</td>\n",
       "    </tr>\n",
       "    <tr>\n",
       "      <th>2721</th>\n",
       "      <td>Credibility levels are low and character development a non-starter .</td>\n",
       "      <td>Very Negative</td>\n",
       "      <td>Neutral</td>\n",
       "    </tr>\n",
       "    <tr>\n",
       "      <th>2722</th>\n",
       "      <td>The experience of going to a film festival is a rewarding one ; the experiencing of sampling one through this movie is not .</td>\n",
       "      <td>Very Negative</td>\n",
       "      <td>Positive</td>\n",
       "    </tr>\n",
       "    <tr>\n",
       "      <th>2333</th>\n",
       "      <td>It takes talent to make a lifeless movie about the most heinous man who ever lived .</td>\n",
       "      <td>Negative</td>\n",
       "      <td>Neutral</td>\n",
       "    </tr>\n",
       "    <tr>\n",
       "      <th>1471</th>\n",
       "      <td>You 've seen them a million times .</td>\n",
       "      <td>Negative</td>\n",
       "      <td>Neutral</td>\n",
       "    </tr>\n",
       "    <tr>\n",
       "      <th>580</th>\n",
       "      <td>Looks like a high school film project completed the day before it was due .</td>\n",
       "      <td>Very Negative</td>\n",
       "      <td>Neutral</td>\n",
       "    </tr>\n",
       "    <tr>\n",
       "      <th>2443</th>\n",
       "      <td>Thirty years ago , it would have been groundbreaking .</td>\n",
       "      <td>Negative</td>\n",
       "      <td>Neutral</td>\n",
       "    </tr>\n",
       "    <tr>\n",
       "      <th>432</th>\n",
       "      <td>At the bottom rung of the series ' entries .</td>\n",
       "      <td>Negative</td>\n",
       "      <td>Neutral</td>\n",
       "    </tr>\n",
       "    <tr>\n",
       "      <th>273</th>\n",
       "      <td>It takes a strange kind of laziness to waste the talents of Robert Forster , Anne Meara , Eugene Levy , and Reginald VelJohnson all in the same movie .</td>\n",
       "      <td>Very Negative</td>\n",
       "      <td>Neutral</td>\n",
       "    </tr>\n",
       "    <tr>\n",
       "      <th>2729</th>\n",
       "      <td>Its well of thorn and vinegar ( and simple humanity ) has long been plundered by similar works featuring the insight and punch this picture so conspicuously lacks .</td>\n",
       "      <td>Negative</td>\n",
       "      <td>Positive</td>\n",
       "    </tr>\n",
       "    <tr>\n",
       "      <th>1957</th>\n",
       "      <td>It 's inoffensive , cheerful , built to inspire the young people , set to an unending soundtrack of beach party pop numbers and aside from its remarkable camerawork and awesome scenery , it 's about as exciting as a sunburn .</td>\n",
       "      <td>Negative</td>\n",
       "      <td>Positive</td>\n",
       "    </tr>\n",
       "    <tr>\n",
       "      <th>1500</th>\n",
       "      <td>While Super Troopers is above Academy standards , its quintet of writers could still use some more schooling .</td>\n",
       "      <td>Negative</td>\n",
       "      <td>Neutral</td>\n",
       "    </tr>\n",
       "    <tr>\n",
       "      <th>504</th>\n",
       "      <td>I 've always dreamed of attending Cannes , but after seeing this film , it 's not that big a deal .</td>\n",
       "      <td>Negative</td>\n",
       "      <td>Neutral</td>\n",
       "    </tr>\n",
       "    <tr>\n",
       "      <th>241</th>\n",
       "      <td>If you collected all the moments of coherent dialogue , they still would n't add up to the time required to boil a four - minute egg .</td>\n",
       "      <td>Negative</td>\n",
       "      <td>Neutral</td>\n",
       "    </tr>\n",
       "    <tr>\n",
       "      <th>3204</th>\n",
       "      <td>A compendium of Solondz 's own worst instincts in under 90 minutes .</td>\n",
       "      <td>Negative</td>\n",
       "      <td>Neutral</td>\n",
       "    </tr>\n",
       "    <tr>\n",
       "      <th>1577</th>\n",
       "      <td>It 's a movie forged in the fires of Chick Flick Hell .</td>\n",
       "      <td>Negative</td>\n",
       "      <td>Neutral</td>\n",
       "    </tr>\n",
       "    <tr>\n",
       "      <th>1409</th>\n",
       "      <td>Still , I thought it could have been more .</td>\n",
       "      <td>Negative</td>\n",
       "      <td>Neutral</td>\n",
       "    </tr>\n",
       "    <tr>\n",
       "      <th>1887</th>\n",
       "      <td>Even those of a single digit age will be able to recognize that this story is too goofy ... even for Disney .</td>\n",
       "      <td>Negative</td>\n",
       "      <td>Neutral</td>\n",
       "    </tr>\n",
       "    <tr>\n",
       "      <th>1104</th>\n",
       "      <td>It would be hard to think of a recent movie that has worked this hard to achieve this little fun .</td>\n",
       "      <td>Very Negative</td>\n",
       "      <td>Neutral</td>\n",
       "    </tr>\n",
       "    <tr>\n",
       "      <th>199</th>\n",
       "      <td>If this is satire , it 's the smug and self-congratulatory kind that lets the audience completely off the hook .</td>\n",
       "      <td>Negative</td>\n",
       "      <td>Neutral</td>\n",
       "    </tr>\n",
       "  </tbody>\n",
       "</table>\n",
       "</div>"
      ],
      "text/plain": [
       "                                                                                                                                                                                                                               Sentence      Sentiment Predicted_Sentiment\n",
       "28                                                              Very special effects , brilliantly bold colors and heightened reality ca n't hide the giant Achilles ' heel in `` Stuart Little 2 `` : There 's just no story , folks .       Negative             Neutral\n",
       "1372                                                                                                                                                                                    About as cutting-edge as Pet Rock : The Movie .  Very Negative             Neutral\n",
       "2981                                                                                                                   So few movies explore religion that it 's disappointing to see one reduce it to an idea that fits in a sampler .       Negative             Neutral\n",
       "3031                                                                                                                                                                                                                 Is this progress ?       Negative             Neutral\n",
       "2503                                                                                                                                                                                  But what are adults doing in the theater at all ?       Negative             Neutral\n",
       "2949                                                                            You really have to wonder how on earth anyone , anywhere could have thought they 'd make audiences guffaw with a script as utterly diabolical as this .  Very Negative             Neutral\n",
       "2721                                                                                                                                                               Credibility levels are low and character development a non-starter .  Very Negative             Neutral\n",
       "2722                                                                                                       The experience of going to a film festival is a rewarding one ; the experiencing of sampling one through this movie is not .  Very Negative            Positive\n",
       "2333                                                                                                                                               It takes talent to make a lifeless movie about the most heinous man who ever lived .       Negative             Neutral\n",
       "1471                                                                                                                                                                                                You 've seen them a million times .       Negative             Neutral\n",
       "580                                                                                                                                                         Looks like a high school film project completed the day before it was due .  Very Negative             Neutral\n",
       "2443                                                                                                                                                                             Thirty years ago , it would have been groundbreaking .       Negative             Neutral\n",
       "432                                                                                                                                                                                        At the bottom rung of the series ' entries .       Negative             Neutral\n",
       "273                                                                             It takes a strange kind of laziness to waste the talents of Robert Forster , Anne Meara , Eugene Levy , and Reginald VelJohnson all in the same movie .  Very Negative             Neutral\n",
       "2729                                                               Its well of thorn and vinegar ( and simple humanity ) has long been plundered by similar works featuring the insight and punch this picture so conspicuously lacks .       Negative            Positive\n",
       "1957  It 's inoffensive , cheerful , built to inspire the young people , set to an unending soundtrack of beach party pop numbers and aside from its remarkable camerawork and awesome scenery , it 's about as exciting as a sunburn .       Negative            Positive\n",
       "1500                                                                                                                     While Super Troopers is above Academy standards , its quintet of writers could still use some more schooling .       Negative             Neutral\n",
       "504                                                                                                                                 I 've always dreamed of attending Cannes , but after seeing this film , it 's not that big a deal .       Negative             Neutral\n",
       "241                                                                                              If you collected all the moments of coherent dialogue , they still would n't add up to the time required to boil a four - minute egg .       Negative             Neutral\n",
       "3204                                                                                                                                                               A compendium of Solondz 's own worst instincts in under 90 minutes .       Negative             Neutral\n",
       "1577                                                                                                                                                                            It 's a movie forged in the fires of Chick Flick Hell .       Negative             Neutral\n",
       "1409                                                                                                                                                                                        Still , I thought it could have been more .       Negative             Neutral\n",
       "1887                                                                                                                      Even those of a single digit age will be able to recognize that this story is too goofy ... even for Disney .       Negative             Neutral\n",
       "1104                                                                                                                                 It would be hard to think of a recent movie that has worked this hard to achieve this little fun .  Very Negative             Neutral\n",
       "199                                                                                                                    If this is satire , it 's the smug and self-congratulatory kind that lets the audience completely off the hook .       Negative             Neutral"
      ]
     },
     "execution_count": 121,
     "metadata": {
      "tags": []
     },
     "output_type": "execute_result"
    }
   ],
   "source": [
    "df_test_false_positives =  df_valid.query('Sentiment in [\"Negative\",\"Very Negative\"] and Predicted_Sentiment in [\"Positive\",\"Very Positive\",\"Neutral\"]')\n",
    "df_test_false_positives[['Sentence','Sentiment','Predicted_Sentiment']].sample(25)\n"
   ]
  },
  {
   "cell_type": "code",
   "execution_count": 122,
   "id": "fvGX_BeG28TI",
   "metadata": {
    "colab": {
     "base_uri": "https://localhost:8080/",
     "height": 634
    },
    "id": "fvGX_BeG28TI",
    "outputId": "be39732d-ed95-4a41-d8e6-eeddcbd1e9b7"
   },
   "outputs": [
    {
     "data": {
      "image/png": "[encoded data removed]",
      "text/plain": [
       "<Figure size 720x720 with 2 Axes>"
      ]
     },
     "metadata": {
      "needs_background": "light",
      "tags": []
     },
     "output_type": "display_data"
    }
   ],
   "source": [
    "\n",
    "from sklearn.metrics import confusion_matrix\n",
    "cm = confusion_matrix(df_valid['Label'].values, df_valid['Predicted_Label'].values)\n",
    "\n",
    "import seaborn as sns\n",
    "import matplotlib.pyplot as plt     \n",
    "\n",
    "\n",
    "font = {'font.size': 14}\n",
    "plt.rcParams.update(font)\n",
    "plt.figure(figsize=(10, 10))\n",
    "ax= plt.subplot()\n",
    "sns.heatmap(cm, annot=True, fmt='g', ax=ax);  #annot=True to annotate cells, ftm='g' to disable scientific notation\n",
    "\n",
    "# labels, title and ticks\n",
    "ax.set_xlabel('Predicted labels');ax.set_ylabel('True labels'); \n",
    "ax.set_title('Confusion Matrix'); \n",
    "ax.xaxis.set_ticklabels(list(categories.values())); ax.yaxis.set_ticklabels(list(categories.values())[::-1]);\n",
    "\n"
   ]
  },
  {
   "cell_type": "code",
   "execution_count": 123,
   "id": "rZRR5Kxo6gBl",
   "metadata": {
    "colab": {
     "base_uri": "https://localhost:8080/"
    },
    "id": "rZRR5Kxo6gBl",
    "outputId": "bb3ece39-02be-49c3-cc4e-84d80f9fbb56"
   },
   "outputs": [
    {
     "data": {
      "text/plain": [
       "1    922\n",
       "3    789\n",
       "2    618\n",
       "4    564\n",
       "0    418\n",
       "Name: Label, dtype: int64"
      ]
     },
     "execution_count": 123,
     "metadata": {
      "tags": []
     },
     "output_type": "execute_result"
    }
   ],
   "source": [
    "df_valid.Label.value_counts()"
   ]
  },
  {
   "cell_type": "code",
   "execution_count": null,
   "id": "xCpyUVs-7o62",
   "metadata": {
    "id": "xCpyUVs-7o62"
   },
   "outputs": [],
   "source": []
  }
 ],
 "metadata": {
  "accelerator": "GPU",
  "colab": {
   "name": "SST5-model-training.ipynb",
   "provenance": []
  },
  "kernelspec": {
   "display_name": "Python 3",
   "language": "python",
   "name": "python3"
  },
  "language_info": {
   "codemirror_mode": {
    "name": "ipython",
    "version": 3
   },
   "file_extension": ".py",
   "mimetype": "text/x-python",
   "name": "python",
   "nbconvert_exporter": "python",
   "pygments_lexer": "ipython3",
   "version": "3.7.9"
  }
 },
 "nbformat": 4,
 "nbformat_minor": 5
}
