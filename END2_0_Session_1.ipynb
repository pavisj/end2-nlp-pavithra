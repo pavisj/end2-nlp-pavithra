{
  "nbformat": 4,
  "nbformat_minor": 0,
  "metadata": {
    "colab": {
      "name": "END2.0 Session 1.ipynb",
      "provenance": []
    },
    "kernelspec": {
      "name": "python3",
      "display_name": "Python 3"
    },
    "language_info": {
      "name": "python"
    }
  },
  "cells": [
    {
      "cell_type": "code",
      "metadata": {
        "colab": {
          "base_uri": "https://localhost:8080/"
        },
        "id": "GC_6PeobwwkH",
        "outputId": "2a83b8ed-674a-4928-8c99-9c52e44d8242"
      },
      "source": [
        "import torch\n",
        "from torch.autograd import Variable\n",
        "import torch.nn as nn\n",
        "import torch.nn.functional as F\n",
        "import torch.optim as optim\n",
        "import numpy as np\n",
        "import matplotlib.pyplot as plt\n",
        "%matplotlib inline\n",
        "torch.manual_seed(2)"
      ],
      "execution_count": 1,
      "outputs": [
        {
          "output_type": "execute_result",
          "data": {
            "text/plain": [
              "<torch._C.Generator at 0x7f1058ae78d0>"
            ]
          },
          "metadata": {
            "tags": []
          },
          "execution_count": 1
        }
      ]
    },
    {
      "cell_type": "code",
      "metadata": {
        "id": "bL64bMTkw2GP"
      },
      "source": [
        "X = torch.Tensor([[0,0], [0,1], [1,0], [1,1]])\n",
        "Y = torch.Tensor([0, 1, 1, 0]).view(-1,1)"
      ],
      "execution_count": 2,
      "outputs": []
    },
    {
      "cell_type": "code",
      "metadata": {
        "id": "aC82kEAIw3Wf"
      },
      "source": [
        "class XOR(nn.Module):\n",
        "    def __init__(self, input_dim = 2, output_dim=1):\n",
        "        super(XOR, self).__init__()\n",
        "        self.lin1 = nn.Linear(input_dim, 5,bias=True)\n",
        "        self.lin2 = nn.Linear(5,4,bias=True)\n",
        "        self.lin3 = nn.Linear(4, output_dim, bias=True)\n",
        "        \n",
        "    \n",
        "    def forward(self, x):\n",
        "        x = self.lin1(x)\n",
        "        x = F.tanh(x)\n",
        "        x = self.lin2(x)\n",
        "        x = F.tanh(x)\n",
        "        x = self.lin3(x)\n",
        "        #x = F.tanh(x)\n",
        "        return x"
      ],
      "execution_count": 79,
      "outputs": []
    },
    {
      "cell_type": "code",
      "metadata": {
        "colab": {
          "base_uri": "https://localhost:8080/"
        },
        "id": "8gQIQExYw65K",
        "outputId": "daaf1c8d-6bc3-4959-e0db-26bbce94fb27"
      },
      "source": [
        "model = XOR()\n",
        "print(model)\n",
        "from torchsummary import summary\n",
        "summary(model, (2,2))"
      ],
      "execution_count": 80,
      "outputs": [
        {
          "output_type": "stream",
          "text": [
            "XOR(\n",
            "  (lin1): Linear(in_features=2, out_features=5, bias=True)\n",
            "  (lin2): Linear(in_features=5, out_features=4, bias=True)\n",
            "  (lin3): Linear(in_features=4, out_features=1, bias=True)\n",
            ")\n",
            "----------------------------------------------------------------\n",
            "        Layer (type)               Output Shape         Param #\n",
            "================================================================\n",
            "            Linear-1                 [-1, 2, 5]              15\n",
            "            Linear-2                 [-1, 2, 4]              24\n",
            "            Linear-3                 [-1, 2, 1]               5\n",
            "================================================================\n",
            "Total params: 44\n",
            "Trainable params: 44\n",
            "Non-trainable params: 0\n",
            "----------------------------------------------------------------\n",
            "Input size (MB): 0.00\n",
            "Forward/backward pass size (MB): 0.00\n",
            "Params size (MB): 0.00\n",
            "Estimated Total Size (MB): 0.00\n",
            "----------------------------------------------------------------\n"
          ],
          "name": "stdout"
        },
        {
          "output_type": "stream",
          "text": [
            "/usr/local/lib/python3.7/dist-packages/torch/nn/functional.py:1698: UserWarning: nn.functional.tanh is deprecated. Use torch.tanh instead.\n",
            "  warnings.warn(\"nn.functional.tanh is deprecated. Use torch.tanh instead.\")\n"
          ],
          "name": "stderr"
        }
      ]
    },
    {
      "cell_type": "code",
      "metadata": {
        "id": "yeotEq19x6XF"
      },
      "source": [
        ""
      ],
      "execution_count": 80,
      "outputs": []
    },
    {
      "cell_type": "code",
      "metadata": {
        "id": "WrD_sNzLx78e"
      },
      "source": [
        "loss_func = nn.L1Loss()"
      ],
      "execution_count": 81,
      "outputs": []
    },
    {
      "cell_type": "code",
      "metadata": {
        "id": "-zvbrMd2x_lA"
      },
      "source": [
        "optimizer = optim.SGD(model.parameters(), lr=0.02, momentum=0.9)\n"
      ],
      "execution_count": 82,
      "outputs": []
    },
    {
      "cell_type": "code",
      "metadata": {
        "colab": {
          "base_uri": "https://localhost:8080/"
        },
        "id": "q7tWa3D7yA5X",
        "outputId": "4ad0f8fe-326a-45f3-ce83-46a54a7f409e"
      },
      "source": [
        "epochs = 2001\n",
        "steps = X.size(0)\n",
        "for i in range(epochs):\n",
        "    for j in range(steps):\n",
        "        data_point = np.random.randint(X.size(0))\n",
        "        x_var = Variable(X[data_point], requires_grad=False)\n",
        "        y_var = Variable(Y[data_point], requires_grad=False)\n",
        "        \n",
        "        optimizer.zero_grad()\n",
        "        y_hat = model(x_var)\n",
        "        loss = loss_func.forward(y_hat, y_var)\n",
        "        loss.backward()\n",
        "        optimizer.step()\n",
        "        \n",
        "    if i % 50 == 0:\n",
        "        print( \"Epoch: {0}, Loss: {1}, \".format(i, loss.data.numpy()))"
      ],
      "execution_count": 83,
      "outputs": [
        {
          "output_type": "stream",
          "text": [
            "/usr/local/lib/python3.7/dist-packages/torch/nn/functional.py:1698: UserWarning: nn.functional.tanh is deprecated. Use torch.tanh instead.\n",
            "  warnings.warn(\"nn.functional.tanh is deprecated. Use torch.tanh instead.\")\n"
          ],
          "name": "stderr"
        },
        {
          "output_type": "stream",
          "text": [
            "Epoch: 0, Loss: 0.5623424053192139, \n",
            "Epoch: 50, Loss: 0.8110668659210205, \n",
            "Epoch: 100, Loss: 0.029204607009887695, \n",
            "Epoch: 150, Loss: 0.2904195785522461, \n",
            "Epoch: 200, Loss: 0.06362247467041016, \n",
            "Epoch: 250, Loss: 0.3349398374557495, \n",
            "Epoch: 300, Loss: 0.04324355721473694, \n",
            "Epoch: 350, Loss: 0.24952688813209534, \n",
            "Epoch: 400, Loss: 0.142530620098114, \n",
            "Epoch: 450, Loss: 0.010766863822937012, \n",
            "Epoch: 500, Loss: 0.06908905506134033, \n",
            "Epoch: 550, Loss: 0.0034069716930389404, \n",
            "Epoch: 600, Loss: 0.010453283786773682, \n",
            "Epoch: 650, Loss: 0.10358434915542603, \n",
            "Epoch: 700, Loss: 0.10159778594970703, \n",
            "Epoch: 750, Loss: 0.08730494976043701, \n",
            "Epoch: 800, Loss: 0.1569218635559082, \n",
            "Epoch: 850, Loss: 0.004174947738647461, \n",
            "Epoch: 900, Loss: 0.057805538177490234, \n",
            "Epoch: 950, Loss: 0.11423063278198242, \n",
            "Epoch: 1000, Loss: 0.07420182228088379, \n",
            "Epoch: 1050, Loss: 0.06661790609359741, \n",
            "Epoch: 1100, Loss: 0.04859435558319092, \n",
            "Epoch: 1150, Loss: 0.17531722784042358, \n",
            "Epoch: 1200, Loss: 0.041124582290649414, \n",
            "Epoch: 1250, Loss: 0.2691612243652344, \n",
            "Epoch: 1300, Loss: 0.19372117519378662, \n",
            "Epoch: 1350, Loss: 0.06488510966300964, \n",
            "Epoch: 1400, Loss: 0.02772390842437744, \n",
            "Epoch: 1450, Loss: 0.05551111698150635, \n",
            "Epoch: 1500, Loss: 0.022727608680725098, \n",
            "Epoch: 1550, Loss: 0.16298305988311768, \n",
            "Epoch: 1600, Loss: 0.19681906700134277, \n",
            "Epoch: 1650, Loss: 0.17517566680908203, \n",
            "Epoch: 1700, Loss: 0.03141987323760986, \n",
            "Epoch: 1750, Loss: 0.06820705533027649, \n",
            "Epoch: 1800, Loss: 0.15363454818725586, \n",
            "Epoch: 1850, Loss: 0.022064030170440674, \n",
            "Epoch: 1900, Loss: 0.08098068833351135, \n",
            "Epoch: 1950, Loss: 0.1617199182510376, \n",
            "Epoch: 2000, Loss: 0.09649336338043213, \n"
          ],
          "name": "stdout"
        }
      ]
    },
    {
      "cell_type": "code",
      "metadata": {
        "id": "QV0dIdveyCRi"
      },
      "source": [
        ""
      ],
      "execution_count": null,
      "outputs": []
    }
  ]
}