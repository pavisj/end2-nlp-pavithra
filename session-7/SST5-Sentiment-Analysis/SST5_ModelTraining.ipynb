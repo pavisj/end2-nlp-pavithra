{
 "cells": [
  {
   "cell_type": "code",
   "execution_count": 2,
   "id": "rubber-equity",
   "metadata": {
    "colab": {
     "base_uri": "https://localhost:8080/"
    },
    "id": "terminal-admission",
    "outputId": "8206cc2f-687d-464c-84ce-bf0ada1346d7"
   },
   "outputs": [
    {
     "data": {
      "text/plain": [
       "<torch._C.Generator at 0x7f85cc08e3a8>"
      ]
     },
     "execution_count": 2,
     "metadata": {},
     "output_type": "execute_result"
    }
   ],
   "source": [
    "# Import Library\n",
    "#!pip install torchtext spacy\n",
    "import random\n",
    "import torch, torchtext\n",
    "\n",
    "from torchtext.legacy import data\n",
    "\n",
    "# Manual Seed\n",
    "SEED = 43\n",
    "torch.manual_seed(SEED)"
   ]
  },
  {
   "cell_type": "code",
   "execution_count": 100,
   "id": "outer-church",
   "metadata": {
    "colab": {
     "base_uri": "https://localhost:8080/"
    },
    "id": "southeast-outreach",
    "outputId": "7a46f0ca-8625-4ae8-84dc-820a6272b9a0"
   },
   "outputs": [
    {
     "name": "stdout",
     "output_type": "stream",
     "text": [
      "Length of Train dataset:  8117\n",
      "Length of Test dataset:  3168\n"
     ]
    }
   ],
   "source": [
    "import pandas as pd\n",
    "df_train = pd.read_csv('dataset/train.csv')\n",
    "print(\"Length of Train dataset: \",len(df_train))\n",
    "df_test= pd.read_csv('dataset/test.csv')\n",
    "print(\"Length of Test dataset: \",len(df_test))"
   ]
  },
  {
   "cell_type": "code",
   "execution_count": 101,
   "id": "involved-finder",
   "metadata": {
    "id": "removed-hours"
   },
   "outputs": [],
   "source": [
    "df_train[\"sentence\"]=df_train[\"sentence\"].astype(str)\n",
    "df_train[\"sentiment_cls_value\"] = df_train[\"sentiment_cls_value\"].astype(int)\n",
    "df_test[\"sentence\"]=df_test[\"sentence\"].astype(str)\n",
    "df_test[\"sentiment_cls_value\"] = df_test[\"sentiment_cls_value\"].astype(int)"
   ]
  },
  {
   "cell_type": "code",
   "execution_count": 102,
   "id": "running-spoke",
   "metadata": {
    "colab": {
     "base_uri": "https://localhost:8080/"
    },
    "id": "fourth-newspaper",
    "outputId": "01911064-4fc7-46aa-9f23-267dc6e8dcb8",
    "scrolled": true,
    "tags": []
   },
   "outputs": [
    {
     "name": "stdout",
     "output_type": "stream",
     "text": [
      "Collecting en-core-web-sm==3.0.0\n",
      "  Downloading https://github.com/explosion/spacy-models/releases/download/en_core_web_sm-3.0.0/en_core_web_sm-3.0.0-py3-none-any.whl (13.7 MB)\n",
      "\u001b[K     |████████████████████████████████| 13.7 MB 32.4 MB/s eta 0:00:01\n",
      "\u001b[?25hRequirement already satisfied: spacy<3.1.0,>=3.0.0 in /home/ubuntu/anaconda3/envs/pytorch_p36/lib/python3.6/site-packages (from en-core-web-sm==3.0.0) (3.0.3)\n",
      "Requirement already satisfied: pydantic<1.8.0,>=1.7.1 in /home/ubuntu/anaconda3/envs/pytorch_p36/lib/python3.6/site-packages (from spacy<3.1.0,>=3.0.0->en-core-web-sm==3.0.0) (1.7.4)\n",
      "Requirement already satisfied: packaging>=20.0 in /home/ubuntu/anaconda3/envs/pytorch_p36/lib/python3.6/site-packages (from spacy<3.1.0,>=3.0.0->en-core-web-sm==3.0.0) (20.9)\n",
      "Requirement already satisfied: cymem<2.1.0,>=2.0.2 in /home/ubuntu/anaconda3/envs/pytorch_p36/lib/python3.6/site-packages (from spacy<3.1.0,>=3.0.0->en-core-web-sm==3.0.0) (2.0.5)\n",
      "Requirement already satisfied: tqdm<5.0.0,>=4.38.0 in /home/ubuntu/anaconda3/envs/pytorch_p36/lib/python3.6/site-packages (from spacy<3.1.0,>=3.0.0->en-core-web-sm==3.0.0) (4.57.0)\n",
      "Requirement already satisfied: thinc<8.1.0,>=8.0.0 in /home/ubuntu/anaconda3/envs/pytorch_p36/lib/python3.6/site-packages (from spacy<3.1.0,>=3.0.0->en-core-web-sm==3.0.0) (8.0.1)\n",
      "Requirement already satisfied: requests<3.0.0,>=2.13.0 in /home/ubuntu/anaconda3/envs/pytorch_p36/lib/python3.6/site-packages (from spacy<3.1.0,>=3.0.0->en-core-web-sm==3.0.0) (2.25.1)\n",
      "Requirement already satisfied: catalogue<2.1.0,>=2.0.1 in /home/ubuntu/anaconda3/envs/pytorch_p36/lib/python3.6/site-packages (from spacy<3.1.0,>=3.0.0->en-core-web-sm==3.0.0) (2.0.1)\n",
      "Requirement already satisfied: importlib-metadata>=0.20 in /home/ubuntu/anaconda3/envs/pytorch_p36/lib/python3.6/site-packages (from spacy<3.1.0,>=3.0.0->en-core-web-sm==3.0.0) (3.7.0)\n",
      "Requirement already satisfied: spacy-legacy<3.1.0,>=3.0.0 in /home/ubuntu/anaconda3/envs/pytorch_p36/lib/python3.6/site-packages (from spacy<3.1.0,>=3.0.0->en-core-web-sm==3.0.0) (3.0.1)\n",
      "Requirement already satisfied: blis<0.8.0,>=0.4.0 in /home/ubuntu/anaconda3/envs/pytorch_p36/lib/python3.6/site-packages (from spacy<3.1.0,>=3.0.0->en-core-web-sm==3.0.0) (0.7.4)\n",
      "Requirement already satisfied: typer<0.4.0,>=0.3.0 in /home/ubuntu/anaconda3/envs/pytorch_p36/lib/python3.6/site-packages (from spacy<3.1.0,>=3.0.0->en-core-web-sm==3.0.0) (0.3.2)\n",
      "Requirement already satisfied: pathy in /home/ubuntu/anaconda3/envs/pytorch_p36/lib/python3.6/site-packages (from spacy<3.1.0,>=3.0.0->en-core-web-sm==3.0.0) (0.4.0)\n",
      "Requirement already satisfied: preshed<3.1.0,>=3.0.2 in /home/ubuntu/anaconda3/envs/pytorch_p36/lib/python3.6/site-packages (from spacy<3.1.0,>=3.0.0->en-core-web-sm==3.0.0) (3.0.5)\n",
      "Requirement already satisfied: typing-extensions>=3.7.4 in /home/ubuntu/anaconda3/envs/pytorch_p36/lib/python3.6/site-packages (from spacy<3.1.0,>=3.0.0->en-core-web-sm==3.0.0) (3.7.4.3)\n",
      "Requirement already satisfied: numpy>=1.15.0 in /home/ubuntu/anaconda3/envs/pytorch_p36/lib/python3.6/site-packages (from spacy<3.1.0,>=3.0.0->en-core-web-sm==3.0.0) (1.19.5)\n",
      "Requirement already satisfied: murmurhash<1.1.0,>=0.28.0 in /home/ubuntu/anaconda3/envs/pytorch_p36/lib/python3.6/site-packages (from spacy<3.1.0,>=3.0.0->en-core-web-sm==3.0.0) (1.0.5)\n",
      "Requirement already satisfied: jinja2 in /home/ubuntu/anaconda3/envs/pytorch_p36/lib/python3.6/site-packages (from spacy<3.1.0,>=3.0.0->en-core-web-sm==3.0.0) (2.11.3)\n",
      "Requirement already satisfied: setuptools in /home/ubuntu/anaconda3/envs/pytorch_p36/lib/python3.6/site-packages (from spacy<3.1.0,>=3.0.0->en-core-web-sm==3.0.0) (49.6.0.post20210108)\n",
      "Requirement already satisfied: wasabi<1.1.0,>=0.8.1 in /home/ubuntu/anaconda3/envs/pytorch_p36/lib/python3.6/site-packages (from spacy<3.1.0,>=3.0.0->en-core-web-sm==3.0.0) (0.8.2)\n",
      "Requirement already satisfied: srsly<3.0.0,>=2.4.0 in /home/ubuntu/anaconda3/envs/pytorch_p36/lib/python3.6/site-packages (from spacy<3.1.0,>=3.0.0->en-core-web-sm==3.0.0) (2.4.0)\n",
      "Requirement already satisfied: zipp>=0.5 in /home/ubuntu/anaconda3/envs/pytorch_p36/lib/python3.6/site-packages (from importlib-metadata>=0.20->spacy<3.1.0,>=3.0.0->en-core-web-sm==3.0.0) (3.4.0)\n",
      "Requirement already satisfied: pyparsing>=2.0.2 in /home/ubuntu/anaconda3/envs/pytorch_p36/lib/python3.6/site-packages (from packaging>=20.0->spacy<3.1.0,>=3.0.0->en-core-web-sm==3.0.0) (2.4.7)\n",
      "Requirement already satisfied: dataclasses>=0.6 in /home/ubuntu/anaconda3/envs/pytorch_p36/lib/python3.6/site-packages (from pydantic<1.8.0,>=1.7.1->spacy<3.1.0,>=3.0.0->en-core-web-sm==3.0.0) (0.8)\n",
      "Requirement already satisfied: urllib3<1.27,>=1.21.1 in /home/ubuntu/anaconda3/envs/pytorch_p36/lib/python3.6/site-packages (from requests<3.0.0,>=2.13.0->spacy<3.1.0,>=3.0.0->en-core-web-sm==3.0.0) (1.26.5)\n",
      "Requirement already satisfied: idna<3,>=2.5 in /home/ubuntu/anaconda3/envs/pytorch_p36/lib/python3.6/site-packages (from requests<3.0.0,>=2.13.0->spacy<3.1.0,>=3.0.0->en-core-web-sm==3.0.0) (2.10)\n",
      "Requirement already satisfied: certifi>=2017.4.17 in /home/ubuntu/anaconda3/envs/pytorch_p36/lib/python3.6/site-packages (from requests<3.0.0,>=2.13.0->spacy<3.1.0,>=3.0.0->en-core-web-sm==3.0.0) (2020.12.5)\n",
      "Requirement already satisfied: chardet<5,>=3.0.2 in /home/ubuntu/anaconda3/envs/pytorch_p36/lib/python3.6/site-packages (from requests<3.0.0,>=2.13.0->spacy<3.1.0,>=3.0.0->en-core-web-sm==3.0.0) (3.0.4)\n",
      "Requirement already satisfied: contextvars<3,>=2.4 in /home/ubuntu/anaconda3/envs/pytorch_p36/lib/python3.6/site-packages (from thinc<8.1.0,>=8.0.0->spacy<3.1.0,>=3.0.0->en-core-web-sm==3.0.0) (2.4)\n",
      "Requirement already satisfied: immutables>=0.9 in /home/ubuntu/anaconda3/envs/pytorch_p36/lib/python3.6/site-packages (from contextvars<3,>=2.4->thinc<8.1.0,>=8.0.0->spacy<3.1.0,>=3.0.0->en-core-web-sm==3.0.0) (0.15)\n",
      "Requirement already satisfied: click<7.2.0,>=7.1.1 in /home/ubuntu/anaconda3/envs/pytorch_p36/lib/python3.6/site-packages (from typer<0.4.0,>=0.3.0->spacy<3.1.0,>=3.0.0->en-core-web-sm==3.0.0) (7.1.2)\n",
      "Requirement already satisfied: MarkupSafe>=0.23 in /home/ubuntu/anaconda3/envs/pytorch_p36/lib/python3.6/site-packages (from jinja2->spacy<3.1.0,>=3.0.0->en-core-web-sm==3.0.0) (1.1.1)\n",
      "Requirement already satisfied: smart-open<4.0.0,>=2.2.0 in /home/ubuntu/anaconda3/envs/pytorch_p36/lib/python3.6/site-packages (from pathy->spacy<3.1.0,>=3.0.0->en-core-web-sm==3.0.0) (2.2.1)\n",
      "Requirement already satisfied: boto3 in /home/ubuntu/anaconda3/envs/pytorch_p36/lib/python3.6/site-packages (from smart-open<4.0.0,>=2.2.0->pathy->spacy<3.1.0,>=3.0.0->en-core-web-sm==3.0.0) (1.17.15)\n",
      "Requirement already satisfied: botocore<1.21.0,>=1.20.15 in /home/ubuntu/anaconda3/envs/pytorch_p36/lib/python3.6/site-packages (from boto3->smart-open<4.0.0,>=2.2.0->pathy->spacy<3.1.0,>=3.0.0->en-core-web-sm==3.0.0) (1.20.49)\n",
      "Requirement already satisfied: s3transfer<0.4.0,>=0.3.0 in /home/ubuntu/anaconda3/envs/pytorch_p36/lib/python3.6/site-packages (from boto3->smart-open<4.0.0,>=2.2.0->pathy->spacy<3.1.0,>=3.0.0->en-core-web-sm==3.0.0) (0.3.4)\n",
      "Requirement already satisfied: jmespath<1.0.0,>=0.7.1 in /home/ubuntu/anaconda3/envs/pytorch_p36/lib/python3.6/site-packages (from boto3->smart-open<4.0.0,>=2.2.0->pathy->spacy<3.1.0,>=3.0.0->en-core-web-sm==3.0.0) (0.10.0)\n",
      "Requirement already satisfied: python-dateutil<3.0.0,>=2.1 in /home/ubuntu/anaconda3/envs/pytorch_p36/lib/python3.6/site-packages (from botocore<1.21.0,>=1.20.15->boto3->smart-open<4.0.0,>=2.2.0->pathy->spacy<3.1.0,>=3.0.0->en-core-web-sm==3.0.0) (2.8.1)\n",
      "Requirement already satisfied: six>=1.5 in /home/ubuntu/anaconda3/envs/pytorch_p36/lib/python3.6/site-packages (from python-dateutil<3.0.0,>=2.1->botocore<1.21.0,>=1.20.15->boto3->smart-open<4.0.0,>=2.2.0->pathy->spacy<3.1.0,>=3.0.0->en-core-web-sm==3.0.0) (1.15.0)\n",
      "\u001b[38;5;2m✔ Download and installation successful\u001b[0m\n",
      "You can now load the package via spacy.load('en_core_web_sm')\n"
     ]
    }
   ],
   "source": [
    "!python -m spacy download en_core_web_sm"
   ]
  },
  {
   "cell_type": "code",
   "execution_count": 104,
   "id": "romantic-abraham",
   "metadata": {
    "id": "behavioral-distribution"
   },
   "outputs": [
    {
     "name": "stderr",
     "output_type": "stream",
     "text": [
      "/home/ubuntu/anaconda3/envs/pytorch_p36/lib/python3.6/site-packages/torchtext/data/utils.py:123: UserWarning: Spacy model \"en\" could not be loaded, trying \"en_core_web_sm\" instead\n",
      "  warnings.warn(f'Spacy model \"{language}\" could not be loaded, trying \"{OLD_MODEL_SHORTCUTS[language]}\" instead')\n"
     ]
    }
   ],
   "source": [
    "Sentence = data.Field(sequential = True, tokenize = 'spacy', tokenizer_language= \"en_core_web_sm\",batch_first =True, include_lengths=True)\n",
    "Label = data.LabelField(tokenize='spacy', is_target=True, batch_first =True, sequential =False)"
   ]
  },
  {
   "cell_type": "code",
   "execution_count": 105,
   "id": "incident-knowing",
   "metadata": {
    "id": "contained-terry"
   },
   "outputs": [],
   "source": [
    "fields = [('sentence', Sentence),('sentiment_cls_value',Label)]"
   ]
  },
  {
   "cell_type": "code",
   "execution_count": 106,
   "id": "enormous-flash",
   "metadata": {
    "id": "liked-packing"
   },
   "outputs": [],
   "source": [
    "example = [data.Example.fromlist([df_train.sentence[i],df_train.sentiment_cls_value[i]], fields) for i in range(df_train.shape[0])] \n",
    "train_dataset = data.Dataset(example, fields)\n",
    "example = [data.Example.fromlist([df_test.sentence[i],df_test.sentiment_cls_value[i]], fields) for i in range(df_test.shape[0])] \n",
    "test_dataset = data.Dataset(example, fields)"
   ]
  },
  {
   "cell_type": "code",
   "execution_count": 107,
   "id": "raising-damage",
   "metadata": {
    "colab": {
     "base_uri": "https://localhost:8080/"
    },
    "id": "cognitive-freeze",
    "outputId": "dfd312d8-9cc8-4b9a-9c0f-0a6bd00dd9ef"
   },
   "outputs": [],
   "source": [
    "import os, pickle\n",
    "\n",
    "Sentence.build_vocab(train_dataset, max_size = 25000, vectors = \"glove.6B.300d\")\n",
    "Label.build_vocab(train_dataset)"
   ]
  },
  {
   "cell_type": "code",
   "execution_count": 108,
   "id": "charitable-wrapping",
   "metadata": {
    "colab": {
     "base_uri": "https://localhost:8080/"
    },
    "id": "african-concrete",
    "outputId": "5447b2da-82a9-4f3f-9ece-98b6105afe7b"
   },
   "outputs": [
    {
     "name": "stdout",
     "output_type": "stream",
     "text": [
      "Size of input vocab :  16494\n",
      "Size of label vocab :  5\n",
      "Top 10 words appreared repeatedly : [('.', 7635), (',', 6706), ('the', 5714), ('of', 4170), ('and', 4153), ('a', 4147), ('to', 2844), ('-', 2624), ('is', 2403), (\"'s\", 2353)]\n",
      "Labels :  defaultdict(None, {3: 0, 1: 1, 2: 2, 4: 3, 0: 4})\n"
     ]
    }
   ],
   "source": [
    "print('Size of input vocab : ', len(Sentence.vocab))\n",
    "print('Size of label vocab : ', len(Label.vocab))\n",
    "print('Top 10 words appreared repeatedly :', list(Sentence.vocab.freqs.most_common(10)))\n",
    "print('Labels : ', Label.vocab.stoi)"
   ]
  },
  {
   "cell_type": "code",
   "execution_count": 109,
   "id": "instrumental-korean",
   "metadata": {
    "id": "tamil-mobile"
   },
   "outputs": [],
   "source": [
    "import os, pickle\n",
    "with open('pickle_files/train_tokenizer.pkl', 'wb') as tokens: \n",
    "    pickle.dump(Sentence.vocab.stoi, tokens)"
   ]
  },
  {
   "cell_type": "code",
   "execution_count": 110,
   "id": "statistical-forwarding",
   "metadata": {
    "id": "shaped-astronomy"
   },
   "outputs": [],
   "source": [
    "device = torch.device(\"cuda\" if torch.cuda.is_available() else \"cpu\")\n",
    "train_iterator = data.BucketIterator(train_dataset, batch_size = 32, \n",
    "                                                            sort_key = lambda x: len(x.sentence),\n",
    "                                                            sort_within_batch=True, device = device)\n"
   ]
  },
  {
   "cell_type": "code",
   "execution_count": 112,
   "id": "vanilla-might",
   "metadata": {
    "colab": {
     "base_uri": "https://localhost:8080/"
    },
    "id": "forward-saver",
    "outputId": "fd9c9899-c107-4ba2-d502-3c3d6866e311"
   },
   "outputs": [
    {
     "name": "stdout",
     "output_type": "stream",
     "text": [
      "Size of input vocab :  10180\n",
      "Size of label vocab :  5\n",
      "Top 10 words appreared repeatedly : [('.', 2995), (',', 2669), ('the', 2254), ('and', 1626), ('a', 1615), ('of', 1605), ('to', 1156), ('-', 1059), ('is', 940), (\"'s\", 938)]\n",
      "Labels :  defaultdict(None, {1: 0, 3: 1, 2: 2, 4: 3, 0: 4})\n"
     ]
    }
   ],
   "source": [
    "Sentence.build_vocab(test_dataset, max_size = 25000, vectors = \"glove.6B.300d\")\n",
    "Label.build_vocab(test_dataset)\n",
    "device = torch.device(\"cuda\" if torch.cuda.is_available() else \"cpu\")\n",
    "test_iterator = data.BucketIterator(test_dataset, batch_size = 32, \n",
    "                                                            sort_key = lambda x: len(x.sentence),\n",
    "                                                            sort_within_batch=True, device = device)\n",
    "\n",
    "with open('pickle_files/test_tokenizer.pkl', 'wb') as tokens: \n",
    "    pickle.dump(Sentence.vocab.stoi, tokens)\n",
    "\n",
    "print('Size of input vocab : ', len(Sentence.vocab))\n",
    "print('Size of label vocab : ', len(Label.vocab))\n",
    "print('Top 10 words appreared repeatedly :', list(Sentence.vocab.freqs.most_common(10)))\n",
    "print('Labels : ', Label.vocab.stoi)"
   ]
  },
  {
   "cell_type": "code",
   "execution_count": 113,
   "id": "statutory-pencil",
   "metadata": {
    "id": "immediate-library"
   },
   "outputs": [],
   "source": [
    "import torch.nn as nn\n",
    "import torch.nn.functional as F\n",
    "\n",
    "class classifier(nn.Module):\n",
    "    \n",
    "    # Define all the layers used in model\n",
    "    def __init__(self, vocab_size, embedding_dim, hidden_dim, output_dim, n_layers, dropout):\n",
    "        \n",
    "        super().__init__()          \n",
    "        \n",
    "        # Embedding layer\n",
    "        self.embedding = nn.Embedding(vocab_size, embedding_dim, padding_idx= pad_idx)\n",
    "        \n",
    "        # LSTM layer\n",
    "        self.encoder = nn.LSTM(embedding_dim, \n",
    "                               hidden_dim, \n",
    "                               num_layers=n_layers, \n",
    "                               dropout=dropout,\n",
    "                               bidirectional=True,\n",
    "                               batch_first=True,\n",
    "                               bias=True)\n",
    "        \n",
    "        # Dense layer\n",
    "        self.fc = nn.Linear(hidden_dim, output_dim)\n",
    "        \n",
    "        self.dropout = nn.Dropout(dropout)\n",
    "        \n",
    "    def forward(self, text, text_lengths):\n",
    "        \n",
    "        # text = [batch size, sent_length]\n",
    "        embedded = self.embedding(text)\n",
    "        # embedded = [batch size, sent_len, emb dim]\n",
    "      \n",
    "        # packed sequence\n",
    "        #packed_embedded = nn.utils.rnn.pack_padded_sequence(embedded, text_lengths.cpu(), batch_first=True)\n",
    "        \n",
    "        packed_output, (hidden, cell) = self.encoder(embedded)\n",
    "        #hidden = [batch size, num layers * num directions,hid dim]\n",
    "        #cell = [batch size, num layers * num directions,hid dim]\n",
    "    \n",
    "        # Hidden = [batch size, hid dim * num directions]\n",
    "        dense_outputs = self.fc(hidden)   \n",
    "        \n",
    "        # Final activation function softmax\n",
    "        output = F.softmax(dense_outputs[0], dim=1)\n",
    "            \n",
    "        return output"
   ]
  },
  {
   "cell_type": "code",
   "execution_count": 114,
   "id": "neutral-crown",
   "metadata": {
    "id": "acoustic-offset"
   },
   "outputs": [],
   "source": [
    "# Define hyperparameters\n",
    "size_of_vocab = len(Sentence.vocab)\n",
    "embedding_dim = 300\n",
    "num_hidden_nodes = 256\n",
    "num_output_nodes = 5\n",
    "num_layers = 5\n",
    "dropout = 0.65\n",
    "pad_idx = Sentence.vocab.stoi[Sentence.pad_token]\n",
    "\n",
    "# Instantiate the model\n",
    "model = classifier(size_of_vocab, embedding_dim, num_hidden_nodes, num_output_nodes, num_layers, dropout = dropout)"
   ]
  },
  {
   "cell_type": "code",
   "execution_count": 115,
   "id": "biblical-approach",
   "metadata": {
    "colab": {
     "base_uri": "https://localhost:8080/"
    },
    "id": "tight-reference",
    "outputId": "f92a06f5-a9bf-4187-a5e9-714e65f35bd8"
   },
   "outputs": [
    {
     "name": "stdout",
     "output_type": "stream",
     "text": [
      "classifier(\n",
      "  (embedding): Embedding(10180, 300, padding_idx=1)\n",
      "  (encoder): LSTM(300, 256, num_layers=5, batch_first=True, dropout=0.65, bidirectional=True)\n",
      "  (fc): Linear(in_features=256, out_features=5, bias=True)\n",
      "  (dropout): Dropout(p=0.65, inplace=False)\n",
      ")\n",
      "The model has 10,505,909 trainable parameters\n"
     ]
    }
   ],
   "source": [
    "print(model)\n",
    "\n",
    "#No. of trainable parameters\n",
    "def count_parameters(model):\n",
    "    return sum(p.numel() for p in model.parameters() if p.requires_grad)\n",
    "    \n",
    "print(f'The model has {count_parameters(model):,} trainable parameters')"
   ]
  },
  {
   "cell_type": "code",
   "execution_count": 116,
   "id": "disturbed-murder",
   "metadata": {
    "colab": {
     "base_uri": "https://localhost:8080/"
    },
    "id": "informed-combine",
    "outputId": "08350eef-d8fe-4459-c947-04d8cde607c3"
   },
   "outputs": [
    {
     "data": {
      "text/plain": [
       "tensor([[ 0.0000,  0.0000,  0.0000,  ...,  0.0000,  0.0000,  0.0000],\n",
       "        [ 0.0000,  0.0000,  0.0000,  ...,  0.0000,  0.0000,  0.0000],\n",
       "        [-0.1256,  0.0136,  0.1031,  ..., -0.3422, -0.0224,  0.1368],\n",
       "        ...,\n",
       "        [ 0.0000,  0.0000,  0.0000,  ...,  0.0000,  0.0000,  0.0000],\n",
       "        [-0.0202, -0.2257,  0.0055,  ...,  0.4262,  0.2258,  0.2486],\n",
       "        [ 0.0206, -0.2081,  0.4568,  ...,  0.4254,  0.2714, -0.1388]])"
      ]
     },
     "execution_count": 116,
     "metadata": {},
     "output_type": "execute_result"
    }
   ],
   "source": [
    "pretrained_embeddings = Sentence.vocab.vectors\n",
    "\n",
    "model.embedding.weight.data.copy_(pretrained_embeddings)"
   ]
  },
  {
   "cell_type": "code",
   "execution_count": 117,
   "id": "preceding-correspondence",
   "metadata": {
    "id": "sealed-yellow"
   },
   "outputs": [],
   "source": [
    "import torch.optim as optim\n",
    "\n",
    "# define optimizer and loss\n",
    "optimizer = optim.Adam(model.parameters(), lr=1e-4)\n",
    "criterion = nn.CrossEntropyLoss()\n",
    "\n",
    "# define metric\n",
    "def binary_accuracy(preds, y):\n",
    "    #round predictions to the closest integer\n",
    "    _, predictions = torch.max(preds, 1)\n",
    "    \n",
    "    correct = (predictions == y).float() \n",
    "    acc = correct.sum() / len(correct)\n",
    "    return acc\n",
    "    \n",
    "# push to cuda if available\n",
    "model = model.to(device)\n",
    "criterion = criterion.to(device)"
   ]
  },
  {
   "cell_type": "code",
   "execution_count": 118,
   "id": "attractive-lottery",
   "metadata": {
    "id": "original-michigan"
   },
   "outputs": [],
   "source": [
    "def train(model, iterator, optimizer, criterion):\n",
    "    \n",
    "    # initialize every epoch \n",
    "    epoch_loss = 0\n",
    "    epoch_acc = 0\n",
    "    \n",
    "    # set the model in training phase\n",
    "    model.train()  \n",
    "    \n",
    "    for batch in iterator:\n",
    "        \n",
    "        # resets the gradients after every batch\n",
    "        optimizer.zero_grad()   \n",
    "        \n",
    "        # retrieve text and no. of words\n",
    "        sentence, sentence_lengths = batch.sentence   \n",
    "        \n",
    "        # convert to 1D tensor\n",
    "        predictions = model(sentence, sentence_lengths).squeeze()  \n",
    "        \n",
    "        # compute the loss\n",
    "        #print(\"train\",len(predictions),len(batch.sentiment_cls_value))\n",
    "        loss = criterion(predictions, batch.sentiment_cls_value)        \n",
    "        \n",
    "        # compute the binary accuracy\n",
    "        acc = binary_accuracy(predictions, batch.sentiment_cls_value)   \n",
    "        \n",
    "        # backpropage the loss and compute the gradients\n",
    "        loss.backward()       \n",
    "        \n",
    "        # update the weights\n",
    "        optimizer.step()      \n",
    "        \n",
    "        # loss and accuracy\n",
    "        epoch_loss += loss.item()  \n",
    "        epoch_acc += acc.item()    \n",
    "        \n",
    "    return epoch_loss / len(iterator), epoch_acc / len(iterator)"
   ]
  },
  {
   "cell_type": "code",
   "execution_count": 119,
   "id": "resistant-silicon",
   "metadata": {
    "id": "correct-preview"
   },
   "outputs": [],
   "source": [
    "def evaluate(model, iterator, criterion):\n",
    "    \n",
    "    # initialize every epoch\n",
    "    epoch_loss = 0\n",
    "    epoch_acc = 0\n",
    "\n",
    "    # deactivating dropout layers\n",
    "    model.eval()\n",
    "    \n",
    "    # deactivates autograd\n",
    "    with torch.no_grad():\n",
    "    \n",
    "        for batch in iterator:\n",
    "        \n",
    "            # retrieve text and no. of words\n",
    "            sentence, sentence_lengths = batch.sentence\n",
    "            \n",
    "            # convert to 1d tensor\n",
    "            predictions = model(sentence, sentence_lengths).squeeze()\n",
    "            \n",
    "            # compute loss and accuracy\n",
    "            #print(sentence.size(),len(predictions),len(batch.sentiment_cls_value))\n",
    "            loss = criterion(predictions, batch.sentiment_cls_value)\n",
    "            acc = binary_accuracy(predictions, batch.sentiment_cls_value)\n",
    "            \n",
    "            # keep track of loss and accuracy\n",
    "            epoch_loss += loss.item()\n",
    "            epoch_acc += acc.item()\n",
    "        \n",
    "    return epoch_loss / len(iterator), epoch_acc / len(iterator)"
   ]
  },
  {
   "cell_type": "code",
   "execution_count": 123,
   "id": "aggregate-potato",
   "metadata": {
    "colab": {
     "base_uri": "https://localhost:8080/"
    },
    "id": "electric-century",
    "outputId": "8713059b-3552-4d95-db73-d4db562f1f40"
   },
   "outputs": [
    {
     "name": "stdout",
     "output_type": "stream",
     "text": [
      "Epoch 1 | Time Taken: 5.81s\n",
      "\tTrain Loss: 1.499 | Train Acc: 39.70%\n",
      "\t Val. Loss: 1.520 |  Val. Acc: 36.55% \n",
      "\n",
      "Epoch 2 | Time Taken: 5.83s\n",
      "\tTrain Loss: 1.479 | Train Acc: 41.56%\n",
      "\t Val. Loss: 1.490 |  Val. Acc: 39.90% \n",
      "\n",
      "Epoch 3 | Time Taken: 5.78s\n",
      "\tTrain Loss: 1.459 | Train Acc: 43.60%\n",
      "\t Val. Loss: 1.479 |  Val. Acc: 41.16% \n",
      "\n",
      "Epoch 4 | Time Taken: 5.58s\n",
      "\tTrain Loss: 1.445 | Train Acc: 45.49%\n",
      "\t Val. Loss: 1.499 |  Val. Acc: 39.30% \n",
      "\n",
      "Epoch 5 | Time Taken: 5.77s\n",
      "\tTrain Loss: 1.433 | Train Acc: 46.61%\n",
      "\t Val. Loss: 1.468 |  Val. Acc: 42.27% \n",
      "\n",
      "Epoch 6 | Time Taken: 5.56s\n",
      "\tTrain Loss: 1.415 | Train Acc: 48.46%\n",
      "\t Val. Loss: 1.470 |  Val. Acc: 41.86% \n",
      "\n",
      "Epoch 7 | Time Taken: 5.58s\n",
      "\tTrain Loss: 1.402 | Train Acc: 49.95%\n",
      "\t Val. Loss: 1.472 |  Val. Acc: 41.60% \n",
      "\n",
      "Epoch 8 | Time Taken: 5.57s\n",
      "\tTrain Loss: 1.386 | Train Acc: 51.98%\n",
      "\t Val. Loss: 1.469 |  Val. Acc: 42.42% \n",
      "\n",
      "Epoch 9 | Time Taken: 5.58s\n",
      "\tTrain Loss: 1.370 | Train Acc: 53.96%\n",
      "\t Val. Loss: 1.475 |  Val. Acc: 41.16% \n",
      "\n",
      "Epoch 10 | Time Taken: 5.57s\n",
      "\tTrain Loss: 1.359 | Train Acc: 54.99%\n",
      "\t Val. Loss: 1.471 |  Val. Acc: 41.35% \n",
      "\n"
     ]
    }
   ],
   "source": [
    "import time\n",
    "N_EPOCHS = 10\n",
    "best_test_loss = float('inf')\n",
    "train_losses = []\n",
    "test_losses = []\n",
    "\n",
    "train_accuracy = []\n",
    "test_accuracy = []\n",
    "\n",
    "for epoch in range(N_EPOCHS):\n",
    "    start_time = time.time()\n",
    "    # train the model\n",
    "    train_loss, train_acc = train(model, train_iterator, optimizer, criterion)\n",
    "    train_losses.append(train_loss)\n",
    "    train_accuracy.append(train_acc)\n",
    "\n",
    "    # evaluate the model\n",
    "    test_loss, test_acc = evaluate(model, test_iterator, criterion)\n",
    "    test_losses.append(test_loss)\n",
    "    test_accuracy.append(test_acc)\n",
    "\n",
    "\n",
    "    # save the best model\n",
    "    if test_loss < best_test_loss:\n",
    "        best_test_loss = test_loss\n",
    "        torch.save(model.state_dict(), 'weights/saved_weights.pt')\n",
    "    \n",
    "    print(f'Epoch {epoch+1} | Time Taken: {(time.time() - start_time):.2f}s')\n",
    "    print(f'\\tTrain Loss: {train_loss:.3f} | Train Acc: {train_acc*100:.2f}%')\n",
    "    print(f'\\t Val. Loss: {test_loss:.3f} |  Val. Acc: {test_acc*100:.2f}% \\n')\n",
    "     "
   ]
  },
  {
   "cell_type": "code",
   "execution_count": 127,
   "id": "forced-encoding",
   "metadata": {
    "colab": {
     "base_uri": "https://localhost:8080/",
     "height": 350
    },
    "id": "forced-luxury",
    "outputId": "24e84ed2-3afc-4b22-fae6-f3629e779708"
   },
   "outputs": [
    {
     "data": {
      "image/png": "[encoded data removed]",
      "text/plain": [
       "<Figure size 720x360 with 1 Axes>"
      ]
     },
     "metadata": {
      "needs_background": "light"
     },
     "output_type": "display_data"
    }
   ],
   "source": [
    "import matplotlib.pyplot  as plt\n",
    "# Plotting the train and test loss\n",
    "\n",
    "plt.figure(figsize=(10,5))\n",
    "plt.title(\"Training and Test Loss\")\n",
    "plt.plot(test_losses,label=\"test\")\n",
    "plt.plot(train_losses,label=\"train\")\n",
    "plt.xlabel(\"iterations\")\n",
    "plt.ylabel(\"Loss\")\n",
    "plt.legend()\n",
    "plt.show()"
   ]
  },
  {
   "cell_type": "code",
   "execution_count": 128,
   "id": "cutting-throw",
   "metadata": {
    "colab": {
     "base_uri": "https://localhost:8080/",
     "height": 350
    },
    "id": "chicken-shelf",
    "outputId": "94d0e508-92a0-45d7-9618-6a03587e8db3"
   },
   "outputs": [
    {
     "data": {
      "image/png": "[encoded data removed]",
      "text/plain": [
       "<Figure size 720x360 with 1 Axes>"
      ]
     },
     "metadata": {
      "needs_background": "light"
     },
     "output_type": "display_data"
    }
   ],
   "source": [
    "# Plotting the train and validation Accuracy\n",
    "\n",
    "plt.figure(figsize=(10,5))\n",
    "plt.title(\"Training and Test Accuracy\")\n",
    "plt.plot(test_accuracy,label=\"test\")\n",
    "plt.plot(train_accuracy,label=\"train\")\n",
    "plt.xlabel(\"iterations\")\n",
    "plt.ylabel(\"Accuracy\")\n",
    "plt.legend()\n",
    "plt.show()"
   ]
  },
  {
   "cell_type": "code",
   "execution_count": 130,
   "id": "acoustic-internet",
   "metadata": {
    "id": "japanese-poison"
   },
   "outputs": [],
   "source": [
    "#load weights and tokenizer\n",
    "\n",
    "path='weights/saved_weights.pt'\n",
    "model.load_state_dict(torch.load(path))\n",
    "model.eval();\n",
    "tokenizer_file = open('pickle_files/test_tokenizer.pkl', 'rb')\n",
    "tokenizer = pickle.load(tokenizer_file)\n",
    "\n",
    "#inference \n",
    "\n",
    "import spacy\n",
    "nlp = spacy.load('en_core_web_sm')\n",
    "\n",
    "def classify_review(text):\n",
    "    \n",
    "    categories = {0: \"Very Negative\", 1:\"Negative\", 2:\"Neutral\", 3:\"Positive\", 4:\"Very Positive\" }\n",
    "    \n",
    "    \n",
    "    # tokenize the tweet \n",
    "    tokenized = [tok.text for tok in nlp.tokenizer(text)] \n",
    "    # convert to integer sequence using predefined tokenizer dictionary\n",
    "    indexed = [tokenizer[t] for t in tokenized]        \n",
    "    # compute no. of words        \n",
    "    length = [len(indexed)]\n",
    "    # convert to tensor                                    \n",
    "    tensor = torch.LongTensor(indexed).to(device)   \n",
    "    # reshape in form of batch, no. of words           \n",
    "    tensor = tensor.unsqueeze(1).T  \n",
    "    # convert to tensor                          \n",
    "    length_tensor = torch.LongTensor(length)\n",
    "    # Get the model prediction                  \n",
    "    prediction = model(tensor, length_tensor)\n",
    "\n",
    "    _, pred = torch.max(prediction, 1) \n",
    "    \n",
    "    return categories[pred.item()]"
   ]
  },
  {
   "cell_type": "code",
   "execution_count": 131,
   "id": "positive-argentina",
   "metadata": {
    "colab": {
     "base_uri": "https://localhost:8080/"
    },
    "id": "political-header",
    "outputId": "0dae38f4-5d3a-4065-8b93-29764587284e"
   },
   "outputs": [
    {
     "name": "stdout",
     "output_type": "stream",
     "text": [
      "Time taken:  0.009605169296264648\n",
      "Negative\n"
     ]
    }
   ],
   "source": [
    "import time\n",
    "start_time = time.time()\n",
    "sentiment = classify_review(\"\"\"With a story inspired by the tumultuous surroundings of Los Angeles , \n",
    "                where feelings of marginalization loom for every dreamer with a burst bubble ,\n",
    "                The Dogwalker has a few characters and ideas , \n",
    "                but it never manages to put them on the same path .\"\"\")\n",
    "print(\"Time taken: \", time.time()-start_time)\n",
    "print(sentiment)"
   ]
  },
  {
   "cell_type": "code",
   "execution_count": 133,
   "id": "digital-finding",
   "metadata": {
    "id": "sensitive-coupon"
   },
   "outputs": [],
   "source": [
    "categories = {0: \"Very Negative\", 1:\"Negative\", 2:\"Neutral\", 3:\"Positive\", 4:\"Very Positive\" }"
   ]
  },
  {
   "cell_type": "code",
   "execution_count": 135,
   "id": "agricultural-federal",
   "metadata": {
    "id": "f198936f-3b87-4185-98cc-f88987027416"
   },
   "outputs": [],
   "source": [
    "df_test[\"Predicted_Sentiment\"] = df_test[\"sentence\"].apply(lambda x: classify_review(x))\n",
    "df_test[\"Predicted_Label\"] = df_test[\"Predicted_Sentiment\"].apply(lambda x: [k for k,v in categories.items() if v == x][0])"
   ]
  },
  {
   "cell_type": "code",
   "execution_count": 136,
   "id": "heavy-minneapolis",
   "metadata": {
    "id": "MzWUkH4a2AMH"
   },
   "outputs": [],
   "source": [
    "df_test.to_csv(\"dataset/test_predicted.csv\")"
   ]
  },
  {
   "cell_type": "code",
   "execution_count": 138,
   "id": "altered-yahoo",
   "metadata": {
    "colab": {
     "base_uri": "https://localhost:8080/"
    },
    "id": "329f905b-66b0-48d2-829c-0e1c0f903999",
    "outputId": "551eb9e3-80f3-40ed-ea36-47d21b52ea2d"
   },
   "outputs": [
    {
     "data": {
      "text/html": [
       "<div>\n",
       "<style scoped>\n",
       "    .dataframe tbody tr th:only-of-type {\n",
       "        vertical-align: middle;\n",
       "    }\n",
       "\n",
       "    .dataframe tbody tr th {\n",
       "        vertical-align: top;\n",
       "    }\n",
       "\n",
       "    .dataframe thead th {\n",
       "        text-align: right;\n",
       "    }\n",
       "</style>\n",
       "<table border=\"1\" class=\"dataframe\">\n",
       "  <thead>\n",
       "    <tr style=\"text-align: right;\">\n",
       "      <th></th>\n",
       "      <th>sentence</th>\n",
       "      <th>sentiment_class</th>\n",
       "      <th>Predicted_Sentiment</th>\n",
       "      <th>sentiment_cls_value</th>\n",
       "      <th>Predicted_Label</th>\n",
       "    </tr>\n",
       "  </thead>\n",
       "  <tbody>\n",
       "    <tr>\n",
       "      <th>0</th>\n",
       "      <td>Effective but too-tepid biopic</td>\n",
       "      <td>Neutral</td>\n",
       "      <td>Very Negative</td>\n",
       "      <td>2</td>\n",
       "      <td>0</td>\n",
       "    </tr>\n",
       "    <tr>\n",
       "      <th>1</th>\n",
       "      <td>If you sometimes like to go to the movies to have fun , Wasabi is a good place to start .</td>\n",
       "      <td>Positive</td>\n",
       "      <td>Negative</td>\n",
       "      <td>3</td>\n",
       "      <td>1</td>\n",
       "    </tr>\n",
       "    <tr>\n",
       "      <th>2</th>\n",
       "      <td>Emerges as something rare , an issue movie that 's so honest and keenly observed that it does n't feel like one .</td>\n",
       "      <td>Very_Positive</td>\n",
       "      <td>Negative</td>\n",
       "      <td>4</td>\n",
       "      <td>1</td>\n",
       "    </tr>\n",
       "    <tr>\n",
       "      <th>3</th>\n",
       "      <td>The film provides some great insight into the neurotic mindset of all comics -- even those who have reached the absolute top of the game .</td>\n",
       "      <td>Neutral</td>\n",
       "      <td>Negative</td>\n",
       "      <td>2</td>\n",
       "      <td>1</td>\n",
       "    </tr>\n",
       "    <tr>\n",
       "      <th>4</th>\n",
       "      <td>Offers that rare combination of entertainment and education .</td>\n",
       "      <td>Very_Positive</td>\n",
       "      <td>Positive</td>\n",
       "      <td>4</td>\n",
       "      <td>3</td>\n",
       "    </tr>\n",
       "    <tr>\n",
       "      <th>5</th>\n",
       "      <td>Perhaps no picture ever made has more literally showed that the road to hell is paved with good intentions .</td>\n",
       "      <td>Positive</td>\n",
       "      <td>Negative</td>\n",
       "      <td>3</td>\n",
       "      <td>1</td>\n",
       "    </tr>\n",
       "    <tr>\n",
       "      <th>6</th>\n",
       "      <td>Steers turns in a snappy screenplay that curls at the edges ; it 's so clever you want to hate it .</td>\n",
       "      <td>Positive</td>\n",
       "      <td>Negative</td>\n",
       "      <td>3</td>\n",
       "      <td>1</td>\n",
       "    </tr>\n",
       "    <tr>\n",
       "      <th>7</th>\n",
       "      <td>But he somehow pulls it off .</td>\n",
       "      <td>Positive</td>\n",
       "      <td>Very Negative</td>\n",
       "      <td>3</td>\n",
       "      <td>0</td>\n",
       "    </tr>\n",
       "    <tr>\n",
       "      <th>8</th>\n",
       "      <td>Take Care of My Cat offers a refreshingly different slice of Asian cinema .</td>\n",
       "      <td>Positive</td>\n",
       "      <td>Positive</td>\n",
       "      <td>3</td>\n",
       "      <td>3</td>\n",
       "    </tr>\n",
       "    <tr>\n",
       "      <th>9</th>\n",
       "      <td>This is a film well worth seeing , talking and singing heads and all .</td>\n",
       "      <td>Very_Positive</td>\n",
       "      <td>Positive</td>\n",
       "      <td>4</td>\n",
       "      <td>3</td>\n",
       "    </tr>\n",
       "  </tbody>\n",
       "</table>\n",
       "</div>"
      ],
      "text/plain": [
       "                                                                                                                                     sentence sentiment_class Predicted_Sentiment  sentiment_cls_value  Predicted_Label\n",
       "0                                                                                                              Effective but too-tepid biopic         Neutral       Very Negative                    2                0\n",
       "1                                                   If you sometimes like to go to the movies to have fun , Wasabi is a good place to start .        Positive            Negative                    3                1\n",
       "2                           Emerges as something rare , an issue movie that 's so honest and keenly observed that it does n't feel like one .   Very_Positive            Negative                    4                1\n",
       "3  The film provides some great insight into the neurotic mindset of all comics -- even those who have reached the absolute top of the game .         Neutral            Negative                    2                1\n",
       "4                                                                               Offers that rare combination of entertainment and education .   Very_Positive            Positive                    4                3\n",
       "5                                Perhaps no picture ever made has more literally showed that the road to hell is paved with good intentions .        Positive            Negative                    3                1\n",
       "6                                         Steers turns in a snappy screenplay that curls at the edges ; it 's so clever you want to hate it .        Positive            Negative                    3                1\n",
       "7                                                                                                               But he somehow pulls it off .        Positive       Very Negative                    3                0\n",
       "8                                                                 Take Care of My Cat offers a refreshingly different slice of Asian cinema .        Positive            Positive                    3                3\n",
       "9                                                                      This is a film well worth seeing , talking and singing heads and all .   Very_Positive            Positive                    4                3"
      ]
     },
     "metadata": {},
     "output_type": "display_data"
    }
   ],
   "source": [
    "import pandas as pd\n",
    "pd.set_option('display.max_rows', None)\n",
    "pd.set_option('display.max_columns', None)\n",
    "pd.set_option('display.expand_frame_repr', False)\n",
    "pd.set_option('display.max_colwidth', None)\n",
    "display(df_test[['sentence','sentiment_class','Predicted_Sentiment','sentiment_cls_value','Predicted_Label']].head(n=10))"
   ]
  },
  {
   "cell_type": "code",
   "execution_count": 140,
   "id": "powerful-implementation",
   "metadata": {
    "colab": {
     "base_uri": "https://localhost:8080/",
     "height": 1000
    },
    "id": "c159bbdf-ba00-48c8-86bc-3404e9276f0d",
    "outputId": "4bfbda79-8316-44a4-bfd1-cc568e7e37e1"
   },
   "outputs": [
    {
     "data": {
      "text/html": [
       "<div>\n",
       "<style scoped>\n",
       "    .dataframe tbody tr th:only-of-type {\n",
       "        vertical-align: middle;\n",
       "    }\n",
       "\n",
       "    .dataframe tbody tr th {\n",
       "        vertical-align: top;\n",
       "    }\n",
       "\n",
       "    .dataframe thead th {\n",
       "        text-align: right;\n",
       "    }\n",
       "</style>\n",
       "<table border=\"1\" class=\"dataframe\">\n",
       "  <thead>\n",
       "    <tr style=\"text-align: right;\">\n",
       "      <th></th>\n",
       "      <th>sentence</th>\n",
       "      <th>sentiment_class</th>\n",
       "      <th>Predicted_Sentiment</th>\n",
       "    </tr>\n",
       "  </thead>\n",
       "  <tbody>\n",
       "    <tr>\n",
       "      <th>322</th>\n",
       "      <td>Clever , brutal and strangely soulful movie .</td>\n",
       "      <td>Positive</td>\n",
       "      <td>Positive</td>\n",
       "    </tr>\n",
       "    <tr>\n",
       "      <th>3096</th>\n",
       "      <td>Punish the vehicle to adore the star .</td>\n",
       "      <td>Negative</td>\n",
       "      <td>Negative</td>\n",
       "    </tr>\n",
       "    <tr>\n",
       "      <th>787</th>\n",
       "      <td>A work of intricate elegance , literary lyricism and profound common sense .</td>\n",
       "      <td>Positive</td>\n",
       "      <td>Positive</td>\n",
       "    </tr>\n",
       "    <tr>\n",
       "      <th>519</th>\n",
       "      <td>For the first two-thirds of this sparklingly inventive and artful , always fast and furious tale , kids will go happily along for the ride .</td>\n",
       "      <td>Positive</td>\n",
       "      <td>Positive</td>\n",
       "    </tr>\n",
       "    <tr>\n",
       "      <th>1660</th>\n",
       "      <td>Over age 15 ?</td>\n",
       "      <td>Neutral</td>\n",
       "      <td>Neutral</td>\n",
       "    </tr>\n",
       "    <tr>\n",
       "      <th>3042</th>\n",
       "      <td>As your relatives swap one mundane story after another , you begin to wonder if they are ever going to depart .</td>\n",
       "      <td>Negative</td>\n",
       "      <td>Negative</td>\n",
       "    </tr>\n",
       "    <tr>\n",
       "      <th>343</th>\n",
       "      <td>Audiences conditioned to getting weepy over saucer-eyed , downy-cheeked moppets and their empathetic caretakers will probably feel emotionally cheated by the film 's tart , sugar-free wit .</td>\n",
       "      <td>Negative</td>\n",
       "      <td>Negative</td>\n",
       "    </tr>\n",
       "    <tr>\n",
       "      <th>2018</th>\n",
       "      <td>A solid film ... but more conscientious than it is truly stirring .</td>\n",
       "      <td>Positive</td>\n",
       "      <td>Positive</td>\n",
       "    </tr>\n",
       "    <tr>\n",
       "      <th>624</th>\n",
       "      <td>As adapted by Kevin Molony from Simon Leys ' novel `` The Death of Napoleon '' and directed by Alan Taylor , Napoleon 's journey is interesting but his Parisian rebirth is stillborn</td>\n",
       "      <td>Negative</td>\n",
       "      <td>Negative</td>\n",
       "    </tr>\n",
       "    <tr>\n",
       "      <th>2640</th>\n",
       "      <td>Reggio 's trippy , ambitious downer can also sometimes come across like nothing more than a glorified Nike ad .</td>\n",
       "      <td>Negative</td>\n",
       "      <td>Negative</td>\n",
       "    </tr>\n",
       "    <tr>\n",
       "      <th>698</th>\n",
       "      <td>An incredibly clever and superbly paced caper filled with scams within scams within scams .</td>\n",
       "      <td>Positive</td>\n",
       "      <td>Positive</td>\n",
       "    </tr>\n",
       "    <tr>\n",
       "      <th>324</th>\n",
       "      <td>An intelligent fiction about learning through cultural clash .</td>\n",
       "      <td>Positive</td>\n",
       "      <td>Positive</td>\n",
       "    </tr>\n",
       "    <tr>\n",
       "      <th>207</th>\n",
       "      <td>An unabashedly schmaltzy and thoroughly enjoyable true story .</td>\n",
       "      <td>Positive</td>\n",
       "      <td>Positive</td>\n",
       "    </tr>\n",
       "    <tr>\n",
       "      <th>1815</th>\n",
       "      <td>All that 's missing is the spontaneity , originality and delight .</td>\n",
       "      <td>Negative</td>\n",
       "      <td>Negative</td>\n",
       "    </tr>\n",
       "    <tr>\n",
       "      <th>1041</th>\n",
       "      <td>Entertains by providing good , lively company .</td>\n",
       "      <td>Positive</td>\n",
       "      <td>Positive</td>\n",
       "    </tr>\n",
       "    <tr>\n",
       "      <th>353</th>\n",
       "      <td>... a poignant and powerful narrative that reveals that reading writing and arithmetic are not the only subjects to learn in life .</td>\n",
       "      <td>Positive</td>\n",
       "      <td>Positive</td>\n",
       "    </tr>\n",
       "    <tr>\n",
       "      <th>2668</th>\n",
       "      <td>The humor is hinged on the belief that knees in the crotch , elbows in the face and spit in the eye are inherently funny .</td>\n",
       "      <td>Negative</td>\n",
       "      <td>Negative</td>\n",
       "    </tr>\n",
       "    <tr>\n",
       "      <th>909</th>\n",
       "      <td>From spiritual rebirth to bruising defeat , Vincent 's odyssey resonates in a profound way , comparable to the classic films of Jean Renoir .</td>\n",
       "      <td>Positive</td>\n",
       "      <td>Positive</td>\n",
       "    </tr>\n",
       "    <tr>\n",
       "      <th>2062</th>\n",
       "      <td>Or doing last year 's taxes with your ex-wife .</td>\n",
       "      <td>Negative</td>\n",
       "      <td>Negative</td>\n",
       "    </tr>\n",
       "    <tr>\n",
       "      <th>2502</th>\n",
       "      <td>The result is solemn and horrifying , yet strangely detached .</td>\n",
       "      <td>Negative</td>\n",
       "      <td>Negative</td>\n",
       "    </tr>\n",
       "    <tr>\n",
       "      <th>2448</th>\n",
       "      <td>There are films that try the patience of even the most cinema-besotted critic -- and this was one of them .</td>\n",
       "      <td>Negative</td>\n",
       "      <td>Negative</td>\n",
       "    </tr>\n",
       "    <tr>\n",
       "      <th>2803</th>\n",
       "      <td>An unsatisfying hybrid of Blair Witch and typical stalk-and-slash fare , where the most conservative protagonist is always the last one living .</td>\n",
       "      <td>Negative</td>\n",
       "      <td>Negative</td>\n",
       "    </tr>\n",
       "    <tr>\n",
       "      <th>1752</th>\n",
       "      <td>What 's next : `` My Mother the Car ? ''</td>\n",
       "      <td>Neutral</td>\n",
       "      <td>Neutral</td>\n",
       "    </tr>\n",
       "    <tr>\n",
       "      <th>1285</th>\n",
       "      <td>An absurdist comedy about alienation , separation and loss .</td>\n",
       "      <td>Negative</td>\n",
       "      <td>Negative</td>\n",
       "    </tr>\n",
       "    <tr>\n",
       "      <th>2380</th>\n",
       "      <td>`` My god , I 'm behaving like an idiot ! ''</td>\n",
       "      <td>Neutral</td>\n",
       "      <td>Neutral</td>\n",
       "    </tr>\n",
       "  </tbody>\n",
       "</table>\n",
       "</div>"
      ],
      "text/plain": [
       "                                                                                                                                                                                           sentence sentiment_class Predicted_Sentiment\n",
       "322                                                                                                                                                   Clever , brutal and strangely soulful movie .        Positive            Positive\n",
       "3096                                                                                                                                                         Punish the vehicle to adore the star .        Negative            Negative\n",
       "787                                                                                                                    A work of intricate elegance , literary lyricism and profound common sense .        Positive            Positive\n",
       "519                                                    For the first two-thirds of this sparklingly inventive and artful , always fast and furious tale , kids will go happily along for the ride .        Positive            Positive\n",
       "1660                                                                                                                                                                                  Over age 15 ?         Neutral             Neutral\n",
       "3042                                                                                As your relatives swap one mundane story after another , you begin to wonder if they are ever going to depart .        Negative            Negative\n",
       "343   Audiences conditioned to getting weepy over saucer-eyed , downy-cheeked moppets and their empathetic caretakers will probably feel emotionally cheated by the film 's tart , sugar-free wit .        Negative            Negative\n",
       "2018                                                                                                                            A solid film ... but more conscientious than it is truly stirring .        Positive            Positive\n",
       "624           As adapted by Kevin Molony from Simon Leys ' novel `` The Death of Napoleon '' and directed by Alan Taylor , Napoleon 's journey is interesting but his Parisian rebirth is stillborn        Negative            Negative\n",
       "2640                                                                                Reggio 's trippy , ambitious downer can also sometimes come across like nothing more than a glorified Nike ad .        Negative            Negative\n",
       "698                                                                                                     An incredibly clever and superbly paced caper filled with scams within scams within scams .        Positive            Positive\n",
       "324                                                                                                                                  An intelligent fiction about learning through cultural clash .        Positive            Positive\n",
       "207                                                                                                                                  An unabashedly schmaltzy and thoroughly enjoyable true story .        Positive            Positive\n",
       "1815                                                                                                                             All that 's missing is the spontaneity , originality and delight .        Negative            Negative\n",
       "1041                                                                                                                                                Entertains by providing good , lively company .        Positive            Positive\n",
       "353                                                             ... a poignant and powerful narrative that reveals that reading writing and arithmetic are not the only subjects to learn in life .        Positive            Positive\n",
       "2668                                                                     The humor is hinged on the belief that knees in the crotch , elbows in the face and spit in the eye are inherently funny .        Negative            Negative\n",
       "909                                                   From spiritual rebirth to bruising defeat , Vincent 's odyssey resonates in a profound way , comparable to the classic films of Jean Renoir .        Positive            Positive\n",
       "2062                                                                                                                                                Or doing last year 's taxes with your ex-wife .        Negative            Negative\n",
       "2502                                                                                                                                 The result is solemn and horrifying , yet strangely detached .        Negative            Negative\n",
       "2448                                                                                    There are films that try the patience of even the most cinema-besotted critic -- and this was one of them .        Negative            Negative\n",
       "2803                                               An unsatisfying hybrid of Blair Witch and typical stalk-and-slash fare , where the most conservative protagonist is always the last one living .        Negative            Negative\n",
       "1752                                                                                                                                                       What 's next : `` My Mother the Car ? ''         Neutral             Neutral\n",
       "1285                                                                                                                                   An absurdist comedy about alienation , separation and loss .        Negative            Negative\n",
       "2380                                                                                                                                                   `` My god , I 'm behaving like an idiot ! ''         Neutral             Neutral"
      ]
     },
     "execution_count": 140,
     "metadata": {},
     "output_type": "execute_result"
    }
   ],
   "source": [
    "df_test_results_correct =  df_test[df_test[\"sentiment_class\"]==df_test[\"Predicted_Sentiment\"]].sample(25)\n",
    "df_test_results_correct[['sentence','sentiment_class','Predicted_Sentiment']]"
   ]
  },
  {
   "cell_type": "code",
   "execution_count": 142,
   "id": "substantial-space",
   "metadata": {
    "colab": {
     "base_uri": "https://localhost:8080/",
     "height": 1000
    },
    "id": "70Z2UtN2wWbE",
    "outputId": "659fdd4f-beaa-49eb-b8b1-db4e8f1c457c"
   },
   "outputs": [
    {
     "data": {
      "text/html": [
       "<div>\n",
       "<style scoped>\n",
       "    .dataframe tbody tr th:only-of-type {\n",
       "        vertical-align: middle;\n",
       "    }\n",
       "\n",
       "    .dataframe tbody tr th {\n",
       "        vertical-align: top;\n",
       "    }\n",
       "\n",
       "    .dataframe thead th {\n",
       "        text-align: right;\n",
       "    }\n",
       "</style>\n",
       "<table border=\"1\" class=\"dataframe\">\n",
       "  <thead>\n",
       "    <tr style=\"text-align: right;\">\n",
       "      <th></th>\n",
       "      <th>sentence</th>\n",
       "      <th>sentiment_class</th>\n",
       "      <th>Predicted_Sentiment</th>\n",
       "    </tr>\n",
       "  </thead>\n",
       "  <tbody>\n",
       "    <tr>\n",
       "      <th>1960</th>\n",
       "      <td>But what are adults doing in the theater at all ?</td>\n",
       "      <td>Negative</td>\n",
       "      <td>Neutral</td>\n",
       "    </tr>\n",
       "    <tr>\n",
       "      <th>3030</th>\n",
       "      <td>Safe Conduct , however ambitious and well-intentioned , fails to hit the entertainment bull 's - eye .</td>\n",
       "      <td>Negative</td>\n",
       "      <td>Neutral</td>\n",
       "    </tr>\n",
       "    <tr>\n",
       "      <th>2543</th>\n",
       "      <td>A great idea becomes a not-great movie .</td>\n",
       "      <td>Negative</td>\n",
       "      <td>Neutral</td>\n",
       "    </tr>\n",
       "    <tr>\n",
       "      <th>261</th>\n",
       "      <td>Has it ever been possible to say that Williams has truly inhabited a character ?</td>\n",
       "      <td>Negative</td>\n",
       "      <td>Neutral</td>\n",
       "    </tr>\n",
       "    <tr>\n",
       "      <th>2118</th>\n",
       "      <td>I doubt anyone will remember the picture by the time Christmas really rolls around , but maybe it 'll be on video by then .</td>\n",
       "      <td>Negative</td>\n",
       "      <td>Neutral</td>\n",
       "    </tr>\n",
       "    <tr>\n",
       "      <th>2986</th>\n",
       "      <td>Here 's a self-congratulatory 3D IMAX rah-rah .</td>\n",
       "      <td>Negative</td>\n",
       "      <td>Neutral</td>\n",
       "    </tr>\n",
       "    <tr>\n",
       "      <th>2432</th>\n",
       "      <td>Considering the harsh locations and demanding stunts , this must have been a difficult shoot , but the movie proves rough going for the audience as well .</td>\n",
       "      <td>Negative</td>\n",
       "      <td>Neutral</td>\n",
       "    </tr>\n",
       "    <tr>\n",
       "      <th>2027</th>\n",
       "      <td>Hit and miss as far as the comedy goes and a big ole ' miss in the way of story .</td>\n",
       "      <td>Negative</td>\n",
       "      <td>Neutral</td>\n",
       "    </tr>\n",
       "    <tr>\n",
       "      <th>1886</th>\n",
       "      <td>Its story may be a thousand years old , but why did it have to seem like it took another thousand to tell it to us ?</td>\n",
       "      <td>Negative</td>\n",
       "      <td>Neutral</td>\n",
       "    </tr>\n",
       "    <tr>\n",
       "      <th>2498</th>\n",
       "      <td>What happened with Pluto Nash ?</td>\n",
       "      <td>Negative</td>\n",
       "      <td>Neutral</td>\n",
       "    </tr>\n",
       "    <tr>\n",
       "      <th>2729</th>\n",
       "      <td>Gee , a second assassin shot Kennedy ?</td>\n",
       "      <td>Negative</td>\n",
       "      <td>Neutral</td>\n",
       "    </tr>\n",
       "    <tr>\n",
       "      <th>2215</th>\n",
       "      <td>Obvious politics and rudimentary animation reduce the chances that the appeal of Hey Arnold !</td>\n",
       "      <td>Negative</td>\n",
       "      <td>Neutral</td>\n",
       "    </tr>\n",
       "    <tr>\n",
       "      <th>2012</th>\n",
       "      <td>Determined to be fun , and bouncy , with energetic musicals , the humor did n't quite engage this adult .</td>\n",
       "      <td>Negative</td>\n",
       "      <td>Positive</td>\n",
       "    </tr>\n",
       "    <tr>\n",
       "      <th>2520</th>\n",
       "      <td>Borrows from so many literary and cinematic sources that this future world feels absolutely deja vu .</td>\n",
       "      <td>Negative</td>\n",
       "      <td>Positive</td>\n",
       "    </tr>\n",
       "    <tr>\n",
       "      <th>2958</th>\n",
       "      <td>I tried to read the time on my watch .</td>\n",
       "      <td>Negative</td>\n",
       "      <td>Neutral</td>\n",
       "    </tr>\n",
       "    <tr>\n",
       "      <th>2022</th>\n",
       "      <td>Verbinski implements every hack-artist trick to give us the ooky-spookies .</td>\n",
       "      <td>Negative</td>\n",
       "      <td>Neutral</td>\n",
       "    </tr>\n",
       "    <tr>\n",
       "      <th>1854</th>\n",
       "      <td>An occasionally funny , but overall limp , fish-out-of-water story .</td>\n",
       "      <td>Negative</td>\n",
       "      <td>Neutral</td>\n",
       "    </tr>\n",
       "    <tr>\n",
       "      <th>2122</th>\n",
       "      <td>If you think that Jennifer Lopez has shown poor judgment in planning to marry Ben Affleck , wait till you see Maid in Manhattan .</td>\n",
       "      <td>Negative</td>\n",
       "      <td>Neutral</td>\n",
       "    </tr>\n",
       "    <tr>\n",
       "      <th>1739</th>\n",
       "      <td>While the Resident Evil games may have set new standards for thrills , suspense , and gore for video games , the movie really only succeeds in the third of these .</td>\n",
       "      <td>Negative</td>\n",
       "      <td>Neutral</td>\n",
       "    </tr>\n",
       "    <tr>\n",
       "      <th>1583</th>\n",
       "      <td>Very special effects , brilliantly bold colors and heightened reality ca n't hide the giant Achilles ' heel in `` Stuart Little 2 `` : There 's just no story , folks .</td>\n",
       "      <td>Negative</td>\n",
       "      <td>Neutral</td>\n",
       "    </tr>\n",
       "    <tr>\n",
       "      <th>1600</th>\n",
       "      <td>The film is based on truth and yet there is something about it that feels incomplete , as if the real story starts just around the corner .</td>\n",
       "      <td>Negative</td>\n",
       "      <td>Neutral</td>\n",
       "    </tr>\n",
       "    <tr>\n",
       "      <th>2831</th>\n",
       "      <td>Those who managed to avoid the Deconstructionist theorizing of French philosopher Jacques Derrida in college can now take an 85-minute brush-up course with the documentary Derrida .</td>\n",
       "      <td>Negative</td>\n",
       "      <td>Neutral</td>\n",
       "    </tr>\n",
       "    <tr>\n",
       "      <th>3069</th>\n",
       "      <td>No number of fantastic sets , extras , costumes and spectacular locales can disguise the emptiness at the center of the story .</td>\n",
       "      <td>Negative</td>\n",
       "      <td>Positive</td>\n",
       "    </tr>\n",
       "    <tr>\n",
       "      <th>1716</th>\n",
       "      <td>It 's a cookie-cutter movie , a cut-and-paste job .</td>\n",
       "      <td>Negative</td>\n",
       "      <td>Neutral</td>\n",
       "    </tr>\n",
       "    <tr>\n",
       "      <th>2275</th>\n",
       "      <td>It 's often faintly amusing , but the problems of the characters never become important to us , and the story never takes hold .</td>\n",
       "      <td>Negative</td>\n",
       "      <td>Neutral</td>\n",
       "    </tr>\n",
       "  </tbody>\n",
       "</table>\n",
       "</div>"
      ],
      "text/plain": [
       "                                                                                                                                                                                   sentence sentiment_class Predicted_Sentiment\n",
       "1960                                                                                                                                      But what are adults doing in the theater at all ?        Negative             Neutral\n",
       "3030                                                                                 Safe Conduct , however ambitious and well-intentioned , fails to hit the entertainment bull 's - eye .        Negative             Neutral\n",
       "2543                                                                                                                                               A great idea becomes a not-great movie .        Negative             Neutral\n",
       "261                                                                                                        Has it ever been possible to say that Williams has truly inhabited a character ?        Negative             Neutral\n",
       "2118                                                            I doubt anyone will remember the picture by the time Christmas really rolls around , but maybe it 'll be on video by then .        Negative             Neutral\n",
       "2986                                                                                                                                        Here 's a self-congratulatory 3D IMAX rah-rah .        Negative             Neutral\n",
       "2432                             Considering the harsh locations and demanding stunts , this must have been a difficult shoot , but the movie proves rough going for the audience as well .        Negative             Neutral\n",
       "2027                                                                                                      Hit and miss as far as the comedy goes and a big ole ' miss in the way of story .        Negative             Neutral\n",
       "1886                                                                   Its story may be a thousand years old , but why did it have to seem like it took another thousand to tell it to us ?        Negative             Neutral\n",
       "2498                                                                                                                                                        What happened with Pluto Nash ?        Negative             Neutral\n",
       "2729                                                                                                                                                 Gee , a second assassin shot Kennedy ?        Negative             Neutral\n",
       "2215                                                                                          Obvious politics and rudimentary animation reduce the chances that the appeal of Hey Arnold !        Negative             Neutral\n",
       "2012                                                                              Determined to be fun , and bouncy , with energetic musicals , the humor did n't quite engage this adult .        Negative            Positive\n",
       "2520                                                                                  Borrows from so many literary and cinematic sources that this future world feels absolutely deja vu .        Negative            Positive\n",
       "2958                                                                                                                                                 I tried to read the time on my watch .        Negative             Neutral\n",
       "2022                                                                                                            Verbinski implements every hack-artist trick to give us the ooky-spookies .        Negative             Neutral\n",
       "1854                                                                                                                   An occasionally funny , but overall limp , fish-out-of-water story .        Negative             Neutral\n",
       "2122                                                      If you think that Jennifer Lopez has shown poor judgment in planning to marry Ben Affleck , wait till you see Maid in Manhattan .        Negative             Neutral\n",
       "1739                    While the Resident Evil games may have set new standards for thrills , suspense , and gore for video games , the movie really only succeeds in the third of these .        Negative             Neutral\n",
       "1583                Very special effects , brilliantly bold colors and heightened reality ca n't hide the giant Achilles ' heel in `` Stuart Little 2 `` : There 's just no story , folks .        Negative             Neutral\n",
       "1600                                            The film is based on truth and yet there is something about it that feels incomplete , as if the real story starts just around the corner .        Negative             Neutral\n",
       "2831  Those who managed to avoid the Deconstructionist theorizing of French philosopher Jacques Derrida in college can now take an 85-minute brush-up course with the documentary Derrida .        Negative             Neutral\n",
       "3069                                                        No number of fantastic sets , extras , costumes and spectacular locales can disguise the emptiness at the center of the story .        Negative            Positive\n",
       "1716                                                                                                                                    It 's a cookie-cutter movie , a cut-and-paste job .        Negative             Neutral\n",
       "2275                                                       It 's often faintly amusing , but the problems of the characters never become important to us , and the story never takes hold .        Negative             Neutral"
      ]
     },
     "execution_count": 142,
     "metadata": {},
     "output_type": "execute_result"
    }
   ],
   "source": [
    "df_test_false_positives =  df_test.query('sentiment_class in [\"Negative\",\"Very Negative\"] and Predicted_Sentiment in [\"Positive\",\"Very Positive\",\"Neutral\"]')\n",
    "df_test_false_positives[['sentence','sentiment_class','Predicted_Sentiment']].sample(25)\n"
   ]
  },
  {
   "cell_type": "code",
   "execution_count": 145,
   "id": "copyrighted-skill",
   "metadata": {
    "colab": {
     "base_uri": "https://localhost:8080/",
     "height": 634
    },
    "id": "fvGX_BeG28TI",
    "outputId": "be39732d-ed95-4a41-d8e6-eeddcbd1e9b7"
   },
   "outputs": [
    {
     "data": {
      "image/png": "[encoded data removed]",
      "text/plain": [
       "<Figure size 720x720 with 2 Axes>"
      ]
     },
     "metadata": {
      "needs_background": "light"
     },
     "output_type": "display_data"
    }
   ],
   "source": [
    "\n",
    "from sklearn.metrics import confusion_matrix\n",
    "cm = confusion_matrix(df_test['sentiment_cls_value'].values, df_test['Predicted_Label'].values)\n",
    "\n",
    "import seaborn as sns\n",
    "import matplotlib.pyplot as plt     \n",
    "\n",
    "\n",
    "font = {'font.size': 14}\n",
    "plt.rcParams.update(font)\n",
    "plt.figure(figsize=(10, 10))\n",
    "ax= plt.subplot()\n",
    "sns.heatmap(cm, annot=True, fmt='g', ax=ax);  #annot=True to annotate cells, ftm='g' to disable scientific notation\n",
    "\n",
    "# labels, title and ticks\n",
    "ax.set_xlabel('Predicted labels');ax.set_ylabel('True labels'); \n",
    "ax.set_title('Confusion Matrix'); \n",
    "ax.xaxis.set_ticklabels(list(categories.values())); ax.yaxis.set_ticklabels(list(categories.values())[::-1]);\n",
    "\n"
   ]
  },
  {
   "cell_type": "code",
   "execution_count": 147,
   "id": "internal-healing",
   "metadata": {
    "colab": {
     "base_uri": "https://localhost:8080/"
    },
    "id": "rZRR5Kxo6gBl",
    "outputId": "bb3ece39-02be-49c3-cc4e-84d80f9fbb56"
   },
   "outputs": [
    {
     "data": {
      "text/plain": [
       "1    879\n",
       "3    750\n",
       "2    595\n",
       "4    542\n",
       "0    402\n",
       "Name: sentiment_cls_value, dtype: int64"
      ]
     },
     "execution_count": 147,
     "metadata": {},
     "output_type": "execute_result"
    }
   ],
   "source": [
    "df_test.sentiment_cls_value.value_counts()"
   ]
  },
  {
   "cell_type": "code",
   "execution_count": null,
   "id": "embedded-korean",
   "metadata": {},
   "outputs": [],
   "source": []
  }
 ],
 "metadata": {
  "accelerator": "GPU",
  "colab": {
   "name": "SST5-model-training.ipynb",
   "provenance": []
  },
  "kernelspec": {
   "display_name": "Python 3",
   "language": "python",
   "name": "python3"
  },
  "language_info": {
   "codemirror_mode": {
    "name": "ipython",
    "version": 3
   },
   "file_extension": ".py",
   "mimetype": "text/x-python",
   "name": "python",
   "nbconvert_exporter": "python",
   "pygments_lexer": "ipython3",
   "version": "3.6.13"
  }
 },
 "nbformat": 4,
 "nbformat_minor": 5
}
